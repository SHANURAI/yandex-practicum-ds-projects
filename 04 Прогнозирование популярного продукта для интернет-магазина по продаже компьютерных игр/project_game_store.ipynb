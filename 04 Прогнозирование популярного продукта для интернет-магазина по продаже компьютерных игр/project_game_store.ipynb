{
 "cells": [
  {
   "cell_type": "markdown",
   "id": "b86a1c3f",
   "metadata": {
    "toc": true
   },
   "source": [
    "<h1>Содержание<span class=\"tocSkip\"></span></h1>\n",
    "<div class=\"toc\"><ul class=\"toc-item\"><li><span><a href=\"#Загрузка-данных\" data-toc-modified-id=\"Загрузка-данных-1\"><span class=\"toc-item-num\">1&nbsp;&nbsp;</span>Загрузка данных</a></span></li><li><span><a href=\"#Подготовка-данных\" data-toc-modified-id=\"Подготовка-данных-2\"><span class=\"toc-item-num\">2&nbsp;&nbsp;</span>Подготовка данных</a></span></li><li><span><a href=\"#Исследовательский-анализ-данных\" data-toc-modified-id=\"Исследовательский-анализ-данных-3\"><span class=\"toc-item-num\">3&nbsp;&nbsp;</span>Исследовательский анализ данных</a></span></li><li><span><a href=\"#Портрет-пользователя-каждого-региона\" data-toc-modified-id=\"Портрет-пользователя-каждого-региона-4\"><span class=\"toc-item-num\">4&nbsp;&nbsp;</span>Портрет пользователя каждого региона</a></span><ul class=\"toc-item\"><li><span><a href=\"#NA---Североамериканский-регион\" data-toc-modified-id=\"NA---Североамериканский-регион-4.1\"><span class=\"toc-item-num\">4.1&nbsp;&nbsp;</span>NA - Североамериканский регион</a></span></li><li><span><a href=\"#EU---Европейский-регион\" data-toc-modified-id=\"EU---Европейский-регион-4.2\"><span class=\"toc-item-num\">4.2&nbsp;&nbsp;</span>EU - Европейский регион</a></span></li><li><span><a href=\"#JP---Япония\" data-toc-modified-id=\"JP---Япония-4.3\"><span class=\"toc-item-num\">4.3&nbsp;&nbsp;</span>JP - Япония</a></span></li><li><span><a href=\"#Различия-в-долях-продаж-на-разных-платформах\" data-toc-modified-id=\"Различия-в-долях-продаж-на-разных-платформах-4.4\"><span class=\"toc-item-num\">4.4&nbsp;&nbsp;</span>Различия в долях продаж на разных платформах</a></span></li><li><span><a href=\"#Различия-в-долях-продаж-игр-разных-жанров\" data-toc-modified-id=\"Различия-в-долях-продаж-игр-разных-жанров-4.5\"><span class=\"toc-item-num\">4.5&nbsp;&nbsp;</span>Различия в долях продаж игр разных жанров</a></span></li></ul></li><li><span><a href=\"#Проверка-гипотез\" data-toc-modified-id=\"Проверка-гипотез-5\"><span class=\"toc-item-num\">5&nbsp;&nbsp;</span>Проверка гипотез</a></span><ul class=\"toc-item\"><li><span><a href=\"#Средние-пользовательские-рейтинги-платформ-Xbox-One-и-PC-одинаковые\" data-toc-modified-id=\"Средние-пользовательские-рейтинги-платформ-Xbox-One-и-PC-одинаковые-5.1\"><span class=\"toc-item-num\">5.1&nbsp;&nbsp;</span>Средние пользовательские рейтинги платформ Xbox One и PC одинаковые</a></span></li><li><span><a href=\"#Средние-пользовательские-рейтинги-жанров-Action-и-Sports-разные\" data-toc-modified-id=\"Средние-пользовательские-рейтинги-жанров-Action-и-Sports-разные-5.2\"><span class=\"toc-item-num\">5.2&nbsp;&nbsp;</span>Средние пользовательские рейтинги жанров Action и Sports разные</a></span></li></ul></li><li><span><a href=\"#Выводы-по-проделанной-работе\" data-toc-modified-id=\"Выводы-по-проделанной-работе-6\"><span class=\"toc-item-num\">6&nbsp;&nbsp;</span>Выводы по проделанной работе</a></span></li></ul></div>"
   ]
  },
  {
   "cell_type": "markdown",
   "id": "1c4adfa5",
   "metadata": {},
   "source": [
    "<h1>Сборный проект<span class=\"tocSkip\"></span></h1>\n",
    "\n",
    "Интернет-магазин «Стримчик» продаёт по всему миру компьютерные игры. Из открытых источников доступны исторические данные о продажах игр, оценки пользователей и экспертов, жанры и платформы (например, Xbox или PlayStation). Необходимо выявить определяющие успешность игры закономерности. Это позволит сделать ставку на потенциально популярный продукт и спланировать рекламные кампании.\n",
    "\n",
    "Данные собраны до 2016 года. Представим, что сейчас декабрь 2016 г., и планируется кампания на 2017-й. Нужно отработать принцип работы с данными. \n",
    "\n",
    "В наборе данных попадается аббревиатура ESRB (Entertainment Software Rating Board) — это ассоциация, определяющая возрастной рейтинг компьютерных игр. ESRB оценивает игровой контент и присваивает ему подходящую возрастную категорию, например, «Для взрослых», «Для детей младшего возраста» или «Для подростков»."
   ]
  },
  {
   "cell_type": "markdown",
   "id": "032b22bf",
   "metadata": {},
   "source": [
    "## Загрузка данных"
   ]
  },
  {
   "cell_type": "markdown",
   "id": "cd317836",
   "metadata": {},
   "source": [
    "Импортируем необходимые библиотеки"
   ]
  },
  {
   "cell_type": "code",
   "execution_count": 1,
   "id": "e43ab752",
   "metadata": {},
   "outputs": [],
   "source": [
    "import pandas as pd\n",
    "import numpy as np\n",
    "import matplotlib.pyplot as plt\n",
    "from scipy import stats as st\n",
    "import seaborn as sns"
   ]
  },
  {
   "cell_type": "markdown",
   "id": "0d2f5325",
   "metadata": {},
   "source": [
    "Выведем на экран первые 10 строчек датафрейма `data` на экран"
   ]
  },
  {
   "cell_type": "code",
   "execution_count": 3,
   "id": "26ecaf0a",
   "metadata": {},
   "outputs": [
    {
     "data": {
      "text/html": [
       "<div>\n",
       "<style scoped>\n",
       "    .dataframe tbody tr th:only-of-type {\n",
       "        vertical-align: middle;\n",
       "    }\n",
       "\n",
       "    .dataframe tbody tr th {\n",
       "        vertical-align: top;\n",
       "    }\n",
       "\n",
       "    .dataframe thead th {\n",
       "        text-align: right;\n",
       "    }\n",
       "</style>\n",
       "<table border=\"1\" class=\"dataframe\">\n",
       "  <thead>\n",
       "    <tr style=\"text-align: right;\">\n",
       "      <th></th>\n",
       "      <th>Name</th>\n",
       "      <th>Platform</th>\n",
       "      <th>Year_of_Release</th>\n",
       "      <th>Genre</th>\n",
       "      <th>NA_sales</th>\n",
       "      <th>EU_sales</th>\n",
       "      <th>JP_sales</th>\n",
       "      <th>Other_sales</th>\n",
       "      <th>Critic_Score</th>\n",
       "      <th>User_Score</th>\n",
       "      <th>Rating</th>\n",
       "    </tr>\n",
       "  </thead>\n",
       "  <tbody>\n",
       "    <tr>\n",
       "      <th>0</th>\n",
       "      <td>Wii Sports</td>\n",
       "      <td>Wii</td>\n",
       "      <td>2006.0</td>\n",
       "      <td>Sports</td>\n",
       "      <td>41.36</td>\n",
       "      <td>28.96</td>\n",
       "      <td>3.77</td>\n",
       "      <td>8.45</td>\n",
       "      <td>76.0</td>\n",
       "      <td>8</td>\n",
       "      <td>E</td>\n",
       "    </tr>\n",
       "    <tr>\n",
       "      <th>1</th>\n",
       "      <td>Super Mario Bros.</td>\n",
       "      <td>NES</td>\n",
       "      <td>1985.0</td>\n",
       "      <td>Platform</td>\n",
       "      <td>29.08</td>\n",
       "      <td>3.58</td>\n",
       "      <td>6.81</td>\n",
       "      <td>0.77</td>\n",
       "      <td>NaN</td>\n",
       "      <td>NaN</td>\n",
       "      <td>NaN</td>\n",
       "    </tr>\n",
       "    <tr>\n",
       "      <th>2</th>\n",
       "      <td>Mario Kart Wii</td>\n",
       "      <td>Wii</td>\n",
       "      <td>2008.0</td>\n",
       "      <td>Racing</td>\n",
       "      <td>15.68</td>\n",
       "      <td>12.76</td>\n",
       "      <td>3.79</td>\n",
       "      <td>3.29</td>\n",
       "      <td>82.0</td>\n",
       "      <td>8.3</td>\n",
       "      <td>E</td>\n",
       "    </tr>\n",
       "    <tr>\n",
       "      <th>3</th>\n",
       "      <td>Wii Sports Resort</td>\n",
       "      <td>Wii</td>\n",
       "      <td>2009.0</td>\n",
       "      <td>Sports</td>\n",
       "      <td>15.61</td>\n",
       "      <td>10.93</td>\n",
       "      <td>3.28</td>\n",
       "      <td>2.95</td>\n",
       "      <td>80.0</td>\n",
       "      <td>8</td>\n",
       "      <td>E</td>\n",
       "    </tr>\n",
       "    <tr>\n",
       "      <th>4</th>\n",
       "      <td>Pokemon Red/Pokemon Blue</td>\n",
       "      <td>GB</td>\n",
       "      <td>1996.0</td>\n",
       "      <td>Role-Playing</td>\n",
       "      <td>11.27</td>\n",
       "      <td>8.89</td>\n",
       "      <td>10.22</td>\n",
       "      <td>1.00</td>\n",
       "      <td>NaN</td>\n",
       "      <td>NaN</td>\n",
       "      <td>NaN</td>\n",
       "    </tr>\n",
       "    <tr>\n",
       "      <th>5</th>\n",
       "      <td>Tetris</td>\n",
       "      <td>GB</td>\n",
       "      <td>1989.0</td>\n",
       "      <td>Puzzle</td>\n",
       "      <td>23.20</td>\n",
       "      <td>2.26</td>\n",
       "      <td>4.22</td>\n",
       "      <td>0.58</td>\n",
       "      <td>NaN</td>\n",
       "      <td>NaN</td>\n",
       "      <td>NaN</td>\n",
       "    </tr>\n",
       "    <tr>\n",
       "      <th>6</th>\n",
       "      <td>New Super Mario Bros.</td>\n",
       "      <td>DS</td>\n",
       "      <td>2006.0</td>\n",
       "      <td>Platform</td>\n",
       "      <td>11.28</td>\n",
       "      <td>9.14</td>\n",
       "      <td>6.50</td>\n",
       "      <td>2.88</td>\n",
       "      <td>89.0</td>\n",
       "      <td>8.5</td>\n",
       "      <td>E</td>\n",
       "    </tr>\n",
       "    <tr>\n",
       "      <th>7</th>\n",
       "      <td>Wii Play</td>\n",
       "      <td>Wii</td>\n",
       "      <td>2006.0</td>\n",
       "      <td>Misc</td>\n",
       "      <td>13.96</td>\n",
       "      <td>9.18</td>\n",
       "      <td>2.93</td>\n",
       "      <td>2.84</td>\n",
       "      <td>58.0</td>\n",
       "      <td>6.6</td>\n",
       "      <td>E</td>\n",
       "    </tr>\n",
       "    <tr>\n",
       "      <th>8</th>\n",
       "      <td>New Super Mario Bros. Wii</td>\n",
       "      <td>Wii</td>\n",
       "      <td>2009.0</td>\n",
       "      <td>Platform</td>\n",
       "      <td>14.44</td>\n",
       "      <td>6.94</td>\n",
       "      <td>4.70</td>\n",
       "      <td>2.24</td>\n",
       "      <td>87.0</td>\n",
       "      <td>8.4</td>\n",
       "      <td>E</td>\n",
       "    </tr>\n",
       "    <tr>\n",
       "      <th>9</th>\n",
       "      <td>Duck Hunt</td>\n",
       "      <td>NES</td>\n",
       "      <td>1984.0</td>\n",
       "      <td>Shooter</td>\n",
       "      <td>26.93</td>\n",
       "      <td>0.63</td>\n",
       "      <td>0.28</td>\n",
       "      <td>0.47</td>\n",
       "      <td>NaN</td>\n",
       "      <td>NaN</td>\n",
       "      <td>NaN</td>\n",
       "    </tr>\n",
       "  </tbody>\n",
       "</table>\n",
       "</div>"
      ],
      "text/plain": [
       "                        Name Platform  Year_of_Release         Genre  \\\n",
       "0                 Wii Sports      Wii           2006.0        Sports   \n",
       "1          Super Mario Bros.      NES           1985.0      Platform   \n",
       "2             Mario Kart Wii      Wii           2008.0        Racing   \n",
       "3          Wii Sports Resort      Wii           2009.0        Sports   \n",
       "4   Pokemon Red/Pokemon Blue       GB           1996.0  Role-Playing   \n",
       "5                     Tetris       GB           1989.0        Puzzle   \n",
       "6      New Super Mario Bros.       DS           2006.0      Platform   \n",
       "7                   Wii Play      Wii           2006.0          Misc   \n",
       "8  New Super Mario Bros. Wii      Wii           2009.0      Platform   \n",
       "9                  Duck Hunt      NES           1984.0       Shooter   \n",
       "\n",
       "   NA_sales  EU_sales  JP_sales  Other_sales  Critic_Score User_Score Rating  \n",
       "0     41.36     28.96      3.77         8.45          76.0          8      E  \n",
       "1     29.08      3.58      6.81         0.77           NaN        NaN    NaN  \n",
       "2     15.68     12.76      3.79         3.29          82.0        8.3      E  \n",
       "3     15.61     10.93      3.28         2.95          80.0          8      E  \n",
       "4     11.27      8.89     10.22         1.00           NaN        NaN    NaN  \n",
       "5     23.20      2.26      4.22         0.58           NaN        NaN    NaN  \n",
       "6     11.28      9.14      6.50         2.88          89.0        8.5      E  \n",
       "7     13.96      9.18      2.93         2.84          58.0        6.6      E  \n",
       "8     14.44      6.94      4.70         2.24          87.0        8.4      E  \n",
       "9     26.93      0.63      0.28         0.47           NaN        NaN    NaN  "
      ]
     },
     "execution_count": 3,
     "metadata": {},
     "output_type": "execute_result"
    }
   ],
   "source": [
    "data.head(10)"
   ]
  },
  {
   "cell_type": "markdown",
   "id": "996cc76d",
   "metadata": {},
   "source": [
    "Выведем основную информацию о датафрейме"
   ]
  },
  {
   "cell_type": "code",
   "execution_count": 4,
   "id": "351d23c9",
   "metadata": {},
   "outputs": [
    {
     "name": "stdout",
     "output_type": "stream",
     "text": [
      "<class 'pandas.core.frame.DataFrame'>\n",
      "RangeIndex: 16715 entries, 0 to 16714\n",
      "Data columns (total 11 columns):\n",
      " #   Column           Non-Null Count  Dtype  \n",
      "---  ------           --------------  -----  \n",
      " 0   Name             16713 non-null  object \n",
      " 1   Platform         16715 non-null  object \n",
      " 2   Year_of_Release  16446 non-null  float64\n",
      " 3   Genre            16713 non-null  object \n",
      " 4   NA_sales         16715 non-null  float64\n",
      " 5   EU_sales         16715 non-null  float64\n",
      " 6   JP_sales         16715 non-null  float64\n",
      " 7   Other_sales      16715 non-null  float64\n",
      " 8   Critic_Score     8137 non-null   float64\n",
      " 9   User_Score       10014 non-null  object \n",
      " 10  Rating           9949 non-null   object \n",
      "dtypes: float64(6), object(5)\n",
      "memory usage: 1.4+ MB\n"
     ]
    }
   ],
   "source": [
    "data.info()"
   ]
  },
  {
   "cell_type": "markdown",
   "id": "6841ae49",
   "metadata": {},
   "source": [
    "В данном датафрейме хранятся данные об играх (название, платформа, год релиза, жанр, цены в разных регионах, оценка критиков, оценка пользователей и рейтинг ESRB). Все столбцы необходимо будет привести к нижнему регистру. Тип данных стоит поменять в столбце с оценками пользователей (на вещественный) и с годом релиза (на целочисленный), однако у второго в столбце есть значения NaN, которые являются вещественными."
   ]
  },
  {
   "cell_type": "markdown",
   "id": "2e3a5fd6",
   "metadata": {},
   "source": [
    "## Подготовка данных"
   ]
  },
  {
   "cell_type": "markdown",
   "id": "fd57ec63",
   "metadata": {},
   "source": [
    "Приведем к нижнему регистру названия столбцов."
   ]
  },
  {
   "cell_type": "code",
   "execution_count": 5,
   "id": "4553958f",
   "metadata": {},
   "outputs": [],
   "source": [
    "data.columns = data.columns.str.lower()"
   ]
  },
  {
   "cell_type": "markdown",
   "id": "a2076fd8",
   "metadata": {},
   "source": [
    "Обработаем данные в столбце с оценкой пользователей. Значения `tbd` (TBD означает \"To Be Determined\" - т.е., оценка будет определена позже) стоит заменить на NaN (так как практической пользы от этого значения нет), а дальше изменить тип данных в столбце на вещественный.\n"
   ]
  },
  {
   "cell_type": "code",
   "execution_count": 6,
   "id": "b1101e89",
   "metadata": {},
   "outputs": [],
   "source": [
    "data.loc[data['user_score'] == 'tbd', 'user_score'] = 'NaN'"
   ]
  },
  {
   "cell_type": "code",
   "execution_count": 7,
   "id": "8ab176d3",
   "metadata": {},
   "outputs": [],
   "source": [
    "data['user_score'] = data['user_score'].astype(float)"
   ]
  },
  {
   "cell_type": "markdown",
   "id": "5c74f68b",
   "metadata": {},
   "source": [
    "Проверим количество строк-дубликатов"
   ]
  },
  {
   "cell_type": "code",
   "execution_count": 8,
   "id": "4eb0490a",
   "metadata": {},
   "outputs": [
    {
     "data": {
      "text/plain": [
       "0"
      ]
     },
     "execution_count": 8,
     "metadata": {},
     "output_type": "execute_result"
    }
   ],
   "source": [
    "data.duplicated().sum()"
   ]
  },
  {
   "cell_type": "markdown",
   "id": "d4a65225",
   "metadata": {},
   "source": [
    "Проверим количество пропусков в столбцах"
   ]
  },
  {
   "cell_type": "code",
   "execution_count": 9,
   "id": "c585da98",
   "metadata": {},
   "outputs": [
    {
     "data": {
      "text/plain": [
       "name                  2\n",
       "platform              0\n",
       "year_of_release     269\n",
       "genre                 2\n",
       "na_sales              0\n",
       "eu_sales              0\n",
       "jp_sales              0\n",
       "other_sales           0\n",
       "critic_score       8578\n",
       "user_score         9125\n",
       "rating             6766\n",
       "dtype: int64"
      ]
     },
     "execution_count": 9,
     "metadata": {},
     "output_type": "execute_result"
    }
   ],
   "source": [
    "data.isna().sum()"
   ]
  },
  {
   "cell_type": "markdown",
   "id": "bfc8da03",
   "metadata": {},
   "source": [
    "2 пропуска в названии и в жанре игры, проверим, возможно это две пустые строки (это могло произойти из-за человеческого фактора)"
   ]
  },
  {
   "cell_type": "code",
   "execution_count": 10,
   "id": "1c580f14",
   "metadata": {},
   "outputs": [
    {
     "data": {
      "text/html": [
       "<div>\n",
       "<style scoped>\n",
       "    .dataframe tbody tr th:only-of-type {\n",
       "        vertical-align: middle;\n",
       "    }\n",
       "\n",
       "    .dataframe tbody tr th {\n",
       "        vertical-align: top;\n",
       "    }\n",
       "\n",
       "    .dataframe thead th {\n",
       "        text-align: right;\n",
       "    }\n",
       "</style>\n",
       "<table border=\"1\" class=\"dataframe\">\n",
       "  <thead>\n",
       "    <tr style=\"text-align: right;\">\n",
       "      <th></th>\n",
       "      <th>name</th>\n",
       "      <th>platform</th>\n",
       "      <th>year_of_release</th>\n",
       "      <th>genre</th>\n",
       "      <th>na_sales</th>\n",
       "      <th>eu_sales</th>\n",
       "      <th>jp_sales</th>\n",
       "      <th>other_sales</th>\n",
       "      <th>critic_score</th>\n",
       "      <th>user_score</th>\n",
       "      <th>rating</th>\n",
       "    </tr>\n",
       "  </thead>\n",
       "  <tbody>\n",
       "    <tr>\n",
       "      <th>659</th>\n",
       "      <td>NaN</td>\n",
       "      <td>GEN</td>\n",
       "      <td>1993.0</td>\n",
       "      <td>NaN</td>\n",
       "      <td>1.78</td>\n",
       "      <td>0.53</td>\n",
       "      <td>0.00</td>\n",
       "      <td>0.08</td>\n",
       "      <td>NaN</td>\n",
       "      <td>NaN</td>\n",
       "      <td>NaN</td>\n",
       "    </tr>\n",
       "    <tr>\n",
       "      <th>14244</th>\n",
       "      <td>NaN</td>\n",
       "      <td>GEN</td>\n",
       "      <td>1993.0</td>\n",
       "      <td>NaN</td>\n",
       "      <td>0.00</td>\n",
       "      <td>0.00</td>\n",
       "      <td>0.03</td>\n",
       "      <td>0.00</td>\n",
       "      <td>NaN</td>\n",
       "      <td>NaN</td>\n",
       "      <td>NaN</td>\n",
       "    </tr>\n",
       "  </tbody>\n",
       "</table>\n",
       "</div>"
      ],
      "text/plain": [
       "      name platform  year_of_release genre  na_sales  eu_sales  jp_sales  \\\n",
       "659    NaN      GEN           1993.0   NaN      1.78      0.53      0.00   \n",
       "14244  NaN      GEN           1993.0   NaN      0.00      0.00      0.03   \n",
       "\n",
       "       other_sales  critic_score  user_score rating  \n",
       "659           0.08           NaN         NaN    NaN  \n",
       "14244         0.00           NaN         NaN    NaN  "
      ]
     },
     "execution_count": 10,
     "metadata": {},
     "output_type": "execute_result"
    }
   ],
   "source": [
    "data.loc[data['name'].isna()]"
   ]
  },
  {
   "cell_type": "markdown",
   "id": "619b649d",
   "metadata": {},
   "source": [
    "Похоже, что это одна и та же игра, просто вторая строка хранит в себе продажи на Японском рынке, а первая - на остальных. Следует объединить эти две строки. Сам пропуск в названии и жанре игры оставим как есть."
   ]
  },
  {
   "cell_type": "code",
   "execution_count": 11,
   "id": "1e10dc50",
   "metadata": {},
   "outputs": [],
   "source": [
    "data.loc[659, 'jp_sales'] = 0.03\n",
    "data = data.drop(14244)"
   ]
  },
  {
   "cell_type": "markdown",
   "id": "65b12aeb",
   "metadata": {},
   "source": [
    "В данном исследовании важен год релиза игры (это могло произойти из-за человеческого фактора), поэтому стоит удалить все строки, где он пропущен. Тип данных после этого можно поменять на целочисленный, так как у года нет дробной части"
   ]
  },
  {
   "cell_type": "code",
   "execution_count": 12,
   "id": "1c1b680f",
   "metadata": {},
   "outputs": [],
   "source": [
    "data = data.dropna(subset=['year_of_release'])"
   ]
  },
  {
   "cell_type": "code",
   "execution_count": 13,
   "id": "e054c36b",
   "metadata": {},
   "outputs": [],
   "source": [
    "data['year_of_release'] = data['year_of_release'].astype(int)"
   ]
  },
  {
   "cell_type": "markdown",
   "id": "7a1f9451",
   "metadata": {},
   "source": [
    "Оценка критиков, пользователей и рейтинг ESRB нельзя заполнить логически, а удалять эти данные нецелесообразно, так как будет потеряно как минимум 50% всех данных, поэтому такие строки лучше оставить нетронутыми (причиной пропусков этих данных частично стало то, что игру еще не оценили или что сотрудники «Стримчика» не заполнили эти данные)"
   ]
  },
  {
   "cell_type": "markdown",
   "id": "09bcc003",
   "metadata": {},
   "source": [
    "Посчитаем суммарные продажи во всех регионах и запишем их в отдельный столбец `total_sales`"
   ]
  },
  {
   "cell_type": "code",
   "execution_count": 14,
   "id": "762a750f",
   "metadata": {},
   "outputs": [],
   "source": [
    "data['total_sales'] = data[['na_sales', 'eu_sales',\n",
    "                            'jp_sales', 'other_sales']].sum(axis=1)"
   ]
  },
  {
   "cell_type": "markdown",
   "id": "333d68a5",
   "metadata": {},
   "source": [
    "На данном этапе данные были подготовлены к дальнейшему анализу: улучшили названия столбцов, а также их типы данных, обработали пропуски в столбцах с названием, жанром и годом релиза игры, а также добавили столбец с суммарными продажами игры."
   ]
  },
  {
   "cell_type": "markdown",
   "id": "c78cd9b0",
   "metadata": {},
   "source": [
    "## Исследовательский анализ данных"
   ]
  },
  {
   "cell_type": "markdown",
   "id": "720f8f02",
   "metadata": {},
   "source": [
    "Посмотрим, сколько игр выпускалось в разные годы."
   ]
  },
  {
   "cell_type": "code",
   "execution_count": 15,
   "id": "b0d498f7",
   "metadata": {},
   "outputs": [
    {
     "data": {
      "text/html": [
       "<div>\n",
       "<style scoped>\n",
       "    .dataframe tbody tr th:only-of-type {\n",
       "        vertical-align: middle;\n",
       "    }\n",
       "\n",
       "    .dataframe tbody tr th {\n",
       "        vertical-align: top;\n",
       "    }\n",
       "\n",
       "    .dataframe thead th {\n",
       "        text-align: right;\n",
       "    }\n",
       "</style>\n",
       "<table border=\"1\" class=\"dataframe\">\n",
       "  <thead>\n",
       "    <tr style=\"text-align: right;\">\n",
       "      <th></th>\n",
       "      <th>name</th>\n",
       "      <th>platform</th>\n",
       "      <th>year_of_release</th>\n",
       "      <th>genre</th>\n",
       "      <th>na_sales</th>\n",
       "      <th>eu_sales</th>\n",
       "      <th>jp_sales</th>\n",
       "      <th>other_sales</th>\n",
       "      <th>critic_score</th>\n",
       "      <th>user_score</th>\n",
       "      <th>rating</th>\n",
       "      <th>total_sales</th>\n",
       "    </tr>\n",
       "  </thead>\n",
       "  <tbody>\n",
       "    <tr>\n",
       "      <th>604</th>\n",
       "      <td>Madden NFL 13</td>\n",
       "      <td>PS3</td>\n",
       "      <td>2012</td>\n",
       "      <td>Sports</td>\n",
       "      <td>2.11</td>\n",
       "      <td>0.22</td>\n",
       "      <td>0.00</td>\n",
       "      <td>0.23</td>\n",
       "      <td>83.0</td>\n",
       "      <td>5.5</td>\n",
       "      <td>E</td>\n",
       "      <td>2.56</td>\n",
       "    </tr>\n",
       "    <tr>\n",
       "      <th>16230</th>\n",
       "      <td>Madden NFL 13</td>\n",
       "      <td>PS3</td>\n",
       "      <td>2012</td>\n",
       "      <td>Sports</td>\n",
       "      <td>0.00</td>\n",
       "      <td>0.01</td>\n",
       "      <td>0.00</td>\n",
       "      <td>0.00</td>\n",
       "      <td>83.0</td>\n",
       "      <td>5.5</td>\n",
       "      <td>E</td>\n",
       "      <td>0.01</td>\n",
       "    </tr>\n",
       "    <tr>\n",
       "      <th>1190</th>\n",
       "      <td>Need for Speed: Most Wanted</td>\n",
       "      <td>X360</td>\n",
       "      <td>2012</td>\n",
       "      <td>Racing</td>\n",
       "      <td>0.62</td>\n",
       "      <td>0.78</td>\n",
       "      <td>0.01</td>\n",
       "      <td>0.15</td>\n",
       "      <td>83.0</td>\n",
       "      <td>8.5</td>\n",
       "      <td>T</td>\n",
       "      <td>1.56</td>\n",
       "    </tr>\n",
       "    <tr>\n",
       "      <th>1591</th>\n",
       "      <td>Need for Speed: Most Wanted</td>\n",
       "      <td>X360</td>\n",
       "      <td>2005</td>\n",
       "      <td>Racing</td>\n",
       "      <td>1.00</td>\n",
       "      <td>0.13</td>\n",
       "      <td>0.02</td>\n",
       "      <td>0.10</td>\n",
       "      <td>83.0</td>\n",
       "      <td>8.5</td>\n",
       "      <td>T</td>\n",
       "      <td>1.25</td>\n",
       "    </tr>\n",
       "    <tr>\n",
       "      <th>5972</th>\n",
       "      <td>Need for Speed: Most Wanted</td>\n",
       "      <td>PC</td>\n",
       "      <td>2005</td>\n",
       "      <td>Racing</td>\n",
       "      <td>0.02</td>\n",
       "      <td>0.23</td>\n",
       "      <td>0.00</td>\n",
       "      <td>0.04</td>\n",
       "      <td>82.0</td>\n",
       "      <td>8.5</td>\n",
       "      <td>T</td>\n",
       "      <td>0.29</td>\n",
       "    </tr>\n",
       "    <tr>\n",
       "      <th>11715</th>\n",
       "      <td>Need for Speed: Most Wanted</td>\n",
       "      <td>PC</td>\n",
       "      <td>2012</td>\n",
       "      <td>Racing</td>\n",
       "      <td>0.00</td>\n",
       "      <td>0.06</td>\n",
       "      <td>0.00</td>\n",
       "      <td>0.02</td>\n",
       "      <td>82.0</td>\n",
       "      <td>8.5</td>\n",
       "      <td>T</td>\n",
       "      <td>0.08</td>\n",
       "    </tr>\n",
       "  </tbody>\n",
       "</table>\n",
       "</div>"
      ],
      "text/plain": [
       "                              name platform  year_of_release   genre  \\\n",
       "604                  Madden NFL 13      PS3             2012  Sports   \n",
       "16230                Madden NFL 13      PS3             2012  Sports   \n",
       "1190   Need for Speed: Most Wanted     X360             2012  Racing   \n",
       "1591   Need for Speed: Most Wanted     X360             2005  Racing   \n",
       "5972   Need for Speed: Most Wanted       PC             2005  Racing   \n",
       "11715  Need for Speed: Most Wanted       PC             2012  Racing   \n",
       "\n",
       "       na_sales  eu_sales  jp_sales  other_sales  critic_score  user_score  \\\n",
       "604        2.11      0.22      0.00         0.23          83.0         5.5   \n",
       "16230      0.00      0.01      0.00         0.00          83.0         5.5   \n",
       "1190       0.62      0.78      0.01         0.15          83.0         8.5   \n",
       "1591       1.00      0.13      0.02         0.10          83.0         8.5   \n",
       "5972       0.02      0.23      0.00         0.04          82.0         8.5   \n",
       "11715      0.00      0.06      0.00         0.02          82.0         8.5   \n",
       "\n",
       "      rating  total_sales  \n",
       "604        E         2.56  \n",
       "16230      E         0.01  \n",
       "1190       T         1.56  \n",
       "1591       T         1.25  \n",
       "5972       T         0.29  \n",
       "11715      T         0.08  "
      ]
     },
     "execution_count": 15,
     "metadata": {},
     "output_type": "execute_result"
    }
   ],
   "source": [
    "data[data.duplicated(\n",
    "    subset=['name', 'platform'],\n",
    "    keep=False\n",
    ")].sort_values(by='name')"
   ]
  },
  {
   "cell_type": "markdown",
   "id": "de495f37",
   "metadata": {},
   "source": [
    "Игры, у которых совпадает название, платформа и год релиза, объединим в одну строку "
   ]
  },
  {
   "cell_type": "code",
   "execution_count": 16,
   "id": "8f395034",
   "metadata": {},
   "outputs": [],
   "source": [
    "data = data.groupby(\n",
    "    by=['name', 'platform', 'year_of_release'],\n",
    "    as_index=False\n",
    ").agg(\n",
    "    {'name': 'first',\n",
    "     'platform': 'first',\n",
    "     'year_of_release': 'first',\n",
    "     'genre': 'first',\n",
    "     'na_sales': 'sum',\n",
    "     'eu_sales': 'sum',\n",
    "     'jp_sales': 'sum',\n",
    "     'other_sales': 'sum',\n",
    "     'critic_score': 'first',\n",
    "     'user_score': 'first',\n",
    "     'rating': 'first',\n",
    "     'total_sales': 'sum'\n",
    "     }\n",
    ")"
   ]
  },
  {
   "cell_type": "markdown",
   "id": "0a1851d6",
   "metadata": {},
   "source": [
    "Остальные игры стоит считать разными, так как это, скорее всего, перевыпуск этой игры в другой год (с измененной графикой и т.д.)"
   ]
  },
  {
   "cell_type": "markdown",
   "id": "b41c7e5a",
   "metadata": {},
   "source": [
    "Посмотрим, как менялись продажи по платформам."
   ]
  },
  {
   "cell_type": "code",
   "execution_count": 17,
   "id": "1e75e6f7",
   "metadata": {},
   "outputs": [
    {
     "data": {
      "text/plain": [
       "platform\n",
       "PS2     1233.56\n",
       "X360     961.24\n",
       "PS3      931.34\n",
       "Wii      891.18\n",
       "DS       802.78\n",
       "PS       727.58\n",
       "PS4      314.14\n",
       "GBA      312.88\n",
       "PSP      289.53\n",
       "3DS      257.81\n",
       "PC       255.76\n",
       "GB       254.43\n",
       "XB       251.57\n",
       "NES      251.05\n",
       "N64      218.01\n",
       "SNES     200.04\n",
       "GC       196.73\n",
       "XOne     159.32\n",
       "2600      86.48\n",
       "WiiU      82.19\n",
       "PSV       53.81\n",
       "SAT       33.59\n",
       "GEN       28.35\n",
       "DC        15.95\n",
       "SCD        1.86\n",
       "NG         1.44\n",
       "WS         1.42\n",
       "TG16       0.16\n",
       "3DO        0.10\n",
       "GG         0.04\n",
       "PCFX       0.03\n",
       "Name: total, dtype: float64"
      ]
     },
     "execution_count": 17,
     "metadata": {},
     "output_type": "execute_result"
    }
   ],
   "source": [
    "platform_year = data.pivot_table(\n",
    "    index='platform',\n",
    "    values='total_sales',\n",
    "    columns='year_of_release',\n",
    "    aggfunc='sum'\n",
    ")\n",
    "platform_year['total'] = platform_year.loc[:, :].sum(axis=1)\n",
    "platform_year.sort_values(by='total', ascending=False)['total']"
   ]
  },
  {
   "cell_type": "markdown",
   "id": "ec76ca61",
   "metadata": {},
   "source": [
    "Рассмотрим первые 6 платформ с наибольшими суммарными продажами и построим распределение по годам"
   ]
  },
  {
   "cell_type": "code",
   "execution_count": 18,
   "id": "8b42d5c4",
   "metadata": {},
   "outputs": [
    {
     "data": {
      "image/png": "[encoded data removed]",
      "text/plain": [
       "<Figure size 640x480 with 1 Axes>"
      ]
     },
     "metadata": {},
     "output_type": "display_data"
    }
   ],
   "source": [
    "ps2_distribution = platform_year.loc['PS2', 1980:2016]\n",
    "plt.plot(ps2_distribution.index, ps2_distribution.values)\n",
    "plt.title('Продажи на PS2')\n",
    "plt.xlabel('Год')\n",
    "plt.ylabel('Количество')\n",
    "plt.grid(True)"
   ]
  },
  {
   "cell_type": "code",
   "execution_count": 19,
   "id": "886846c4",
   "metadata": {},
   "outputs": [
    {
     "data": {
      "image/png": "[encoded data removed]",
      "text/plain": [
       "<Figure size 640x480 with 1 Axes>"
      ]
     },
     "metadata": {},
     "output_type": "display_data"
    }
   ],
   "source": [
    "x360_distribution = platform_year.loc['X360', 1980:2016]\n",
    "plt.plot(x360_distribution.index, x360_distribution.values)\n",
    "plt.title('Продажи на X360')\n",
    "plt.xlabel('Год')\n",
    "plt.ylabel('Количество')\n",
    "plt.grid(True)"
   ]
  },
  {
   "cell_type": "code",
   "execution_count": 20,
   "id": "24916be5",
   "metadata": {},
   "outputs": [
    {
     "data": {
      "image/png": "[encoded data removed]",
      "text/plain": [
       "<Figure size 640x480 with 1 Axes>"
      ]
     },
     "metadata": {},
     "output_type": "display_data"
    }
   ],
   "source": [
    "ps3_distribution = platform_year.loc['PS3', 1980:2016]\n",
    "plt.plot(ps3_distribution.index, ps3_distribution.values)\n",
    "plt.title('Продажи на PS3')\n",
    "plt.xlabel('Год')\n",
    "plt.ylabel('Количество')\n",
    "plt.grid(True)"
   ]
  },
  {
   "cell_type": "code",
   "execution_count": 21,
   "id": "6fb63b8d",
   "metadata": {},
   "outputs": [
    {
     "data": {
      "image/png": "[encoded data removed]",
      "text/plain": [
       "<Figure size 640x480 with 1 Axes>"
      ]
     },
     "metadata": {},
     "output_type": "display_data"
    }
   ],
   "source": [
    "wii_distribution = platform_year.loc['Wii', 1980:2016]\n",
    "plt.plot(wii_distribution.index, wii_distribution.values)\n",
    "plt.title('Продажи на Wii')\n",
    "plt.xlabel('Год')\n",
    "plt.ylabel('Количество')\n",
    "plt.grid(True)"
   ]
  },
  {
   "cell_type": "code",
   "execution_count": 22,
   "id": "fea564a0",
   "metadata": {},
   "outputs": [
    {
     "data": {
      "image/png": "[encoded data removed]",
      "text/plain": [
       "<Figure size 640x480 with 1 Axes>"
      ]
     },
     "metadata": {},
     "output_type": "display_data"
    }
   ],
   "source": [
    "ds_distribution = platform_year.loc['DS', 1980:2016]\n",
    "plt.plot(ds_distribution.index, ds_distribution.values)\n",
    "plt.title('Продажи на DS')\n",
    "plt.xlabel('Год')\n",
    "plt.ylabel('Количество')\n",
    "plt.grid(True)"
   ]
  },
  {
   "cell_type": "code",
   "execution_count": 23,
   "id": "390c70a7",
   "metadata": {},
   "outputs": [
    {
     "data": {
      "image/png": "[encoded data removed]",
      "text/plain": [
       "<Figure size 640x480 with 1 Axes>"
      ]
     },
     "metadata": {},
     "output_type": "display_data"
    }
   ],
   "source": [
    "ps_distribution = platform_year.loc['PS', 1980:2016]\n",
    "plt.plot(ps_distribution.index, ps_distribution.values)\n",
    "plt.title('Продажи на PS')\n",
    "plt.xlabel('Год')\n",
    "plt.ylabel('Количество')\n",
    "plt.grid(True)"
   ]
  },
  {
   "cell_type": "markdown",
   "id": "defe2c5c",
   "metadata": {},
   "source": [
    "Данные графики наглядно показывают, что за 2014-2016 появляются новые и исчезают старые платформы"
   ]
  },
  {
   "cell_type": "markdown",
   "id": "209a19db",
   "metadata": {},
   "source": [
    "Соответствующий **актуальный период** - с 2014 по 2016 год. Не будем учитывать данные за предыдущие годы."
   ]
  },
  {
   "cell_type": "code",
   "execution_count": 24,
   "id": "b473d895",
   "metadata": {},
   "outputs": [],
   "source": [
    "actual_data = data.query('year_of_release >= 2014')"
   ]
  },
  {
   "cell_type": "code",
   "execution_count": 25,
   "id": "bea50934",
   "metadata": {},
   "outputs": [
    {
     "data": {
      "text/html": [
       "<div>\n",
       "<style scoped>\n",
       "    .dataframe tbody tr th:only-of-type {\n",
       "        vertical-align: middle;\n",
       "    }\n",
       "\n",
       "    .dataframe tbody tr th {\n",
       "        vertical-align: top;\n",
       "    }\n",
       "\n",
       "    .dataframe thead th {\n",
       "        text-align: right;\n",
       "    }\n",
       "</style>\n",
       "<table border=\"1\" class=\"dataframe\">\n",
       "  <thead>\n",
       "    <tr style=\"text-align: right;\">\n",
       "      <th>year_of_release</th>\n",
       "      <th>2014</th>\n",
       "      <th>2015</th>\n",
       "      <th>2016</th>\n",
       "      <th>total</th>\n",
       "    </tr>\n",
       "    <tr>\n",
       "      <th>platform</th>\n",
       "      <th></th>\n",
       "      <th></th>\n",
       "      <th></th>\n",
       "      <th></th>\n",
       "    </tr>\n",
       "  </thead>\n",
       "  <tbody>\n",
       "    <tr>\n",
       "      <th>PS4</th>\n",
       "      <td>100.00</td>\n",
       "      <td>118.90</td>\n",
       "      <td>69.25</td>\n",
       "      <td>288.15</td>\n",
       "    </tr>\n",
       "    <tr>\n",
       "      <th>XOne</th>\n",
       "      <td>54.07</td>\n",
       "      <td>60.14</td>\n",
       "      <td>26.15</td>\n",
       "      <td>140.36</td>\n",
       "    </tr>\n",
       "    <tr>\n",
       "      <th>3DS</th>\n",
       "      <td>43.76</td>\n",
       "      <td>27.78</td>\n",
       "      <td>15.14</td>\n",
       "      <td>86.68</td>\n",
       "    </tr>\n",
       "    <tr>\n",
       "      <th>PS3</th>\n",
       "      <td>47.76</td>\n",
       "      <td>16.82</td>\n",
       "      <td>3.60</td>\n",
       "      <td>68.18</td>\n",
       "    </tr>\n",
       "    <tr>\n",
       "      <th>X360</th>\n",
       "      <td>34.74</td>\n",
       "      <td>11.96</td>\n",
       "      <td>1.52</td>\n",
       "      <td>48.22</td>\n",
       "    </tr>\n",
       "    <tr>\n",
       "      <th>WiiU</th>\n",
       "      <td>22.03</td>\n",
       "      <td>16.35</td>\n",
       "      <td>4.60</td>\n",
       "      <td>42.98</td>\n",
       "    </tr>\n",
       "    <tr>\n",
       "      <th>PC</th>\n",
       "      <td>13.28</td>\n",
       "      <td>8.52</td>\n",
       "      <td>5.25</td>\n",
       "      <td>27.05</td>\n",
       "    </tr>\n",
       "    <tr>\n",
       "      <th>PSV</th>\n",
       "      <td>11.90</td>\n",
       "      <td>6.25</td>\n",
       "      <td>4.25</td>\n",
       "      <td>22.40</td>\n",
       "    </tr>\n",
       "    <tr>\n",
       "      <th>Wii</th>\n",
       "      <td>3.75</td>\n",
       "      <td>1.14</td>\n",
       "      <td>0.18</td>\n",
       "      <td>5.07</td>\n",
       "    </tr>\n",
       "    <tr>\n",
       "      <th>PSP</th>\n",
       "      <td>0.24</td>\n",
       "      <td>0.12</td>\n",
       "      <td>0.00</td>\n",
       "      <td>0.36</td>\n",
       "    </tr>\n",
       "  </tbody>\n",
       "</table>\n",
       "</div>"
      ],
      "text/plain": [
       "year_of_release    2014    2015   2016   total\n",
       "platform                                      \n",
       "PS4              100.00  118.90  69.25  288.15\n",
       "XOne              54.07   60.14  26.15  140.36\n",
       "3DS               43.76   27.78  15.14   86.68\n",
       "PS3               47.76   16.82   3.60   68.18\n",
       "X360              34.74   11.96   1.52   48.22\n",
       "WiiU              22.03   16.35   4.60   42.98\n",
       "PC                13.28    8.52   5.25   27.05\n",
       "PSV               11.90    6.25   4.25   22.40\n",
       "Wii                3.75    1.14   0.18    5.07\n",
       "PSP                0.24    0.12   0.00    0.36"
      ]
     },
     "execution_count": 25,
     "metadata": {},
     "output_type": "execute_result"
    },
    {
     "data": {
      "image/png": "[encoded data removed]",
      "text/plain": [
       "<Figure size 640x480 with 1 Axes>"
      ]
     },
     "metadata": {},
     "output_type": "display_data"
    }
   ],
   "source": [
    "actual_platform_year = actual_data.pivot_table(\n",
    "    index='platform',\n",
    "    values='total_sales',\n",
    "    columns='year_of_release',\n",
    "    aggfunc='sum'\n",
    ").fillna(0)\n",
    "\n",
    "for platform in actual_platform_year.index:\n",
    "    plt.plot(actual_platform_year.columns,\n",
    "             actual_platform_year.loc[platform], label=platform)\n",
    "\n",
    "plt.xlabel('Год релиза')\n",
    "plt.ylabel('Количество продаж')\n",
    "plt.title('Продажи на каждой платформе за 2014-2016')\n",
    "plt.legend(title='Platform', bbox_to_anchor=(1.05, 1), loc='upper left')\n",
    "plt.grid(True)\n",
    "plt.xticks([2014, 2015, 2016])\n",
    "actual_platform_year['total'] = actual_platform_year.loc[:, :].sum(axis=1)\n",
    "actual_platform_year.sort_values(by='total', ascending=False)"
   ]
  },
  {
   "cell_type": "markdown",
   "id": "bb2ee78d",
   "metadata": {},
   "source": [
    "За нынешний актуальный период:\n",
    "- наиболее прибыльными платформами являются PS4, XOne, 3DS, PS3, X360, WiiU\n",
    "- растут PS4, XOne\n",
    "- падают X360, PS3, Wii, DS, PS2, 3DS, PSP, PC, WiiU, PSV, GC, XB, GBA, DC\n",
    "\n",
    "**Потенциально прибыльные платформы**: PS4, XOne, также 3DS показывает неплохие результаты несмотря на падение"
   ]
  },
  {
   "cell_type": "markdown",
   "id": "3eed3ba9",
   "metadata": {},
   "source": [
    "Построим график «ящик с усами» по глобальным продажам игр в разбивке по платформам"
   ]
  },
  {
   "cell_type": "code",
   "execution_count": 26,
   "id": "5e013469",
   "metadata": {},
   "outputs": [
    {
     "data": {
      "image/png": "[encoded data removed]",
      "text/plain": [
       "<Figure size 640x480 with 1 Axes>"
      ]
     },
     "metadata": {},
     "output_type": "display_data"
    }
   ],
   "source": [
    "actual_platforms = ['PS4', 'XOne', '3DS', 'PS3', 'X360', 'WiiU']\n",
    "sns.boxplot(\n",
    "    data=actual_data.query('platform in @actual_platforms'),\n",
    "    x='total_sales',\n",
    "    y='platform'\n",
    ")"
   ]
  },
  {
   "cell_type": "markdown",
   "id": "5856925b",
   "metadata": {},
   "source": [
    "По такому графику сложно что-то понять. Построим более масштабированный график."
   ]
  },
  {
   "cell_type": "code",
   "execution_count": 27,
   "id": "f444f13f",
   "metadata": {},
   "outputs": [
    {
     "data": {
      "image/png": "[encoded data removed]",
      "text/plain": [
       "<Figure size 640x480 with 1 Axes>"
      ]
     },
     "metadata": {},
     "output_type": "display_data"
    }
   ],
   "source": [
    "sns.boxplot(\n",
    "    data=actual_data.query('platform in @actual_platforms & total_sales < 1'),\n",
    "    x='total_sales',\n",
    "    y='platform'\n",
    ")"
   ]
  },
  {
   "cell_type": "markdown",
   "id": "6f12762b",
   "metadata": {},
   "source": [
    "Довольно много аномальных значений выше верхнего \"уса\". Медианное значение по всем платформам лежит в промежутке [0; 0.2], значит значения в меньшей половине по каждой консоли не превышает 0.2 млн. По данному графику ясно, что около 75% игр, выпущенных в актуальный период, распродаются не более 0.4 млн копий, остальные превышают этот показатель, некоторые настолько сильно, что доходят до значений 12-14 млн копий."
   ]
  },
  {
   "cell_type": "markdown",
   "id": "650db0bf",
   "metadata": {},
   "source": [
    "Посмотрим, как влияют на продажи внутри одной популярной платформы (PS4) отзывы пользователей и критиков. Построим диаграмму рассеяния и посчитаем корреляцию между отзывами и продажами"
   ]
  },
  {
   "cell_type": "code",
   "execution_count": 28,
   "id": "4cc1c0e1",
   "metadata": {},
   "outputs": [
    {
     "data": {
      "text/plain": [
       "'Коэффициент корреляции между продажами и отзывами критиков = 0.40266141068104094'"
      ]
     },
     "execution_count": 28,
     "metadata": {},
     "output_type": "execute_result"
    },
    {
     "data": {
      "image/png": "[encoded data removed]",
      "text/plain": [
       "<Figure size 640x480 with 1 Axes>"
      ]
     },
     "metadata": {},
     "output_type": "display_data"
    }
   ],
   "source": [
    "actual_data.query('platform == \"PS4\"').plot(\n",
    "    y='total_sales',\n",
    "    x='critic_score',\n",
    "    kind='scatter',\n",
    "    alpha=0.3,\n",
    "    title='Продажи и отзывы критиков',\n",
    "    xlabel='Отзывы критиков',\n",
    "    ylabel='Продажи'\n",
    ")\n",
    "'Коэффициент корреляции между продажами и отзывами критиков = ' + str(actual_data.query(\n",
    "    'platform == \"PS4\"')['total_sales'].corr(actual_data.query('platform == \"PS4\"')['critic_score']))"
   ]
  },
  {
   "cell_type": "code",
   "execution_count": 29,
   "id": "ee12131e",
   "metadata": {},
   "outputs": [
    {
     "data": {
      "text/plain": [
       "'Коэффициент корреляции между продажами и отзывами пользователей = -0.04013158947269727'"
      ]
     },
     "execution_count": 29,
     "metadata": {},
     "output_type": "execute_result"
    },
    {
     "data": {
      "image/png": "[encoded data removed]",
      "text/plain": [
       "<Figure size 640x480 with 1 Axes>"
      ]
     },
     "metadata": {},
     "output_type": "display_data"
    }
   ],
   "source": [
    "actual_data.query('platform == \"PS4\"').plot(\n",
    "    y='total_sales',\n",
    "    x='user_score',\n",
    "    kind='scatter',\n",
    "    alpha=0.3,\n",
    "    title='Продажи и отзывы пользователей',\n",
    "    xlabel='Отзывы пользователей',\n",
    "    ylabel='Продажи'\n",
    ")\n",
    "'Коэффициент корреляции между продажами и отзывами пользователей = ' + str(actual_data.query(\n",
    "    'platform == \"PS4\"')['total_sales'].corr(actual_data.query('platform == \"PS4\"')['user_score']))"
   ]
  },
  {
   "cell_type": "code",
   "execution_count": 30,
   "id": "21f6a448",
   "metadata": {},
   "outputs": [
    {
     "data": {
      "text/plain": [
       "'Коэффициент корреляции между продажами и отзывами критиков = 0.42867694370333187'"
      ]
     },
     "execution_count": 30,
     "metadata": {},
     "output_type": "execute_result"
    },
    {
     "data": {
      "image/png": "[encoded data removed]",
      "text/plain": [
       "<Figure size 640x480 with 1 Axes>"
      ]
     },
     "metadata": {},
     "output_type": "display_data"
    }
   ],
   "source": [
    "actual_data.query('platform == \"XOne\"').plot(\n",
    "    y='total_sales',\n",
    "    x='critic_score',\n",
    "    kind='scatter',\n",
    "    alpha=0.3,\n",
    "    title='Продажи и отзывы критиков',\n",
    "    xlabel='Отзывы критиков',\n",
    "    ylabel='Продажи'\n",
    ")\n",
    "'Коэффициент корреляции между продажами и отзывами критиков = ' + str(actual_data.query(\n",
    "    'platform == \"XOne\"')['total_sales'].corr(actual_data.query('platform == \"XOne\"')['critic_score']))"
   ]
  },
  {
   "cell_type": "code",
   "execution_count": 31,
   "id": "a7393377",
   "metadata": {},
   "outputs": [
    {
     "data": {
      "text/plain": [
       "'Коэффициент корреляции между продажами и отзывами пользователей = -0.07038392806475822'"
      ]
     },
     "execution_count": 31,
     "metadata": {},
     "output_type": "execute_result"
    },
    {
     "data": {
      "image/png": "[encoded data removed]",
      "text/plain": [
       "<Figure size 640x480 with 1 Axes>"
      ]
     },
     "metadata": {},
     "output_type": "display_data"
    }
   ],
   "source": [
    "actual_data.query('platform == \"XOne\"').plot(\n",
    "    y='total_sales',\n",
    "    x='user_score',\n",
    "    kind='scatter',\n",
    "    alpha=0.3,\n",
    "    title='Продажи и отзывы пользователей',\n",
    "    xlabel='Отзывы пользователей',\n",
    "    ylabel='Продажи'\n",
    ")\n",
    "'Коэффициент корреляции между продажами и отзывами пользователей = ' + str(actual_data.query(\n",
    "    'platform == \"XOne\"')['total_sales'].corr(actual_data.query('platform == \"XOne\"')['user_score']))"
   ]
  },
  {
   "cell_type": "markdown",
   "id": "06b54004",
   "metadata": {},
   "source": [
    "Между продажами и отзывами пользователей и критиков **нет никакой связи**"
   ]
  },
  {
   "cell_type": "markdown",
   "id": "fd1105a9",
   "metadata": {},
   "source": [
    "Посмотрим на общее распределение игр по жанрам"
   ]
  },
  {
   "cell_type": "code",
   "execution_count": 32,
   "id": "db68a3b8",
   "metadata": {},
   "outputs": [
    {
     "data": {
      "image/png": "[encoded data removed]",
      "text/plain": [
       "<Figure size 640x480 with 1 Axes>"
      ]
     },
     "metadata": {},
     "output_type": "display_data"
    }
   ],
   "source": [
    "genre_counts = actual_data['genre'].value_counts(ascending=True)\n",
    "\n",
    "genre_counts.plot(\n",
    "    kind='barh', \n",
    "    title='Частота встречаемости жанров',\n",
    "    xlabel='Количество',\n",
    "    ylabel='Жанр'\n",
    ")"
   ]
  },
  {
   "cell_type": "markdown",
   "id": "5cfe37eb",
   "metadata": {},
   "source": [
    "Action - самый распространенный жанр\n",
    "Fighting, Strategy, Puzzle и Platform - самые редкие"
   ]
  },
  {
   "cell_type": "code",
   "execution_count": 33,
   "id": "fb0bf1e3",
   "metadata": {},
   "outputs": [
    {
     "data": {
      "image/png": "[encoded data removed]",
      "text/plain": [
       "<Figure size 640x480 with 1 Axes>"
      ]
     },
     "metadata": {},
     "output_type": "display_data"
    }
   ],
   "source": [
    "genre_sales = actual_data.pivot_table(\n",
    "    index='genre',\n",
    "    values='total_sales',\n",
    "    aggfunc='mean'\n",
    ").sort_values(by='total_sales')\n",
    "genre_sales.plot(kind='barh', title='', xlabel='Продажи', ylabel='Жанр')"
   ]
  },
  {
   "cell_type": "markdown",
   "id": "c9e0dcd8",
   "metadata": {},
   "source": [
    "Выделяется один самый прибыльный жанр - Shooter\n",
    "Самые неприбыльные - Strategy, Adventure\n",
    "Разница между жанрами с высокими и низкими продажами большая"
   ]
  },
  {
   "cell_type": "markdown",
   "id": "1c21a929",
   "metadata": {},
   "source": [
    "При исследовательском анализе данных был выделен актуальный период (2014-2016), эти данные помогут построить прогноз на 2017 год. Выяснилось, что PS4 и XOne - самые прибыльные платформы. На продажи внутри одной популярной платформы не влияют отзывы пользователей и критиков. Самый популярный жанр - Shooter."
   ]
  },
  {
   "cell_type": "markdown",
   "id": "fd84188c",
   "metadata": {},
   "source": [
    "## Портрет пользователя каждого региона"
   ]
  },
  {
   "cell_type": "markdown",
   "id": "32fde91a",
   "metadata": {},
   "source": [
    "### NA - Североамериканский регион"
   ]
  },
  {
   "cell_type": "code",
   "execution_count": 34,
   "id": "3ec05119",
   "metadata": {},
   "outputs": [
    {
     "data": {
      "text/html": [
       "<div>\n",
       "<style scoped>\n",
       "    .dataframe tbody tr th:only-of-type {\n",
       "        vertical-align: middle;\n",
       "    }\n",
       "\n",
       "    .dataframe tbody tr th {\n",
       "        vertical-align: top;\n",
       "    }\n",
       "\n",
       "    .dataframe thead th {\n",
       "        text-align: right;\n",
       "    }\n",
       "</style>\n",
       "<table border=\"1\" class=\"dataframe\">\n",
       "  <thead>\n",
       "    <tr style=\"text-align: right;\">\n",
       "      <th></th>\n",
       "      <th>na_sales</th>\n",
       "      <th>part</th>\n",
       "    </tr>\n",
       "    <tr>\n",
       "      <th>platform</th>\n",
       "      <th></th>\n",
       "      <th></th>\n",
       "    </tr>\n",
       "  </thead>\n",
       "  <tbody>\n",
       "    <tr>\n",
       "      <th>PS4</th>\n",
       "      <td>98.61</td>\n",
       "      <td>0.347145</td>\n",
       "    </tr>\n",
       "    <tr>\n",
       "      <th>XOne</th>\n",
       "      <td>81.27</td>\n",
       "      <td>0.286102</td>\n",
       "    </tr>\n",
       "    <tr>\n",
       "      <th>X360</th>\n",
       "      <td>28.30</td>\n",
       "      <td>0.099627</td>\n",
       "    </tr>\n",
       "    <tr>\n",
       "      <th>3DS</th>\n",
       "      <td>22.64</td>\n",
       "      <td>0.079701</td>\n",
       "    </tr>\n",
       "    <tr>\n",
       "      <th>PS3</th>\n",
       "      <td>22.05</td>\n",
       "      <td>0.077624</td>\n",
       "    </tr>\n",
       "  </tbody>\n",
       "</table>\n",
       "</div>"
      ],
      "text/plain": [
       "          na_sales      part\n",
       "platform                    \n",
       "PS4          98.61  0.347145\n",
       "XOne         81.27  0.286102\n",
       "X360         28.30  0.099627\n",
       "3DS          22.64  0.079701\n",
       "PS3          22.05  0.077624"
      ]
     },
     "execution_count": 34,
     "metadata": {},
     "output_type": "execute_result"
    }
   ],
   "source": [
    "na_platform_sales = actual_data.pivot_table(\n",
    "    index='platform',\n",
    "    values='na_sales',\n",
    "    aggfunc='sum'\n",
    ").sort_values(by='na_sales', ascending=False)\n",
    "na_platform_sales['part'] = na_platform_sales['na_sales'] / \\\n",
    "    na_platform_sales['na_sales'].sum()\n",
    "na_platform_sales.head()"
   ]
  },
  {
   "cell_type": "code",
   "execution_count": 35,
   "id": "a46c12c9",
   "metadata": {},
   "outputs": [
    {
     "data": {
      "text/html": [
       "<div>\n",
       "<style scoped>\n",
       "    .dataframe tbody tr th:only-of-type {\n",
       "        vertical-align: middle;\n",
       "    }\n",
       "\n",
       "    .dataframe tbody tr th {\n",
       "        vertical-align: top;\n",
       "    }\n",
       "\n",
       "    .dataframe thead th {\n",
       "        text-align: right;\n",
       "    }\n",
       "</style>\n",
       "<table border=\"1\" class=\"dataframe\">\n",
       "  <thead>\n",
       "    <tr style=\"text-align: right;\">\n",
       "      <th></th>\n",
       "      <th>na_sales</th>\n",
       "      <th>part</th>\n",
       "    </tr>\n",
       "    <tr>\n",
       "      <th>genre</th>\n",
       "      <th></th>\n",
       "      <th></th>\n",
       "    </tr>\n",
       "  </thead>\n",
       "  <tbody>\n",
       "    <tr>\n",
       "      <th>Shooter</th>\n",
       "      <td>79.02</td>\n",
       "      <td>0.278181</td>\n",
       "    </tr>\n",
       "    <tr>\n",
       "      <th>Action</th>\n",
       "      <td>72.53</td>\n",
       "      <td>0.255333</td>\n",
       "    </tr>\n",
       "    <tr>\n",
       "      <th>Sports</th>\n",
       "      <td>46.13</td>\n",
       "      <td>0.162395</td>\n",
       "    </tr>\n",
       "    <tr>\n",
       "      <th>Role-Playing</th>\n",
       "      <td>33.47</td>\n",
       "      <td>0.117827</td>\n",
       "    </tr>\n",
       "    <tr>\n",
       "      <th>Misc</th>\n",
       "      <td>15.05</td>\n",
       "      <td>0.052982</td>\n",
       "    </tr>\n",
       "  </tbody>\n",
       "</table>\n",
       "</div>"
      ],
      "text/plain": [
       "              na_sales      part\n",
       "genre                           \n",
       "Shooter          79.02  0.278181\n",
       "Action           72.53  0.255333\n",
       "Sports           46.13  0.162395\n",
       "Role-Playing     33.47  0.117827\n",
       "Misc             15.05  0.052982"
      ]
     },
     "execution_count": 35,
     "metadata": {},
     "output_type": "execute_result"
    }
   ],
   "source": [
    "na_genre_sales = actual_data.pivot_table(\n",
    "    index='genre',\n",
    "    values='na_sales',\n",
    "    aggfunc='sum'\n",
    ").sort_values(by='na_sales', ascending=False)\n",
    "na_genre_sales['part'] = na_genre_sales['na_sales'] / \\\n",
    "    na_genre_sales['na_sales'].sum()\n",
    "na_genre_sales.head()"
   ]
  },
  {
   "cell_type": "code",
   "execution_count": 36,
   "id": "8230ac20",
   "metadata": {},
   "outputs": [
    {
     "data": {
      "text/html": [
       "<div>\n",
       "<style scoped>\n",
       "    .dataframe tbody tr th:only-of-type {\n",
       "        vertical-align: middle;\n",
       "    }\n",
       "\n",
       "    .dataframe tbody tr th {\n",
       "        vertical-align: top;\n",
       "    }\n",
       "\n",
       "    .dataframe thead th {\n",
       "        text-align: right;\n",
       "    }\n",
       "</style>\n",
       "<table border=\"1\" class=\"dataframe\">\n",
       "  <thead>\n",
       "    <tr style=\"text-align: right;\">\n",
       "      <th></th>\n",
       "      <th>na_sales</th>\n",
       "    </tr>\n",
       "    <tr>\n",
       "      <th>rating</th>\n",
       "      <th></th>\n",
       "    </tr>\n",
       "  </thead>\n",
       "  <tbody>\n",
       "    <tr>\n",
       "      <th>M</th>\n",
       "      <td>96.42</td>\n",
       "    </tr>\n",
       "    <tr>\n",
       "      <th>E</th>\n",
       "      <td>50.74</td>\n",
       "    </tr>\n",
       "    <tr>\n",
       "      <th>T</th>\n",
       "      <td>38.95</td>\n",
       "    </tr>\n",
       "    <tr>\n",
       "      <th>E10+</th>\n",
       "      <td>33.23</td>\n",
       "    </tr>\n",
       "  </tbody>\n",
       "</table>\n",
       "</div>"
      ],
      "text/plain": [
       "        na_sales\n",
       "rating          \n",
       "M          96.42\n",
       "E          50.74\n",
       "T          38.95\n",
       "E10+       33.23"
      ]
     },
     "execution_count": 36,
     "metadata": {},
     "output_type": "execute_result"
    }
   ],
   "source": [
    "na_rating_sales = actual_data.pivot_table(\n",
    "    index='rating',\n",
    "    values='na_sales',\n",
    "    aggfunc='sum'\n",
    ").sort_values(by='na_sales', ascending=False)\n",
    "na_rating_sales"
   ]
  },
  {
   "cell_type": "markdown",
   "id": "5af83f2d",
   "metadata": {},
   "source": [
    "В североамериканском регионе от рейтинга зависят продажи. Лучше всех продаются игры с маркировкой \"Для взрослых\", дальше идут \"Для всех\", после - \"Подросткам\", \"Для всех от 10 лет и старше\"."
   ]
  },
  {
   "cell_type": "markdown",
   "id": "0d706f8c",
   "metadata": {},
   "source": [
    "### EU - Европейский регион"
   ]
  },
  {
   "cell_type": "code",
   "execution_count": 37,
   "id": "2063248f",
   "metadata": {},
   "outputs": [
    {
     "data": {
      "text/html": [
       "<div>\n",
       "<style scoped>\n",
       "    .dataframe tbody tr th:only-of-type {\n",
       "        vertical-align: middle;\n",
       "    }\n",
       "\n",
       "    .dataframe tbody tr th {\n",
       "        vertical-align: top;\n",
       "    }\n",
       "\n",
       "    .dataframe thead th {\n",
       "        text-align: right;\n",
       "    }\n",
       "</style>\n",
       "<table border=\"1\" class=\"dataframe\">\n",
       "  <thead>\n",
       "    <tr style=\"text-align: right;\">\n",
       "      <th></th>\n",
       "      <th>eu_sales</th>\n",
       "      <th>part</th>\n",
       "    </tr>\n",
       "    <tr>\n",
       "      <th>platform</th>\n",
       "      <th></th>\n",
       "      <th></th>\n",
       "    </tr>\n",
       "  </thead>\n",
       "  <tbody>\n",
       "    <tr>\n",
       "      <th>PS4</th>\n",
       "      <td>130.04</td>\n",
       "      <td>0.480420</td>\n",
       "    </tr>\n",
       "    <tr>\n",
       "      <th>XOne</th>\n",
       "      <td>46.25</td>\n",
       "      <td>0.170866</td>\n",
       "    </tr>\n",
       "    <tr>\n",
       "      <th>PS3</th>\n",
       "      <td>25.54</td>\n",
       "      <td>0.094355</td>\n",
       "    </tr>\n",
       "    <tr>\n",
       "      <th>PC</th>\n",
       "      <td>17.97</td>\n",
       "      <td>0.066388</td>\n",
       "    </tr>\n",
       "    <tr>\n",
       "      <th>3DS</th>\n",
       "      <td>16.12</td>\n",
       "      <td>0.059554</td>\n",
       "    </tr>\n",
       "  </tbody>\n",
       "</table>\n",
       "</div>"
      ],
      "text/plain": [
       "          eu_sales      part\n",
       "platform                    \n",
       "PS4         130.04  0.480420\n",
       "XOne         46.25  0.170866\n",
       "PS3          25.54  0.094355\n",
       "PC           17.97  0.066388\n",
       "3DS          16.12  0.059554"
      ]
     },
     "execution_count": 37,
     "metadata": {},
     "output_type": "execute_result"
    }
   ],
   "source": [
    "eu_platform_sales = actual_data.pivot_table(\n",
    "    index='platform',\n",
    "    values='eu_sales',\n",
    "    aggfunc='sum'\n",
    ").sort_values(by='eu_sales', ascending=False)\n",
    "eu_platform_sales['part'] = eu_platform_sales['eu_sales'] / \\\n",
    "    eu_platform_sales['eu_sales'].sum()\n",
    "eu_platform_sales.head()"
   ]
  },
  {
   "cell_type": "code",
   "execution_count": 38,
   "id": "7c39baa4",
   "metadata": {},
   "outputs": [
    {
     "data": {
      "text/html": [
       "<div>\n",
       "<style scoped>\n",
       "    .dataframe tbody tr th:only-of-type {\n",
       "        vertical-align: middle;\n",
       "    }\n",
       "\n",
       "    .dataframe tbody tr th {\n",
       "        vertical-align: top;\n",
       "    }\n",
       "\n",
       "    .dataframe thead th {\n",
       "        text-align: right;\n",
       "    }\n",
       "</style>\n",
       "<table border=\"1\" class=\"dataframe\">\n",
       "  <thead>\n",
       "    <tr style=\"text-align: right;\">\n",
       "      <th></th>\n",
       "      <th>eu_sales</th>\n",
       "      <th>part</th>\n",
       "    </tr>\n",
       "    <tr>\n",
       "      <th>genre</th>\n",
       "      <th></th>\n",
       "      <th></th>\n",
       "    </tr>\n",
       "  </thead>\n",
       "  <tbody>\n",
       "    <tr>\n",
       "      <th>Action</th>\n",
       "      <td>74.68</td>\n",
       "      <td>0.275898</td>\n",
       "    </tr>\n",
       "    <tr>\n",
       "      <th>Shooter</th>\n",
       "      <td>65.52</td>\n",
       "      <td>0.242057</td>\n",
       "    </tr>\n",
       "    <tr>\n",
       "      <th>Sports</th>\n",
       "      <td>45.73</td>\n",
       "      <td>0.168945</td>\n",
       "    </tr>\n",
       "    <tr>\n",
       "      <th>Role-Playing</th>\n",
       "      <td>28.17</td>\n",
       "      <td>0.104071</td>\n",
       "    </tr>\n",
       "    <tr>\n",
       "      <th>Racing</th>\n",
       "      <td>14.13</td>\n",
       "      <td>0.052202</td>\n",
       "    </tr>\n",
       "  </tbody>\n",
       "</table>\n",
       "</div>"
      ],
      "text/plain": [
       "              eu_sales      part\n",
       "genre                           \n",
       "Action           74.68  0.275898\n",
       "Shooter          65.52  0.242057\n",
       "Sports           45.73  0.168945\n",
       "Role-Playing     28.17  0.104071\n",
       "Racing           14.13  0.052202"
      ]
     },
     "execution_count": 38,
     "metadata": {},
     "output_type": "execute_result"
    }
   ],
   "source": [
    "eu_genre_sales = actual_data.pivot_table(\n",
    "    index='genre',\n",
    "    values='eu_sales',\n",
    "    aggfunc='sum'\n",
    ").sort_values(by='eu_sales', ascending=False)\n",
    "eu_genre_sales['part'] = eu_genre_sales['eu_sales'] / \\\n",
    "    eu_genre_sales['eu_sales'].sum()\n",
    "eu_genre_sales.head()"
   ]
  },
  {
   "cell_type": "code",
   "execution_count": 39,
   "id": "826ed43c",
   "metadata": {},
   "outputs": [
    {
     "data": {
      "text/html": [
       "<div>\n",
       "<style scoped>\n",
       "    .dataframe tbody tr th:only-of-type {\n",
       "        vertical-align: middle;\n",
       "    }\n",
       "\n",
       "    .dataframe tbody tr th {\n",
       "        vertical-align: top;\n",
       "    }\n",
       "\n",
       "    .dataframe thead th {\n",
       "        text-align: right;\n",
       "    }\n",
       "</style>\n",
       "<table border=\"1\" class=\"dataframe\">\n",
       "  <thead>\n",
       "    <tr style=\"text-align: right;\">\n",
       "      <th></th>\n",
       "      <th>eu_sales</th>\n",
       "    </tr>\n",
       "    <tr>\n",
       "      <th>rating</th>\n",
       "      <th></th>\n",
       "    </tr>\n",
       "  </thead>\n",
       "  <tbody>\n",
       "    <tr>\n",
       "      <th>M</th>\n",
       "      <td>93.44</td>\n",
       "    </tr>\n",
       "    <tr>\n",
       "      <th>E</th>\n",
       "      <td>58.06</td>\n",
       "    </tr>\n",
       "    <tr>\n",
       "      <th>T</th>\n",
       "      <td>34.07</td>\n",
       "    </tr>\n",
       "    <tr>\n",
       "      <th>E10+</th>\n",
       "      <td>26.16</td>\n",
       "    </tr>\n",
       "  </tbody>\n",
       "</table>\n",
       "</div>"
      ],
      "text/plain": [
       "        eu_sales\n",
       "rating          \n",
       "M          93.44\n",
       "E          58.06\n",
       "T          34.07\n",
       "E10+       26.16"
      ]
     },
     "execution_count": 39,
     "metadata": {},
     "output_type": "execute_result"
    }
   ],
   "source": [
    "eu_rating_sales = actual_data.pivot_table(\n",
    "    index='rating',\n",
    "    values='eu_sales',\n",
    "    aggfunc='sum'\n",
    ").sort_values(by='eu_sales', ascending=False)\n",
    "eu_rating_sales"
   ]
  },
  {
   "cell_type": "markdown",
   "id": "50fe6fcc",
   "metadata": {},
   "source": [
    "Распределение аналогично американскому, значит в европейском регионе продажи также зависят от рейтинга ESRB"
   ]
  },
  {
   "cell_type": "markdown",
   "id": "c0ac4a95",
   "metadata": {},
   "source": [
    "### JP - Япония"
   ]
  },
  {
   "cell_type": "code",
   "execution_count": 40,
   "id": "b96c5fef",
   "metadata": {},
   "outputs": [
    {
     "data": {
      "text/html": [
       "<div>\n",
       "<style scoped>\n",
       "    .dataframe tbody tr th:only-of-type {\n",
       "        vertical-align: middle;\n",
       "    }\n",
       "\n",
       "    .dataframe tbody tr th {\n",
       "        vertical-align: top;\n",
       "    }\n",
       "\n",
       "    .dataframe thead th {\n",
       "        text-align: right;\n",
       "    }\n",
       "</style>\n",
       "<table border=\"1\" class=\"dataframe\">\n",
       "  <thead>\n",
       "    <tr style=\"text-align: right;\">\n",
       "      <th></th>\n",
       "      <th>jp_sales</th>\n",
       "      <th>part</th>\n",
       "    </tr>\n",
       "    <tr>\n",
       "      <th>platform</th>\n",
       "      <th></th>\n",
       "      <th></th>\n",
       "    </tr>\n",
       "  </thead>\n",
       "  <tbody>\n",
       "    <tr>\n",
       "      <th>3DS</th>\n",
       "      <td>44.24</td>\n",
       "      <td>0.475239</td>\n",
       "    </tr>\n",
       "    <tr>\n",
       "      <th>PS4</th>\n",
       "      <td>15.02</td>\n",
       "      <td>0.161349</td>\n",
       "    </tr>\n",
       "    <tr>\n",
       "      <th>PSV</th>\n",
       "      <td>14.54</td>\n",
       "      <td>0.156193</td>\n",
       "    </tr>\n",
       "    <tr>\n",
       "      <th>PS3</th>\n",
       "      <td>11.22</td>\n",
       "      <td>0.120529</td>\n",
       "    </tr>\n",
       "    <tr>\n",
       "      <th>WiiU</th>\n",
       "      <td>7.31</td>\n",
       "      <td>0.078526</td>\n",
       "    </tr>\n",
       "  </tbody>\n",
       "</table>\n",
       "</div>"
      ],
      "text/plain": [
       "          jp_sales      part\n",
       "platform                    \n",
       "3DS          44.24  0.475239\n",
       "PS4          15.02  0.161349\n",
       "PSV          14.54  0.156193\n",
       "PS3          11.22  0.120529\n",
       "WiiU          7.31  0.078526"
      ]
     },
     "execution_count": 40,
     "metadata": {},
     "output_type": "execute_result"
    }
   ],
   "source": [
    "jp_platform_sales = actual_data.pivot_table(\n",
    "    index='platform',\n",
    "    values='jp_sales',\n",
    "    aggfunc='sum'\n",
    ").sort_values(by='jp_sales', ascending=False)\n",
    "jp_platform_sales['part'] = jp_platform_sales['jp_sales'] / \\\n",
    "    jp_platform_sales['jp_sales'].sum()\n",
    "\n",
    "jp_platform_sales.head()"
   ]
  },
  {
   "cell_type": "code",
   "execution_count": 41,
   "id": "c33bef7e",
   "metadata": {},
   "outputs": [
    {
     "data": {
      "text/html": [
       "<div>\n",
       "<style scoped>\n",
       "    .dataframe tbody tr th:only-of-type {\n",
       "        vertical-align: middle;\n",
       "    }\n",
       "\n",
       "    .dataframe tbody tr th {\n",
       "        vertical-align: top;\n",
       "    }\n",
       "\n",
       "    .dataframe thead th {\n",
       "        text-align: right;\n",
       "    }\n",
       "</style>\n",
       "<table border=\"1\" class=\"dataframe\">\n",
       "  <thead>\n",
       "    <tr style=\"text-align: right;\">\n",
       "      <th></th>\n",
       "      <th>jp_sales</th>\n",
       "      <th>part</th>\n",
       "    </tr>\n",
       "    <tr>\n",
       "      <th>genre</th>\n",
       "      <th></th>\n",
       "      <th></th>\n",
       "    </tr>\n",
       "  </thead>\n",
       "  <tbody>\n",
       "    <tr>\n",
       "      <th>Role-Playing</th>\n",
       "      <td>31.16</td>\n",
       "      <td>0.334730</td>\n",
       "    </tr>\n",
       "    <tr>\n",
       "      <th>Action</th>\n",
       "      <td>29.58</td>\n",
       "      <td>0.317757</td>\n",
       "    </tr>\n",
       "    <tr>\n",
       "      <th>Fighting</th>\n",
       "      <td>6.37</td>\n",
       "      <td>0.068428</td>\n",
       "    </tr>\n",
       "    <tr>\n",
       "      <th>Misc</th>\n",
       "      <td>5.61</td>\n",
       "      <td>0.060264</td>\n",
       "    </tr>\n",
       "    <tr>\n",
       "      <th>Shooter</th>\n",
       "      <td>4.87</td>\n",
       "      <td>0.052315</td>\n",
       "    </tr>\n",
       "  </tbody>\n",
       "</table>\n",
       "</div>"
      ],
      "text/plain": [
       "              jp_sales      part\n",
       "genre                           \n",
       "Role-Playing     31.16  0.334730\n",
       "Action           29.58  0.317757\n",
       "Fighting          6.37  0.068428\n",
       "Misc              5.61  0.060264\n",
       "Shooter           4.87  0.052315"
      ]
     },
     "execution_count": 41,
     "metadata": {},
     "output_type": "execute_result"
    }
   ],
   "source": [
    "jp_genre_sales = actual_data.pivot_table(\n",
    "    index='genre',\n",
    "    values='jp_sales',\n",
    "    aggfunc='sum'\n",
    ").sort_values(by='jp_sales', ascending=False)\n",
    "jp_genre_sales['part'] = jp_genre_sales['jp_sales'] / \\\n",
    "    jp_genre_sales['jp_sales'].sum()\n",
    "jp_genre_sales.head()"
   ]
  },
  {
   "cell_type": "code",
   "execution_count": 42,
   "id": "6d85a3e8",
   "metadata": {},
   "outputs": [
    {
     "data": {
      "text/html": [
       "<div>\n",
       "<style scoped>\n",
       "    .dataframe tbody tr th:only-of-type {\n",
       "        vertical-align: middle;\n",
       "    }\n",
       "\n",
       "    .dataframe tbody tr th {\n",
       "        vertical-align: top;\n",
       "    }\n",
       "\n",
       "    .dataframe thead th {\n",
       "        text-align: right;\n",
       "    }\n",
       "</style>\n",
       "<table border=\"1\" class=\"dataframe\">\n",
       "  <thead>\n",
       "    <tr style=\"text-align: right;\">\n",
       "      <th></th>\n",
       "      <th>jp_sales</th>\n",
       "    </tr>\n",
       "    <tr>\n",
       "      <th>rating</th>\n",
       "      <th></th>\n",
       "    </tr>\n",
       "  </thead>\n",
       "  <tbody>\n",
       "    <tr>\n",
       "      <th>T</th>\n",
       "      <td>14.78</td>\n",
       "    </tr>\n",
       "    <tr>\n",
       "      <th>E</th>\n",
       "      <td>8.94</td>\n",
       "    </tr>\n",
       "    <tr>\n",
       "      <th>M</th>\n",
       "      <td>8.01</td>\n",
       "    </tr>\n",
       "    <tr>\n",
       "      <th>E10+</th>\n",
       "      <td>4.46</td>\n",
       "    </tr>\n",
       "  </tbody>\n",
       "</table>\n",
       "</div>"
      ],
      "text/plain": [
       "        jp_sales\n",
       "rating          \n",
       "T          14.78\n",
       "E           8.94\n",
       "M           8.01\n",
       "E10+        4.46"
      ]
     },
     "execution_count": 42,
     "metadata": {},
     "output_type": "execute_result"
    }
   ],
   "source": [
    "jp_rating_sales = actual_data.pivot_table(\n",
    "    index='rating',\n",
    "    values='jp_sales',\n",
    "    aggfunc='sum'\n",
    ").sort_values(by='jp_sales', ascending=False)\n",
    "jp_rating_sales"
   ]
  },
  {
   "cell_type": "markdown",
   "id": "2442b13e",
   "metadata": {},
   "source": [
    "В Японии распределение продаж по рейтингу немного отличается от других - больше всего игр с маркировкой \"Для подростков\", а игры \"Для взрослых\" по популярности такие же, как и \"Игры для всех\""
   ]
  },
  {
   "cell_type": "markdown",
   "id": "eff45812",
   "metadata": {},
   "source": [
    "### Различия в долях продаж на разных платформах"
   ]
  },
  {
   "cell_type": "code",
   "execution_count": 43,
   "id": "a848d7a7",
   "metadata": {},
   "outputs": [
    {
     "data": {
      "text/plain": [
       "(platform\n",
       " PS4     0.347145\n",
       " XOne    0.286102\n",
       " X360    0.099627\n",
       " 3DS     0.079701\n",
       " PS3     0.077624\n",
       " Name: part, dtype: float64,\n",
       " platform\n",
       " PS4     0.480420\n",
       " XOne    0.170866\n",
       " PS3     0.094355\n",
       " PC      0.066388\n",
       " 3DS     0.059554\n",
       " Name: part, dtype: float64,\n",
       " platform\n",
       " 3DS     0.475239\n",
       " PS4     0.161349\n",
       " PSV     0.156193\n",
       " PS3     0.120529\n",
       " WiiU    0.078526\n",
       " Name: part, dtype: float64)"
      ]
     },
     "execution_count": 43,
     "metadata": {},
     "output_type": "execute_result"
    }
   ],
   "source": [
    "na_platform_sales['part'].head(), eu_platform_sales['part'].head(\n",
    "), jp_platform_sales['part'].head()"
   ]
  },
  {
   "cell_type": "markdown",
   "id": "4d18df54",
   "metadata": {},
   "source": [
    "PS4 - самый популярный в NA и в EU, и второй в японском топ-5\n",
    "XOne - второй по популярности в NA и в EU, однако в японском топ-5  отсутствует\n",
    "3DS самый популярный в Японии с долей 47%, но в остальных доля составляет 5-7%\n",
    "PS3 присутствует во всех топ-5, но не занимает лидирующие позиции, имеет долю 7-12%\n",
    "Примечательно, что в Японии топ-5 занимают исключительно отечественные приставки (от Nintendo и Sony)"
   ]
  },
  {
   "cell_type": "markdown",
   "id": "dd985ba4",
   "metadata": {},
   "source": [
    "### Различия в долях продаж игр разных жанров"
   ]
  },
  {
   "cell_type": "code",
   "execution_count": 44,
   "id": "dfcc22a3",
   "metadata": {},
   "outputs": [
    {
     "data": {
      "text/plain": [
       "(genre\n",
       " Shooter         0.278181\n",
       " Action          0.255333\n",
       " Sports          0.162395\n",
       " Role-Playing    0.117827\n",
       " Misc            0.052982\n",
       " Name: part, dtype: float64,\n",
       " genre\n",
       " Action          0.275898\n",
       " Shooter         0.242057\n",
       " Sports          0.168945\n",
       " Role-Playing    0.104071\n",
       " Racing          0.052202\n",
       " Name: part, dtype: float64,\n",
       " genre\n",
       " Role-Playing    0.334730\n",
       " Action          0.317757\n",
       " Fighting        0.068428\n",
       " Misc            0.060264\n",
       " Shooter         0.052315\n",
       " Name: part, dtype: float64)"
      ]
     },
     "execution_count": 44,
     "metadata": {},
     "output_type": "execute_result"
    }
   ],
   "source": [
    "na_genre_sales['part'].head(), eu_genre_sales['part'].head(\n",
    "), jp_genre_sales['part'].head()"
   ]
  },
  {
   "cell_type": "markdown",
   "id": "0ba215d7",
   "metadata": {},
   "source": [
    "Shooter, Action, Role-Playing есть во всех трех регионах\n",
    "Role-Playing в NA и EU имеет долю всего в 10-11%, а в Японии целых 33%!\n",
    "Shooter в NA и EU имеет долю в 24-27%, а в Японии всего 5%.\n",
    "Action явно выделяется большими долями во всех трех регионах, в остальном, интересы людей в японском регионе отличаются от североамериканских и европейских, которые очень похожи друг на друга."
   ]
  },
  {
   "cell_type": "markdown",
   "id": "1cc990d0",
   "metadata": {},
   "source": [
    "## Проверка гипотез"
   ]
  },
  {
   "cell_type": "markdown",
   "id": "b376aa25",
   "metadata": {},
   "source": [
    "### Средние пользовательские рейтинги платформ Xbox One и PC одинаковые\n",
    "Подготовим данные для первой гипотезы"
   ]
  },
  {
   "cell_type": "code",
   "execution_count": 45,
   "id": "07d968c7",
   "metadata": {},
   "outputs": [
    {
     "data": {
      "text/html": [
       "<div>\n",
       "<style scoped>\n",
       "    .dataframe tbody tr th:only-of-type {\n",
       "        vertical-align: middle;\n",
       "    }\n",
       "\n",
       "    .dataframe tbody tr th {\n",
       "        vertical-align: top;\n",
       "    }\n",
       "\n",
       "    .dataframe thead th {\n",
       "        text-align: right;\n",
       "    }\n",
       "</style>\n",
       "<table border=\"1\" class=\"dataframe\">\n",
       "  <thead>\n",
       "    <tr style=\"text-align: right;\">\n",
       "      <th></th>\n",
       "      <th>name</th>\n",
       "      <th>platform</th>\n",
       "      <th>year_of_release</th>\n",
       "      <th>genre</th>\n",
       "      <th>na_sales</th>\n",
       "      <th>eu_sales</th>\n",
       "      <th>jp_sales</th>\n",
       "      <th>other_sales</th>\n",
       "      <th>critic_score</th>\n",
       "      <th>user_score</th>\n",
       "      <th>rating</th>\n",
       "      <th>total_sales</th>\n",
       "    </tr>\n",
       "  </thead>\n",
       "  <tbody>\n",
       "    <tr>\n",
       "      <th>110</th>\n",
       "      <td>7 Days to Die</td>\n",
       "      <td>XOne</td>\n",
       "      <td>2016</td>\n",
       "      <td>Action</td>\n",
       "      <td>0.03</td>\n",
       "      <td>0.02</td>\n",
       "      <td>0.0</td>\n",
       "      <td>0.00</td>\n",
       "      <td>35.0</td>\n",
       "      <td>5.2</td>\n",
       "      <td>M</td>\n",
       "      <td>0.05</td>\n",
       "    </tr>\n",
       "    <tr>\n",
       "      <th>256</th>\n",
       "      <td>Agatha Christie's The ABC Murders</td>\n",
       "      <td>XOne</td>\n",
       "      <td>2016</td>\n",
       "      <td>Adventure</td>\n",
       "      <td>0.01</td>\n",
       "      <td>0.00</td>\n",
       "      <td>0.0</td>\n",
       "      <td>0.00</td>\n",
       "      <td>66.0</td>\n",
       "      <td>7.5</td>\n",
       "      <td>None</td>\n",
       "      <td>0.01</td>\n",
       "    </tr>\n",
       "    <tr>\n",
       "      <th>346</th>\n",
       "      <td>Alien: Isolation</td>\n",
       "      <td>XOne</td>\n",
       "      <td>2014</td>\n",
       "      <td>Shooter</td>\n",
       "      <td>0.22</td>\n",
       "      <td>0.24</td>\n",
       "      <td>0.0</td>\n",
       "      <td>0.04</td>\n",
       "      <td>78.0</td>\n",
       "      <td>7.8</td>\n",
       "      <td>M</td>\n",
       "      <td>0.50</td>\n",
       "    </tr>\n",
       "    <tr>\n",
       "      <th>639</th>\n",
       "      <td>Arslan: The Warriors of Legend</td>\n",
       "      <td>XOne</td>\n",
       "      <td>2016</td>\n",
       "      <td>Action</td>\n",
       "      <td>0.01</td>\n",
       "      <td>0.00</td>\n",
       "      <td>0.0</td>\n",
       "      <td>0.00</td>\n",
       "      <td>NaN</td>\n",
       "      <td>5.8</td>\n",
       "      <td>T</td>\n",
       "      <td>0.01</td>\n",
       "    </tr>\n",
       "    <tr>\n",
       "      <th>660</th>\n",
       "      <td>Assassin's Creed Chronicles</td>\n",
       "      <td>XOne</td>\n",
       "      <td>2016</td>\n",
       "      <td>Action</td>\n",
       "      <td>0.00</td>\n",
       "      <td>0.01</td>\n",
       "      <td>0.0</td>\n",
       "      <td>0.00</td>\n",
       "      <td>NaN</td>\n",
       "      <td>6.8</td>\n",
       "      <td>T</td>\n",
       "      <td>0.01</td>\n",
       "    </tr>\n",
       "    <tr>\n",
       "      <th>...</th>\n",
       "      <td>...</td>\n",
       "      <td>...</td>\n",
       "      <td>...</td>\n",
       "      <td>...</td>\n",
       "      <td>...</td>\n",
       "      <td>...</td>\n",
       "      <td>...</td>\n",
       "      <td>...</td>\n",
       "      <td>...</td>\n",
       "      <td>...</td>\n",
       "      <td>...</td>\n",
       "      <td>...</td>\n",
       "    </tr>\n",
       "    <tr>\n",
       "      <th>15911</th>\n",
       "      <td>Wolfenstein: The New Order</td>\n",
       "      <td>XOne</td>\n",
       "      <td>2014</td>\n",
       "      <td>Shooter</td>\n",
       "      <td>0.34</td>\n",
       "      <td>0.28</td>\n",
       "      <td>0.0</td>\n",
       "      <td>0.06</td>\n",
       "      <td>79.0</td>\n",
       "      <td>7.8</td>\n",
       "      <td>M</td>\n",
       "      <td>0.68</td>\n",
       "    </tr>\n",
       "    <tr>\n",
       "      <th>15914</th>\n",
       "      <td>Wolfenstein: The Old Blood</td>\n",
       "      <td>XOne</td>\n",
       "      <td>2015</td>\n",
       "      <td>Action</td>\n",
       "      <td>0.07</td>\n",
       "      <td>0.07</td>\n",
       "      <td>0.0</td>\n",
       "      <td>0.01</td>\n",
       "      <td>75.0</td>\n",
       "      <td>8.0</td>\n",
       "      <td>None</td>\n",
       "      <td>0.15</td>\n",
       "    </tr>\n",
       "    <tr>\n",
       "      <th>16066</th>\n",
       "      <td>Worms: WMD</td>\n",
       "      <td>XOne</td>\n",
       "      <td>2016</td>\n",
       "      <td>Action</td>\n",
       "      <td>0.01</td>\n",
       "      <td>0.00</td>\n",
       "      <td>0.0</td>\n",
       "      <td>0.00</td>\n",
       "      <td>75.0</td>\n",
       "      <td>8.1</td>\n",
       "      <td>E10+</td>\n",
       "      <td>0.01</td>\n",
       "    </tr>\n",
       "    <tr>\n",
       "      <th>16127</th>\n",
       "      <td>XCOM 2</td>\n",
       "      <td>XOne</td>\n",
       "      <td>2016</td>\n",
       "      <td>Strategy</td>\n",
       "      <td>0.02</td>\n",
       "      <td>0.02</td>\n",
       "      <td>0.0</td>\n",
       "      <td>0.00</td>\n",
       "      <td>87.0</td>\n",
       "      <td>8.1</td>\n",
       "      <td>T</td>\n",
       "      <td>0.04</td>\n",
       "    </tr>\n",
       "    <tr>\n",
       "      <th>16368</th>\n",
       "      <td>Zombie Army Trilogy</td>\n",
       "      <td>XOne</td>\n",
       "      <td>2015</td>\n",
       "      <td>Shooter</td>\n",
       "      <td>0.05</td>\n",
       "      <td>0.05</td>\n",
       "      <td>0.0</td>\n",
       "      <td>0.01</td>\n",
       "      <td>62.0</td>\n",
       "      <td>7.2</td>\n",
       "      <td>None</td>\n",
       "      <td>0.11</td>\n",
       "    </tr>\n",
       "  </tbody>\n",
       "</table>\n",
       "<p>165 rows × 12 columns</p>\n",
       "</div>"
      ],
      "text/plain": [
       "                                    name platform  year_of_release      genre  \\\n",
       "110                        7 Days to Die     XOne             2016     Action   \n",
       "256    Agatha Christie's The ABC Murders     XOne             2016  Adventure   \n",
       "346                     Alien: Isolation     XOne             2014    Shooter   \n",
       "639       Arslan: The Warriors of Legend     XOne             2016     Action   \n",
       "660          Assassin's Creed Chronicles     XOne             2016     Action   \n",
       "...                                  ...      ...              ...        ...   \n",
       "15911         Wolfenstein: The New Order     XOne             2014    Shooter   \n",
       "15914         Wolfenstein: The Old Blood     XOne             2015     Action   \n",
       "16066                         Worms: WMD     XOne             2016     Action   \n",
       "16127                             XCOM 2     XOne             2016   Strategy   \n",
       "16368                Zombie Army Trilogy     XOne             2015    Shooter   \n",
       "\n",
       "       na_sales  eu_sales  jp_sales  other_sales  critic_score  user_score  \\\n",
       "110        0.03      0.02       0.0         0.00          35.0         5.2   \n",
       "256        0.01      0.00       0.0         0.00          66.0         7.5   \n",
       "346        0.22      0.24       0.0         0.04          78.0         7.8   \n",
       "639        0.01      0.00       0.0         0.00           NaN         5.8   \n",
       "660        0.00      0.01       0.0         0.00           NaN         6.8   \n",
       "...         ...       ...       ...          ...           ...         ...   \n",
       "15911      0.34      0.28       0.0         0.06          79.0         7.8   \n",
       "15914      0.07      0.07       0.0         0.01          75.0         8.0   \n",
       "16066      0.01      0.00       0.0         0.00          75.0         8.1   \n",
       "16127      0.02      0.02       0.0         0.00          87.0         8.1   \n",
       "16368      0.05      0.05       0.0         0.01          62.0         7.2   \n",
       "\n",
       "      rating  total_sales  \n",
       "110        M         0.05  \n",
       "256     None         0.01  \n",
       "346        M         0.50  \n",
       "639        T         0.01  \n",
       "660        T         0.01  \n",
       "...      ...          ...  \n",
       "15911      M         0.68  \n",
       "15914   None         0.15  \n",
       "16066   E10+         0.01  \n",
       "16127      T         0.04  \n",
       "16368   None         0.11  \n",
       "\n",
       "[165 rows x 12 columns]"
      ]
     },
     "execution_count": 45,
     "metadata": {},
     "output_type": "execute_result"
    }
   ],
   "source": [
    "user_score_xone = actual_data.query('platform == \"XOne\" & user_score > 0')\n",
    "user_score_xone"
   ]
  },
  {
   "cell_type": "code",
   "execution_count": 46,
   "id": "6f1c3632",
   "metadata": {},
   "outputs": [
    {
     "data": {
      "text/html": [
       "<div>\n",
       "<style scoped>\n",
       "    .dataframe tbody tr th:only-of-type {\n",
       "        vertical-align: middle;\n",
       "    }\n",
       "\n",
       "    .dataframe tbody tr th {\n",
       "        vertical-align: top;\n",
       "    }\n",
       "\n",
       "    .dataframe thead th {\n",
       "        text-align: right;\n",
       "    }\n",
       "</style>\n",
       "<table border=\"1\" class=\"dataframe\">\n",
       "  <thead>\n",
       "    <tr style=\"text-align: right;\">\n",
       "      <th></th>\n",
       "      <th>name</th>\n",
       "      <th>platform</th>\n",
       "      <th>year_of_release</th>\n",
       "      <th>genre</th>\n",
       "      <th>na_sales</th>\n",
       "      <th>eu_sales</th>\n",
       "      <th>jp_sales</th>\n",
       "      <th>other_sales</th>\n",
       "      <th>critic_score</th>\n",
       "      <th>user_score</th>\n",
       "      <th>rating</th>\n",
       "      <th>total_sales</th>\n",
       "    </tr>\n",
       "  </thead>\n",
       "  <tbody>\n",
       "    <tr>\n",
       "      <th>202</th>\n",
       "      <td>Act of Aggression</td>\n",
       "      <td>PC</td>\n",
       "      <td>2015</td>\n",
       "      <td>Strategy</td>\n",
       "      <td>0.00</td>\n",
       "      <td>0.01</td>\n",
       "      <td>0.0</td>\n",
       "      <td>0.00</td>\n",
       "      <td>71.0</td>\n",
       "      <td>7.1</td>\n",
       "      <td>None</td>\n",
       "      <td>0.01</td>\n",
       "    </tr>\n",
       "    <tr>\n",
       "      <th>262</th>\n",
       "      <td>Agatha Christie: The ABC Murders</td>\n",
       "      <td>PC</td>\n",
       "      <td>2016</td>\n",
       "      <td>Adventure</td>\n",
       "      <td>0.00</td>\n",
       "      <td>0.02</td>\n",
       "      <td>0.0</td>\n",
       "      <td>0.00</td>\n",
       "      <td>66.0</td>\n",
       "      <td>8.5</td>\n",
       "      <td>None</td>\n",
       "      <td>0.02</td>\n",
       "    </tr>\n",
       "    <tr>\n",
       "      <th>342</th>\n",
       "      <td>Alien: Isolation</td>\n",
       "      <td>PC</td>\n",
       "      <td>2014</td>\n",
       "      <td>Shooter</td>\n",
       "      <td>0.00</td>\n",
       "      <td>0.14</td>\n",
       "      <td>0.0</td>\n",
       "      <td>0.01</td>\n",
       "      <td>81.0</td>\n",
       "      <td>8.4</td>\n",
       "      <td>M</td>\n",
       "      <td>0.15</td>\n",
       "    </tr>\n",
       "    <tr>\n",
       "      <th>490</th>\n",
       "      <td>Anno 2205</td>\n",
       "      <td>PC</td>\n",
       "      <td>2015</td>\n",
       "      <td>Strategy</td>\n",
       "      <td>0.02</td>\n",
       "      <td>0.22</td>\n",
       "      <td>0.0</td>\n",
       "      <td>0.02</td>\n",
       "      <td>72.0</td>\n",
       "      <td>5.9</td>\n",
       "      <td>E10+</td>\n",
       "      <td>0.26</td>\n",
       "    </tr>\n",
       "    <tr>\n",
       "      <th>677</th>\n",
       "      <td>Assassin's Creed Syndicate</td>\n",
       "      <td>PC</td>\n",
       "      <td>2015</td>\n",
       "      <td>Action</td>\n",
       "      <td>0.11</td>\n",
       "      <td>0.09</td>\n",
       "      <td>0.0</td>\n",
       "      <td>0.02</td>\n",
       "      <td>74.0</td>\n",
       "      <td>5.9</td>\n",
       "      <td>M</td>\n",
       "      <td>0.22</td>\n",
       "    </tr>\n",
       "    <tr>\n",
       "      <th>...</th>\n",
       "      <td>...</td>\n",
       "      <td>...</td>\n",
       "      <td>...</td>\n",
       "      <td>...</td>\n",
       "      <td>...</td>\n",
       "      <td>...</td>\n",
       "      <td>...</td>\n",
       "      <td>...</td>\n",
       "      <td>...</td>\n",
       "      <td>...</td>\n",
       "      <td>...</td>\n",
       "      <td>...</td>\n",
       "    </tr>\n",
       "    <tr>\n",
       "      <th>15907</th>\n",
       "      <td>Wolfenstein: The New Order</td>\n",
       "      <td>PC</td>\n",
       "      <td>2014</td>\n",
       "      <td>Shooter</td>\n",
       "      <td>0.13</td>\n",
       "      <td>0.29</td>\n",
       "      <td>0.0</td>\n",
       "      <td>0.03</td>\n",
       "      <td>81.0</td>\n",
       "      <td>8.2</td>\n",
       "      <td>M</td>\n",
       "      <td>0.45</td>\n",
       "    </tr>\n",
       "    <tr>\n",
       "      <th>15912</th>\n",
       "      <td>Wolfenstein: The Old Blood</td>\n",
       "      <td>PC</td>\n",
       "      <td>2015</td>\n",
       "      <td>Action</td>\n",
       "      <td>0.00</td>\n",
       "      <td>0.08</td>\n",
       "      <td>0.0</td>\n",
       "      <td>0.00</td>\n",
       "      <td>76.0</td>\n",
       "      <td>7.6</td>\n",
       "      <td>M</td>\n",
       "      <td>0.08</td>\n",
       "    </tr>\n",
       "    <tr>\n",
       "      <th>16028</th>\n",
       "      <td>World of Warcraft: Legion</td>\n",
       "      <td>PC</td>\n",
       "      <td>2016</td>\n",
       "      <td>Role-Playing</td>\n",
       "      <td>0.13</td>\n",
       "      <td>0.16</td>\n",
       "      <td>0.0</td>\n",
       "      <td>0.03</td>\n",
       "      <td>88.0</td>\n",
       "      <td>7.5</td>\n",
       "      <td>T</td>\n",
       "      <td>0.32</td>\n",
       "    </tr>\n",
       "    <tr>\n",
       "      <th>16031</th>\n",
       "      <td>World of Warcraft: Warlords of Draenor</td>\n",
       "      <td>PC</td>\n",
       "      <td>2014</td>\n",
       "      <td>Action</td>\n",
       "      <td>0.08</td>\n",
       "      <td>0.36</td>\n",
       "      <td>0.0</td>\n",
       "      <td>0.03</td>\n",
       "      <td>87.0</td>\n",
       "      <td>5.9</td>\n",
       "      <td>T</td>\n",
       "      <td>0.47</td>\n",
       "    </tr>\n",
       "    <tr>\n",
       "      <th>16125</th>\n",
       "      <td>XCOM 2</td>\n",
       "      <td>PC</td>\n",
       "      <td>2016</td>\n",
       "      <td>Strategy</td>\n",
       "      <td>0.09</td>\n",
       "      <td>0.12</td>\n",
       "      <td>0.0</td>\n",
       "      <td>0.02</td>\n",
       "      <td>88.0</td>\n",
       "      <td>7.1</td>\n",
       "      <td>T</td>\n",
       "      <td>0.23</td>\n",
       "    </tr>\n",
       "  </tbody>\n",
       "</table>\n",
       "<p>122 rows × 12 columns</p>\n",
       "</div>"
      ],
      "text/plain": [
       "                                         name platform  year_of_release  \\\n",
       "202                         Act of Aggression       PC             2015   \n",
       "262          Agatha Christie: The ABC Murders       PC             2016   \n",
       "342                          Alien: Isolation       PC             2014   \n",
       "490                                 Anno 2205       PC             2015   \n",
       "677                Assassin's Creed Syndicate       PC             2015   \n",
       "...                                       ...      ...              ...   \n",
       "15907              Wolfenstein: The New Order       PC             2014   \n",
       "15912              Wolfenstein: The Old Blood       PC             2015   \n",
       "16028               World of Warcraft: Legion       PC             2016   \n",
       "16031  World of Warcraft: Warlords of Draenor       PC             2014   \n",
       "16125                                  XCOM 2       PC             2016   \n",
       "\n",
       "              genre  na_sales  eu_sales  jp_sales  other_sales  critic_score  \\\n",
       "202        Strategy      0.00      0.01       0.0         0.00          71.0   \n",
       "262       Adventure      0.00      0.02       0.0         0.00          66.0   \n",
       "342         Shooter      0.00      0.14       0.0         0.01          81.0   \n",
       "490        Strategy      0.02      0.22       0.0         0.02          72.0   \n",
       "677          Action      0.11      0.09       0.0         0.02          74.0   \n",
       "...             ...       ...       ...       ...          ...           ...   \n",
       "15907       Shooter      0.13      0.29       0.0         0.03          81.0   \n",
       "15912        Action      0.00      0.08       0.0         0.00          76.0   \n",
       "16028  Role-Playing      0.13      0.16       0.0         0.03          88.0   \n",
       "16031        Action      0.08      0.36       0.0         0.03          87.0   \n",
       "16125      Strategy      0.09      0.12       0.0         0.02          88.0   \n",
       "\n",
       "       user_score rating  total_sales  \n",
       "202           7.1   None         0.01  \n",
       "262           8.5   None         0.02  \n",
       "342           8.4      M         0.15  \n",
       "490           5.9   E10+         0.26  \n",
       "677           5.9      M         0.22  \n",
       "...           ...    ...          ...  \n",
       "15907         8.2      M         0.45  \n",
       "15912         7.6      M         0.08  \n",
       "16028         7.5      T         0.32  \n",
       "16031         5.9      T         0.47  \n",
       "16125         7.1      T         0.23  \n",
       "\n",
       "[122 rows x 12 columns]"
      ]
     },
     "execution_count": 46,
     "metadata": {},
     "output_type": "execute_result"
    }
   ],
   "source": [
    "user_score_pc = actual_data.query('platform == \"PC\" & user_score > 0')\n",
    "user_score_pc"
   ]
  },
  {
   "cell_type": "markdown",
   "id": "86db52b3",
   "metadata": {},
   "source": [
    "Гипотеза H0 - истинное среднее ГС **пользовательских рейтингов на Xbox One** равно истинному среднему ГС **пользовательских рейтингов на PC**, то есть разность этих двух значений равна 0.\n",
    "\n",
    "Гипотеза H1 - истинное среднее ГС **пользовательских рейтингов на Xbox One** не равно истинному среднему ГС **пользовательских рейтингов на PC**, то есть разность этих двух значений не равна 0.\n"
   ]
  },
  {
   "cell_type": "code",
   "execution_count": 47,
   "id": "2b96794f",
   "metadata": {},
   "outputs": [
    {
     "name": "stdout",
     "output_type": "stream",
     "text": [
      "p-значение = 0.11601398086669044\n",
      "Не получилось отвергнуть нулевую гипотезу\n"
     ]
    }
   ],
   "source": [
    "results = st.ttest_ind(\n",
    "    user_score_xone['user_score'],\n",
    "    user_score_pc['user_score'],\n",
    "    equal_var=False,\n",
    "    alternative='two-sided'\n",
    ")\n",
    "\n",
    "# Уровень статистической значимости, взятый за 5%\n",
    "alpha = 0.05\n",
    "\n",
    "print('p-значение = ' + str(results.pvalue))\n",
    "if results.pvalue < alpha:\n",
    "    print('Нулевая гипотеза отвергается')\n",
    "else:\n",
    "    print('Не получилось отвергнуть нулевую гипотезу')"
   ]
  },
  {
   "cell_type": "markdown",
   "id": "68dda9ae",
   "metadata": {},
   "source": [
    "Нулевая гипотеза не отвергнута, значит есть основания полагать, что средние пользовательские рейтинги платформ Xbox One и PC **одинаковые**"
   ]
  },
  {
   "cell_type": "markdown",
   "id": "52613ff9",
   "metadata": {},
   "source": [
    "### Средние пользовательские рейтинги жанров Action и Sports разные\n",
    "Подготовим данные для второй гипотезы"
   ]
  },
  {
   "cell_type": "code",
   "execution_count": 48,
   "id": "48e46cca",
   "metadata": {},
   "outputs": [
    {
     "data": {
      "text/html": [
       "<div>\n",
       "<style scoped>\n",
       "    .dataframe tbody tr th:only-of-type {\n",
       "        vertical-align: middle;\n",
       "    }\n",
       "\n",
       "    .dataframe tbody tr th {\n",
       "        vertical-align: top;\n",
       "    }\n",
       "\n",
       "    .dataframe thead th {\n",
       "        text-align: right;\n",
       "    }\n",
       "</style>\n",
       "<table border=\"1\" class=\"dataframe\">\n",
       "  <thead>\n",
       "    <tr style=\"text-align: right;\">\n",
       "      <th></th>\n",
       "      <th>name</th>\n",
       "      <th>platform</th>\n",
       "      <th>year_of_release</th>\n",
       "      <th>genre</th>\n",
       "      <th>na_sales</th>\n",
       "      <th>eu_sales</th>\n",
       "      <th>jp_sales</th>\n",
       "      <th>other_sales</th>\n",
       "      <th>critic_score</th>\n",
       "      <th>user_score</th>\n",
       "      <th>rating</th>\n",
       "      <th>total_sales</th>\n",
       "    </tr>\n",
       "  </thead>\n",
       "  <tbody>\n",
       "    <tr>\n",
       "      <th>109</th>\n",
       "      <td>7 Days to Die</td>\n",
       "      <td>PS4</td>\n",
       "      <td>2016</td>\n",
       "      <td>Action</td>\n",
       "      <td>0.04</td>\n",
       "      <td>0.08</td>\n",
       "      <td>0.00</td>\n",
       "      <td>0.02</td>\n",
       "      <td>45.0</td>\n",
       "      <td>5.9</td>\n",
       "      <td>M</td>\n",
       "      <td>0.14</td>\n",
       "    </tr>\n",
       "    <tr>\n",
       "      <th>110</th>\n",
       "      <td>7 Days to Die</td>\n",
       "      <td>XOne</td>\n",
       "      <td>2016</td>\n",
       "      <td>Action</td>\n",
       "      <td>0.03</td>\n",
       "      <td>0.02</td>\n",
       "      <td>0.00</td>\n",
       "      <td>0.00</td>\n",
       "      <td>35.0</td>\n",
       "      <td>5.2</td>\n",
       "      <td>M</td>\n",
       "      <td>0.05</td>\n",
       "    </tr>\n",
       "    <tr>\n",
       "      <th>235</th>\n",
       "      <td>Adventure Time: The Secret of the Nameless Kin...</td>\n",
       "      <td>3DS</td>\n",
       "      <td>2014</td>\n",
       "      <td>Action</td>\n",
       "      <td>0.00</td>\n",
       "      <td>0.07</td>\n",
       "      <td>0.00</td>\n",
       "      <td>0.00</td>\n",
       "      <td>65.0</td>\n",
       "      <td>5.6</td>\n",
       "      <td>E10+</td>\n",
       "      <td>0.07</td>\n",
       "    </tr>\n",
       "    <tr>\n",
       "      <th>236</th>\n",
       "      <td>Adventure Time: The Secret of the Nameless Kin...</td>\n",
       "      <td>X360</td>\n",
       "      <td>2014</td>\n",
       "      <td>Action</td>\n",
       "      <td>0.00</td>\n",
       "      <td>0.05</td>\n",
       "      <td>0.00</td>\n",
       "      <td>0.00</td>\n",
       "      <td>58.0</td>\n",
       "      <td>7.5</td>\n",
       "      <td>E10+</td>\n",
       "      <td>0.05</td>\n",
       "    </tr>\n",
       "    <tr>\n",
       "      <th>242</th>\n",
       "      <td>Aegis of Earth: Protonovus Assault</td>\n",
       "      <td>PS4</td>\n",
       "      <td>2016</td>\n",
       "      <td>Action</td>\n",
       "      <td>0.02</td>\n",
       "      <td>0.00</td>\n",
       "      <td>0.00</td>\n",
       "      <td>0.00</td>\n",
       "      <td>57.0</td>\n",
       "      <td>7.8</td>\n",
       "      <td>T</td>\n",
       "      <td>0.02</td>\n",
       "    </tr>\n",
       "    <tr>\n",
       "      <th>...</th>\n",
       "      <td>...</td>\n",
       "      <td>...</td>\n",
       "      <td>...</td>\n",
       "      <td>...</td>\n",
       "      <td>...</td>\n",
       "      <td>...</td>\n",
       "      <td>...</td>\n",
       "      <td>...</td>\n",
       "      <td>...</td>\n",
       "      <td>...</td>\n",
       "      <td>...</td>\n",
       "      <td>...</td>\n",
       "    </tr>\n",
       "    <tr>\n",
       "      <th>16065</th>\n",
       "      <td>Worms: WMD</td>\n",
       "      <td>PS4</td>\n",
       "      <td>2016</td>\n",
       "      <td>Action</td>\n",
       "      <td>0.01</td>\n",
       "      <td>0.02</td>\n",
       "      <td>0.00</td>\n",
       "      <td>0.00</td>\n",
       "      <td>78.0</td>\n",
       "      <td>7.6</td>\n",
       "      <td>E10+</td>\n",
       "      <td>0.03</td>\n",
       "    </tr>\n",
       "    <tr>\n",
       "      <th>16066</th>\n",
       "      <td>Worms: WMD</td>\n",
       "      <td>XOne</td>\n",
       "      <td>2016</td>\n",
       "      <td>Action</td>\n",
       "      <td>0.01</td>\n",
       "      <td>0.00</td>\n",
       "      <td>0.00</td>\n",
       "      <td>0.00</td>\n",
       "      <td>75.0</td>\n",
       "      <td>8.1</td>\n",
       "      <td>E10+</td>\n",
       "      <td>0.01</td>\n",
       "    </tr>\n",
       "    <tr>\n",
       "      <th>16164</th>\n",
       "      <td>Yaiba: Ninja Gaiden Z</td>\n",
       "      <td>PS3</td>\n",
       "      <td>2014</td>\n",
       "      <td>Action</td>\n",
       "      <td>0.05</td>\n",
       "      <td>0.03</td>\n",
       "      <td>0.00</td>\n",
       "      <td>0.02</td>\n",
       "      <td>43.0</td>\n",
       "      <td>4.5</td>\n",
       "      <td>M</td>\n",
       "      <td>0.10</td>\n",
       "    </tr>\n",
       "    <tr>\n",
       "      <th>16165</th>\n",
       "      <td>Yaiba: Ninja Gaiden Z</td>\n",
       "      <td>X360</td>\n",
       "      <td>2014</td>\n",
       "      <td>Action</td>\n",
       "      <td>0.03</td>\n",
       "      <td>0.01</td>\n",
       "      <td>0.00</td>\n",
       "      <td>0.00</td>\n",
       "      <td>50.0</td>\n",
       "      <td>5.3</td>\n",
       "      <td>M</td>\n",
       "      <td>0.04</td>\n",
       "    </tr>\n",
       "    <tr>\n",
       "      <th>16426</th>\n",
       "      <td>inFAMOUS: Second Son</td>\n",
       "      <td>PS4</td>\n",
       "      <td>2014</td>\n",
       "      <td>Action</td>\n",
       "      <td>1.28</td>\n",
       "      <td>0.98</td>\n",
       "      <td>0.07</td>\n",
       "      <td>0.46</td>\n",
       "      <td>80.0</td>\n",
       "      <td>7.9</td>\n",
       "      <td>T</td>\n",
       "      <td>2.79</td>\n",
       "    </tr>\n",
       "  </tbody>\n",
       "</table>\n",
       "<p>297 rows × 12 columns</p>\n",
       "</div>"
      ],
      "text/plain": [
       "                                                    name platform  \\\n",
       "109                                        7 Days to Die      PS4   \n",
       "110                                        7 Days to Die     XOne   \n",
       "235    Adventure Time: The Secret of the Nameless Kin...      3DS   \n",
       "236    Adventure Time: The Secret of the Nameless Kin...     X360   \n",
       "242                   Aegis of Earth: Protonovus Assault      PS4   \n",
       "...                                                  ...      ...   \n",
       "16065                                         Worms: WMD      PS4   \n",
       "16066                                         Worms: WMD     XOne   \n",
       "16164                              Yaiba: Ninja Gaiden Z      PS3   \n",
       "16165                              Yaiba: Ninja Gaiden Z     X360   \n",
       "16426                               inFAMOUS: Second Son      PS4   \n",
       "\n",
       "       year_of_release   genre  na_sales  eu_sales  jp_sales  other_sales  \\\n",
       "109               2016  Action      0.04      0.08      0.00         0.02   \n",
       "110               2016  Action      0.03      0.02      0.00         0.00   \n",
       "235               2014  Action      0.00      0.07      0.00         0.00   \n",
       "236               2014  Action      0.00      0.05      0.00         0.00   \n",
       "242               2016  Action      0.02      0.00      0.00         0.00   \n",
       "...                ...     ...       ...       ...       ...          ...   \n",
       "16065             2016  Action      0.01      0.02      0.00         0.00   \n",
       "16066             2016  Action      0.01      0.00      0.00         0.00   \n",
       "16164             2014  Action      0.05      0.03      0.00         0.02   \n",
       "16165             2014  Action      0.03      0.01      0.00         0.00   \n",
       "16426             2014  Action      1.28      0.98      0.07         0.46   \n",
       "\n",
       "       critic_score  user_score rating  total_sales  \n",
       "109            45.0         5.9      M         0.14  \n",
       "110            35.0         5.2      M         0.05  \n",
       "235            65.0         5.6   E10+         0.07  \n",
       "236            58.0         7.5   E10+         0.05  \n",
       "242            57.0         7.8      T         0.02  \n",
       "...             ...         ...    ...          ...  \n",
       "16065          78.0         7.6   E10+         0.03  \n",
       "16066          75.0         8.1   E10+         0.01  \n",
       "16164          43.0         4.5      M         0.10  \n",
       "16165          50.0         5.3      M         0.04  \n",
       "16426          80.0         7.9      T         2.79  \n",
       "\n",
       "[297 rows x 12 columns]"
      ]
     },
     "execution_count": 48,
     "metadata": {},
     "output_type": "execute_result"
    }
   ],
   "source": [
    "user_score_action = actual_data.query('genre == \"Action\" & user_score > 0')\n",
    "user_score_action"
   ]
  },
  {
   "cell_type": "code",
   "execution_count": 49,
   "id": "dd2a9979",
   "metadata": {},
   "outputs": [
    {
     "data": {
      "text/html": [
       "<div>\n",
       "<style scoped>\n",
       "    .dataframe tbody tr th:only-of-type {\n",
       "        vertical-align: middle;\n",
       "    }\n",
       "\n",
       "    .dataframe tbody tr th {\n",
       "        vertical-align: top;\n",
       "    }\n",
       "\n",
       "    .dataframe thead th {\n",
       "        text-align: right;\n",
       "    }\n",
       "</style>\n",
       "<table border=\"1\" class=\"dataframe\">\n",
       "  <thead>\n",
       "    <tr style=\"text-align: right;\">\n",
       "      <th></th>\n",
       "      <th>name</th>\n",
       "      <th>platform</th>\n",
       "      <th>year_of_release</th>\n",
       "      <th>genre</th>\n",
       "      <th>na_sales</th>\n",
       "      <th>eu_sales</th>\n",
       "      <th>jp_sales</th>\n",
       "      <th>other_sales</th>\n",
       "      <th>critic_score</th>\n",
       "      <th>user_score</th>\n",
       "      <th>rating</th>\n",
       "      <th>total_sales</th>\n",
       "    </tr>\n",
       "  </thead>\n",
       "  <tbody>\n",
       "    <tr>\n",
       "      <th>72</th>\n",
       "      <td>2014 FIFA World Cup Brazil</td>\n",
       "      <td>PS3</td>\n",
       "      <td>2014</td>\n",
       "      <td>Sports</td>\n",
       "      <td>0.15</td>\n",
       "      <td>0.36</td>\n",
       "      <td>0.01</td>\n",
       "      <td>0.09</td>\n",
       "      <td>73.0</td>\n",
       "      <td>4.3</td>\n",
       "      <td>E</td>\n",
       "      <td>0.61</td>\n",
       "    </tr>\n",
       "    <tr>\n",
       "      <th>73</th>\n",
       "      <td>2014 FIFA World Cup Brazil</td>\n",
       "      <td>X360</td>\n",
       "      <td>2014</td>\n",
       "      <td>Sports</td>\n",
       "      <td>0.15</td>\n",
       "      <td>0.25</td>\n",
       "      <td>0.00</td>\n",
       "      <td>0.03</td>\n",
       "      <td>74.0</td>\n",
       "      <td>4.4</td>\n",
       "      <td>E</td>\n",
       "      <td>0.43</td>\n",
       "    </tr>\n",
       "    <tr>\n",
       "      <th>2807</th>\n",
       "      <td>Dead or Alive Xtreme 3: Fortune</td>\n",
       "      <td>PS4</td>\n",
       "      <td>2016</td>\n",
       "      <td>Sports</td>\n",
       "      <td>0.00</td>\n",
       "      <td>0.00</td>\n",
       "      <td>0.05</td>\n",
       "      <td>0.00</td>\n",
       "      <td>43.0</td>\n",
       "      <td>7.8</td>\n",
       "      <td>None</td>\n",
       "      <td>0.05</td>\n",
       "    </tr>\n",
       "    <tr>\n",
       "      <th>3088</th>\n",
       "      <td>Dino Dini's Kick Off Revival</td>\n",
       "      <td>PS4</td>\n",
       "      <td>2016</td>\n",
       "      <td>Sports</td>\n",
       "      <td>0.00</td>\n",
       "      <td>0.02</td>\n",
       "      <td>0.00</td>\n",
       "      <td>0.00</td>\n",
       "      <td>31.0</td>\n",
       "      <td>4.5</td>\n",
       "      <td>None</td>\n",
       "      <td>0.02</td>\n",
       "    </tr>\n",
       "    <tr>\n",
       "      <th>3315</th>\n",
       "      <td>Don Bradman Cricket 14</td>\n",
       "      <td>PS3</td>\n",
       "      <td>2014</td>\n",
       "      <td>Sports</td>\n",
       "      <td>0.00</td>\n",
       "      <td>0.01</td>\n",
       "      <td>0.00</td>\n",
       "      <td>0.00</td>\n",
       "      <td>73.0</td>\n",
       "      <td>6.9</td>\n",
       "      <td>E</td>\n",
       "      <td>0.01</td>\n",
       "    </tr>\n",
       "    <tr>\n",
       "      <th>...</th>\n",
       "      <td>...</td>\n",
       "      <td>...</td>\n",
       "      <td>...</td>\n",
       "      <td>...</td>\n",
       "      <td>...</td>\n",
       "      <td>...</td>\n",
       "      <td>...</td>\n",
       "      <td>...</td>\n",
       "      <td>...</td>\n",
       "      <td>...</td>\n",
       "      <td>...</td>\n",
       "      <td>...</td>\n",
       "    </tr>\n",
       "    <tr>\n",
       "      <th>15522</th>\n",
       "      <td>WWE 2K16</td>\n",
       "      <td>XOne</td>\n",
       "      <td>2015</td>\n",
       "      <td>Sports</td>\n",
       "      <td>0.32</td>\n",
       "      <td>0.22</td>\n",
       "      <td>0.00</td>\n",
       "      <td>0.05</td>\n",
       "      <td>72.0</td>\n",
       "      <td>5.7</td>\n",
       "      <td>T</td>\n",
       "      <td>0.59</td>\n",
       "    </tr>\n",
       "    <tr>\n",
       "      <th>15523</th>\n",
       "      <td>WWE 2K17</td>\n",
       "      <td>PS3</td>\n",
       "      <td>2016</td>\n",
       "      <td>Sports</td>\n",
       "      <td>0.05</td>\n",
       "      <td>0.07</td>\n",
       "      <td>0.00</td>\n",
       "      <td>0.02</td>\n",
       "      <td>NaN</td>\n",
       "      <td>4.1</td>\n",
       "      <td>T</td>\n",
       "      <td>0.14</td>\n",
       "    </tr>\n",
       "    <tr>\n",
       "      <th>15524</th>\n",
       "      <td>WWE 2K17</td>\n",
       "      <td>PS4</td>\n",
       "      <td>2016</td>\n",
       "      <td>Sports</td>\n",
       "      <td>0.17</td>\n",
       "      <td>0.34</td>\n",
       "      <td>0.00</td>\n",
       "      <td>0.09</td>\n",
       "      <td>69.0</td>\n",
       "      <td>6.9</td>\n",
       "      <td>T</td>\n",
       "      <td>0.60</td>\n",
       "    </tr>\n",
       "    <tr>\n",
       "      <th>15526</th>\n",
       "      <td>WWE 2K17</td>\n",
       "      <td>XOne</td>\n",
       "      <td>2016</td>\n",
       "      <td>Sports</td>\n",
       "      <td>0.12</td>\n",
       "      <td>0.12</td>\n",
       "      <td>0.00</td>\n",
       "      <td>0.02</td>\n",
       "      <td>68.0</td>\n",
       "      <td>5.5</td>\n",
       "      <td>T</td>\n",
       "      <td>0.26</td>\n",
       "    </tr>\n",
       "    <tr>\n",
       "      <th>15789</th>\n",
       "      <td>Wii Sports Club</td>\n",
       "      <td>WiiU</td>\n",
       "      <td>2014</td>\n",
       "      <td>Sports</td>\n",
       "      <td>0.17</td>\n",
       "      <td>0.14</td>\n",
       "      <td>0.04</td>\n",
       "      <td>0.03</td>\n",
       "      <td>68.0</td>\n",
       "      <td>7.0</td>\n",
       "      <td>E10+</td>\n",
       "      <td>0.38</td>\n",
       "    </tr>\n",
       "  </tbody>\n",
       "</table>\n",
       "<p>127 rows × 12 columns</p>\n",
       "</div>"
      ],
      "text/plain": [
       "                                  name platform  year_of_release   genre  \\\n",
       "72          2014 FIFA World Cup Brazil      PS3             2014  Sports   \n",
       "73          2014 FIFA World Cup Brazil     X360             2014  Sports   \n",
       "2807   Dead or Alive Xtreme 3: Fortune      PS4             2016  Sports   \n",
       "3088      Dino Dini's Kick Off Revival      PS4             2016  Sports   \n",
       "3315            Don Bradman Cricket 14      PS3             2014  Sports   \n",
       "...                                ...      ...              ...     ...   \n",
       "15522                         WWE 2K16     XOne             2015  Sports   \n",
       "15523                         WWE 2K17      PS3             2016  Sports   \n",
       "15524                         WWE 2K17      PS4             2016  Sports   \n",
       "15526                         WWE 2K17     XOne             2016  Sports   \n",
       "15789                  Wii Sports Club     WiiU             2014  Sports   \n",
       "\n",
       "       na_sales  eu_sales  jp_sales  other_sales  critic_score  user_score  \\\n",
       "72         0.15      0.36      0.01         0.09          73.0         4.3   \n",
       "73         0.15      0.25      0.00         0.03          74.0         4.4   \n",
       "2807       0.00      0.00      0.05         0.00          43.0         7.8   \n",
       "3088       0.00      0.02      0.00         0.00          31.0         4.5   \n",
       "3315       0.00      0.01      0.00         0.00          73.0         6.9   \n",
       "...         ...       ...       ...          ...           ...         ...   \n",
       "15522      0.32      0.22      0.00         0.05          72.0         5.7   \n",
       "15523      0.05      0.07      0.00         0.02           NaN         4.1   \n",
       "15524      0.17      0.34      0.00         0.09          69.0         6.9   \n",
       "15526      0.12      0.12      0.00         0.02          68.0         5.5   \n",
       "15789      0.17      0.14      0.04         0.03          68.0         7.0   \n",
       "\n",
       "      rating  total_sales  \n",
       "72         E         0.61  \n",
       "73         E         0.43  \n",
       "2807    None         0.05  \n",
       "3088    None         0.02  \n",
       "3315       E         0.01  \n",
       "...      ...          ...  \n",
       "15522      T         0.59  \n",
       "15523      T         0.14  \n",
       "15524      T         0.60  \n",
       "15526      T         0.26  \n",
       "15789   E10+         0.38  \n",
       "\n",
       "[127 rows x 12 columns]"
      ]
     },
     "execution_count": 49,
     "metadata": {},
     "output_type": "execute_result"
    }
   ],
   "source": [
    "user_score_sports = actual_data.query('genre == \"Sports\" & user_score > 0')\n",
    "user_score_sports"
   ]
  },
  {
   "cell_type": "markdown",
   "id": "6ae8198b",
   "metadata": {},
   "source": [
    "Гипотеза H0 - истинное среднее ГС **пользовательских рейтингов в жанре Action** равно истинному среднему ГС **пользовательских рейтингов в жанре Sports**, то есть разность этих двух значений равна 0.\n",
    "\n",
    "Гипотеза H1 - истинное среднее ГС **пользовательских рейтингов в жанре Action** не равно истинному среднему ГС **пользовательских рейтингов в жанре Sports**, то есть разность этих двух значений не равна 0.\n"
   ]
  },
  {
   "cell_type": "code",
   "execution_count": 50,
   "id": "2911c284",
   "metadata": {},
   "outputs": [
    {
     "name": "stdout",
     "output_type": "stream",
     "text": [
      "p-значение = 1.1825550382644637e-14\n",
      "Нулевая гипотеза отвергается\n"
     ]
    }
   ],
   "source": [
    "results = st.ttest_ind(\n",
    "    user_score_action['user_score'],\n",
    "    user_score_sports['user_score'],\n",
    "    equal_var=False,\n",
    "    alternative='two-sided'\n",
    ")\n",
    "\n",
    "# Уровень статистической значимости, взятый за 5%\n",
    "alpha = 0.05\n",
    "\n",
    "print('p-значение = ' + str(results.pvalue))\n",
    "if results.pvalue < alpha:\n",
    "    print('Нулевая гипотеза отвергается')\n",
    "else:\n",
    "    print('Не получилось отвергнуть нулевую гипотезу')"
   ]
  },
  {
   "cell_type": "markdown",
   "id": "ddb68ce9",
   "metadata": {},
   "source": [
    "Нулевая гипотеза отвергнута, значит средние пользовательские рейтинги в жанре Action и Sports **различаются**"
   ]
  },
  {
   "cell_type": "markdown",
   "id": "cb73dc33",
   "metadata": {},
   "source": [
    "## Выводы по проделанной работе"
   ]
  },
  {
   "cell_type": "markdown",
   "id": "434e433a",
   "metadata": {},
   "source": [
    "В ходе работы были исследованы данные о продажах игр магазина «Стримчик»:\n",
    "- Проведена предобработка данных - улучшили названия столбцов, а также их типы данных, обработали пропуски в столбцах с названием, жанром и годом релиза игры, а также добавили столбец с суммарными продажами игры.\n",
    "- При исследовательском анализе данных был выделен актуальный период (2014-2016), эти данные помогут построить прогноз на 2017 год. Выяснилось, что PS4 и XOne - самые прибыльные платформы. На продажи внутри одной популярной платформы не влияют отзывы пользователей и критиков. Самый популярный жанр - Shooter.\n",
    "- В ходе изучения данных о продажах в конкретных регионах выянилось, что PS4 популярна абсолютно везде, XOne популярна в NA и EU, 3DS имеет тотальное доминирование на японском рынке. Примечательно, что в Японии топ-5 занимают исключительно отечественные приставки (от Nintendo и Sony). При изучении самых популярных жанров стало понятно: Action популярен везде, предпочтения людей в NA и EU очень похожи, в Японии они другие.\n",
    "- После проверки гипотез стоит выделить, что средние пользовательские рейтинги платформ Xbox One и PC одинаковые, а средние пользовательские рейтинги в жанре Action и Sports различаются"
   ]
  }
 ],
 "metadata": {
  "kernelspec": {
   "display_name": "Python 3 (ipykernel)",
   "language": "python",
   "name": "python3"
  },
  "language_info": {
   "codemirror_mode": {
    "name": "ipython",
    "version": 3
   },
   "file_extension": ".py",
   "mimetype": "text/x-python",
   "name": "python",
   "nbconvert_exporter": "python",
   "pygments_lexer": "ipython3",
   "version": "3.11.10"
  },
  "toc": {
   "base_numbering": 1,
   "nav_menu": {},
   "number_sections": true,
   "sideBar": true,
   "skip_h1_title": true,
   "title_cell": "Содержание",
   "title_sidebar": "Содержание",
   "toc_cell": true,
   "toc_position": {
    "height": "calc(100% - 180px)",
    "left": "10px",
    "top": "150px",
    "width": "186.739136px"
   },
   "toc_section_display": true,
   "toc_window_display": false
  }
 },
 "nbformat": 4,
 "nbformat_minor": 5
}
