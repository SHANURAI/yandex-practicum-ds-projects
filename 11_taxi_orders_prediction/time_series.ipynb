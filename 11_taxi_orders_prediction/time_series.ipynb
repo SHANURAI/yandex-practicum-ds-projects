{
 "cells": [
  {
   "cell_type": "markdown",
   "metadata": {
    "toc": true
   },
   "source": [
    "<h1>Содержание<span class=\"tocSkip\"></span></h1>\n",
    "<div class=\"toc\"><ul class=\"toc-item\"><li><span><a href=\"#Подготовка\" data-toc-modified-id=\"Подготовка-1\"><span class=\"toc-item-num\">1&nbsp;&nbsp;</span>Подготовка</a></span></li><li><span><a href=\"#Анализ\" data-toc-modified-id=\"Анализ-2\"><span class=\"toc-item-num\">2&nbsp;&nbsp;</span>Анализ</a></span></li><li><span><a href=\"#Обучение\" data-toc-modified-id=\"Обучение-3\"><span class=\"toc-item-num\">3&nbsp;&nbsp;</span>Обучение</a></span></li><li><span><a href=\"#Тестирование\" data-toc-modified-id=\"Тестирование-4\"><span class=\"toc-item-num\">4&nbsp;&nbsp;</span>Тестирование</a></span></li><li><span><a href=\"#Выводы\" data-toc-modified-id=\"Выводы-5\"><span class=\"toc-item-num\">5&nbsp;&nbsp;</span>Выводы</a></span></li></ul></div>"
   ]
  },
  {
   "cell_type": "markdown",
   "metadata": {},
   "source": [
    "#  Прогнозирование заказов такси"
   ]
  },
  {
   "cell_type": "markdown",
   "metadata": {},
   "source": [
    "Компания «Чётенькое такси» собрала исторические данные о заказах такси в аэропортах. Чтобы привлекать больше водителей в период пиковой нагрузки, нужно спрогнозировать количество заказов такси на следующий час. Необходимо построить модель для такого предсказания.\n",
    "\n",
    "Значение метрики *RMSE* на тестовой выборке должно быть не больше 48.\n",
    "\n",
    "Требуется:\n",
    "\n",
    "1. Загрузить данные и выполнить их ресемплирование по одному часу.\n",
    "2. Проанализировать данные.\n",
    "3. Обучить разные модели с различными гиперпараметрами. Сделать тестовую выборку размером 10% от исходных данных.\n",
    "4. Проверить данные на тестовой выборке и сделать выводы.\n",
    "\n",
    "\n",
    "Данные лежат в таблице `taxi`. Количество заказов находится в столбце `num_orders` (от англ. *number of orders*, «число заказов»)."
   ]
  },
  {
   "cell_type": "markdown",
   "metadata": {},
   "source": [
    "## Подготовка"
   ]
  },
  {
   "cell_type": "code",
   "execution_count": 1,
   "metadata": {},
   "outputs": [],
   "source": [
    "import pandas as pd\n",
    "import numpy as np\n",
    "import matplotlib.pyplot as plt\n",
    "from statsmodels.tsa.seasonal import seasonal_decompose\n",
    "from sklearn.model_selection import train_test_split\n",
    "\n",
    "from sklearn.linear_model import LinearRegression\n",
    "from sklearn.tree import DecisionTreeRegressor\n",
    "from sklearn.neighbors import KNeighborsRegressor\n",
    "\n",
    "from sklearn.model_selection import GridSearchCV, RandomizedSearchCV\n",
    "\n",
    "from sklearn.metrics import make_scorer, root_mean_squared_error\n",
    "\n",
    "from sklearn.pipeline import Pipeline\n",
    "\n",
    "from sklearn.impute import SimpleImputer\n",
    "from sklearn.preprocessing import (\n",
    "    OneHotEncoder, OrdinalEncoder, StandardScaler, MinMaxScaler, RobustScaler, PolynomialFeatures\n",
    ")\n",
    "from sklearn.compose import ColumnTransformer\n",
    "from statsmodels.graphics.tsaplots import plot_acf, plot_pacf\n"
   ]
  },
  {
   "cell_type": "code",
   "execution_count": 2,
   "metadata": {},
   "outputs": [],
   "source": [
    "try:\n",
    "    taxi = pd.read_csv('/datasets/taxi.csv')\n",
    "except:\n",
    "    taxi = pd.read_csv('https://code.s3.yandex.net/datasets/taxi.csv')"
   ]
  },
  {
   "cell_type": "code",
   "execution_count": 3,
   "metadata": {
    "scrolled": true
   },
   "outputs": [
    {
     "data": {
      "text/html": [
       "<div>\n",
       "<style scoped>\n",
       "    .dataframe tbody tr th:only-of-type {\n",
       "        vertical-align: middle;\n",
       "    }\n",
       "\n",
       "    .dataframe tbody tr th {\n",
       "        vertical-align: top;\n",
       "    }\n",
       "\n",
       "    .dataframe thead th {\n",
       "        text-align: right;\n",
       "    }\n",
       "</style>\n",
       "<table border=\"1\" class=\"dataframe\">\n",
       "  <thead>\n",
       "    <tr style=\"text-align: right;\">\n",
       "      <th></th>\n",
       "      <th>datetime</th>\n",
       "      <th>num_orders</th>\n",
       "    </tr>\n",
       "  </thead>\n",
       "  <tbody>\n",
       "    <tr>\n",
       "      <th>0</th>\n",
       "      <td>2018-03-01 00:00:00</td>\n",
       "      <td>9</td>\n",
       "    </tr>\n",
       "    <tr>\n",
       "      <th>1</th>\n",
       "      <td>2018-03-01 00:10:00</td>\n",
       "      <td>14</td>\n",
       "    </tr>\n",
       "    <tr>\n",
       "      <th>2</th>\n",
       "      <td>2018-03-01 00:20:00</td>\n",
       "      <td>28</td>\n",
       "    </tr>\n",
       "    <tr>\n",
       "      <th>3</th>\n",
       "      <td>2018-03-01 00:30:00</td>\n",
       "      <td>20</td>\n",
       "    </tr>\n",
       "    <tr>\n",
       "      <th>4</th>\n",
       "      <td>2018-03-01 00:40:00</td>\n",
       "      <td>32</td>\n",
       "    </tr>\n",
       "    <tr>\n",
       "      <th>5</th>\n",
       "      <td>2018-03-01 00:50:00</td>\n",
       "      <td>21</td>\n",
       "    </tr>\n",
       "    <tr>\n",
       "      <th>6</th>\n",
       "      <td>2018-03-01 01:00:00</td>\n",
       "      <td>7</td>\n",
       "    </tr>\n",
       "    <tr>\n",
       "      <th>7</th>\n",
       "      <td>2018-03-01 01:10:00</td>\n",
       "      <td>5</td>\n",
       "    </tr>\n",
       "    <tr>\n",
       "      <th>8</th>\n",
       "      <td>2018-03-01 01:20:00</td>\n",
       "      <td>17</td>\n",
       "    </tr>\n",
       "    <tr>\n",
       "      <th>9</th>\n",
       "      <td>2018-03-01 01:30:00</td>\n",
       "      <td>12</td>\n",
       "    </tr>\n",
       "  </tbody>\n",
       "</table>\n",
       "</div>"
      ],
      "text/plain": [
       "              datetime  num_orders\n",
       "0  2018-03-01 00:00:00           9\n",
       "1  2018-03-01 00:10:00          14\n",
       "2  2018-03-01 00:20:00          28\n",
       "3  2018-03-01 00:30:00          20\n",
       "4  2018-03-01 00:40:00          32\n",
       "5  2018-03-01 00:50:00          21\n",
       "6  2018-03-01 01:00:00           7\n",
       "7  2018-03-01 01:10:00           5\n",
       "8  2018-03-01 01:20:00          17\n",
       "9  2018-03-01 01:30:00          12"
      ]
     },
     "execution_count": 3,
     "metadata": {},
     "output_type": "execute_result"
    }
   ],
   "source": [
    "taxi.head(10)"
   ]
  },
  {
   "cell_type": "code",
   "execution_count": 4,
   "metadata": {},
   "outputs": [
    {
     "name": "stdout",
     "output_type": "stream",
     "text": [
      "<class 'pandas.core.frame.DataFrame'>\n",
      "RangeIndex: 26496 entries, 0 to 26495\n",
      "Data columns (total 2 columns):\n",
      " #   Column      Non-Null Count  Dtype \n",
      "---  ------      --------------  ----- \n",
      " 0   datetime    26496 non-null  object\n",
      " 1   num_orders  26496 non-null  int64 \n",
      "dtypes: int64(1), object(1)\n",
      "memory usage: 414.1+ KB\n"
     ]
    }
   ],
   "source": [
    "taxi.info()"
   ]
  },
  {
   "cell_type": "markdown",
   "metadata": {},
   "source": [
    "Проверим количество пропусков"
   ]
  },
  {
   "cell_type": "code",
   "execution_count": 5,
   "metadata": {},
   "outputs": [
    {
     "data": {
      "text/plain": [
       "datetime      0\n",
       "num_orders    0\n",
       "dtype: int64"
      ]
     },
     "execution_count": 5,
     "metadata": {},
     "output_type": "execute_result"
    }
   ],
   "source": [
    "taxi.isna().sum()"
   ]
  },
  {
   "cell_type": "markdown",
   "metadata": {},
   "source": [
    "Проверим количество дубликатов"
   ]
  },
  {
   "cell_type": "code",
   "execution_count": 6,
   "metadata": {},
   "outputs": [
    {
     "data": {
      "text/plain": [
       "0"
      ]
     },
     "execution_count": 6,
     "metadata": {},
     "output_type": "execute_result"
    }
   ],
   "source": [
    "taxi.duplicated().sum()"
   ]
  },
  {
   "cell_type": "markdown",
   "metadata": {},
   "source": [
    "Сделаем дату и время индексом таблицы, отсортируем таблицу по индексам."
   ]
  },
  {
   "cell_type": "code",
   "execution_count": 7,
   "metadata": {},
   "outputs": [],
   "source": [
    "taxi['datetime'] = pd.to_datetime(taxi['datetime'])\n",
    "taxi = taxi.set_index('datetime')\n",
    "taxi.sort_index(inplace=True)"
   ]
  },
  {
   "cell_type": "markdown",
   "metadata": {},
   "source": [
    "Проведем ресемплирование по одному часу"
   ]
  },
  {
   "cell_type": "code",
   "execution_count": 8,
   "metadata": {},
   "outputs": [],
   "source": [
    "taxi = taxi.resample('1h').sum()"
   ]
  },
  {
   "cell_type": "code",
   "execution_count": 9,
   "metadata": {},
   "outputs": [
    {
     "data": {
      "text/html": [
       "<div>\n",
       "<style scoped>\n",
       "    .dataframe tbody tr th:only-of-type {\n",
       "        vertical-align: middle;\n",
       "    }\n",
       "\n",
       "    .dataframe tbody tr th {\n",
       "        vertical-align: top;\n",
       "    }\n",
       "\n",
       "    .dataframe thead th {\n",
       "        text-align: right;\n",
       "    }\n",
       "</style>\n",
       "<table border=\"1\" class=\"dataframe\">\n",
       "  <thead>\n",
       "    <tr style=\"text-align: right;\">\n",
       "      <th></th>\n",
       "      <th>num_orders</th>\n",
       "    </tr>\n",
       "    <tr>\n",
       "      <th>datetime</th>\n",
       "      <th></th>\n",
       "    </tr>\n",
       "  </thead>\n",
       "  <tbody>\n",
       "    <tr>\n",
       "      <th>2018-03-01 00:00:00</th>\n",
       "      <td>124</td>\n",
       "    </tr>\n",
       "    <tr>\n",
       "      <th>2018-03-01 01:00:00</th>\n",
       "      <td>85</td>\n",
       "    </tr>\n",
       "    <tr>\n",
       "      <th>2018-03-01 02:00:00</th>\n",
       "      <td>71</td>\n",
       "    </tr>\n",
       "    <tr>\n",
       "      <th>2018-03-01 03:00:00</th>\n",
       "      <td>66</td>\n",
       "    </tr>\n",
       "    <tr>\n",
       "      <th>2018-03-01 04:00:00</th>\n",
       "      <td>43</td>\n",
       "    </tr>\n",
       "  </tbody>\n",
       "</table>\n",
       "</div>"
      ],
      "text/plain": [
       "                     num_orders\n",
       "datetime                       \n",
       "2018-03-01 00:00:00         124\n",
       "2018-03-01 01:00:00          85\n",
       "2018-03-01 02:00:00          71\n",
       "2018-03-01 03:00:00          66\n",
       "2018-03-01 04:00:00          43"
      ]
     },
     "execution_count": 9,
     "metadata": {},
     "output_type": "execute_result"
    }
   ],
   "source": [
    "taxi.head()"
   ]
  },
  {
   "cell_type": "markdown",
   "metadata": {},
   "source": [
    "**Вывод:** \n",
    "\n",
    "Данные загружены, проверены на пропуски и дубликаты, столбец `datetime` получил тип данных datetime и стал индексом таблицы. Проведено ресемплирование по одному часу."
   ]
  },
  {
   "cell_type": "markdown",
   "metadata": {},
   "source": [
    "## Анализ"
   ]
  },
  {
   "cell_type": "markdown",
   "metadata": {},
   "source": [
    "Посмотрим на общий график вызовов такси."
   ]
  },
  {
   "cell_type": "code",
   "execution_count": 10,
   "metadata": {},
   "outputs": [
    {
     "data": {
      "image/png": "[encoded data removed]",
      "text/plain": [
       "<Figure size 1200x600 with 1 Axes>"
      ]
     },
     "metadata": {},
     "output_type": "display_data"
    }
   ],
   "source": [
    "taxi.plot(\n",
    "    figsize=(12, 6),\n",
    "    title='Вызовы такси у аэропорта',\n",
    "    xlabel='Дата',\n",
    "    ylabel='Количество'\n",
    ");"
   ]
  },
  {
   "cell_type": "markdown",
   "metadata": {},
   "source": [
    "Данный ряд является стационарным."
   ]
  },
  {
   "cell_type": "code",
   "execution_count": 11,
   "metadata": {},
   "outputs": [],
   "source": [
    "taxi = taxi.dropna()"
   ]
  },
  {
   "cell_type": "code",
   "execution_count": 12,
   "metadata": {},
   "outputs": [
    {
     "data": {
      "image/png": "[encoded data removed]",
      "text/plain": [
       "<Figure size 1200x800 with 3 Axes>"
      ]
     },
     "metadata": {},
     "output_type": "display_data"
    }
   ],
   "source": [
    "decomposed = seasonal_decompose(taxi)\n",
    "\n",
    "plt.figure(figsize=(12, 8))\n",
    "plt.subplot(311)\n",
    "decomposed.trend.plot(ax=plt.gca())\n",
    "plt.title('Тренд')\n",
    "plt.subplot(312)\n",
    "\n",
    "decomposed.seasonal.plot(ax=plt.gca())\n",
    "plt.title('Сезонность')\n",
    "plt.subplot(313)\n",
    "\n",
    "decomposed.resid.plot(ax=plt.gca())\n",
    "plt.title('Остаток')\n",
    "\n",
    "plt.tight_layout()"
   ]
  },
  {
   "cell_type": "markdown",
   "metadata": {},
   "source": [
    "Рассмотрим сезонность поближе"
   ]
  },
  {
   "cell_type": "code",
   "execution_count": 13,
   "metadata": {},
   "outputs": [
    {
     "data": {
      "image/png": "[encoded data removed]",
      "text/plain": [
       "<Figure size 1200x800 with 1 Axes>"
      ]
     },
     "metadata": {},
     "output_type": "display_data"
    }
   ],
   "source": [
    "plt.figure(figsize=(12, 8))\n",
    "decomposed.seasonal['2018-04-01':'2018-04-08'].plot(grid=True);"
   ]
  },
  {
   "cell_type": "code",
   "execution_count": 14,
   "metadata": {},
   "outputs": [
    {
     "data": {
      "image/png": "[encoded data removed]",
      "text/plain": [
       "<Figure size 1200x800 with 1 Axes>"
      ]
     },
     "metadata": {},
     "output_type": "display_data"
    }
   ],
   "source": [
    "plt.figure(figsize=(12, 8))\n",
    "decomposed.seasonal['2018-04-01':'2018-04-03'].plot(grid=True);"
   ]
  },
  {
   "cell_type": "markdown",
   "metadata": {},
   "source": [
    "Пик заказов такси в аэропортах бывает примерно в 12 часов вечера. Самое небольшое количество - в 6 утра."
   ]
  },
  {
   "cell_type": "markdown",
   "metadata": {},
   "source": [
    "## Обучение"
   ]
  },
  {
   "cell_type": "markdown",
   "metadata": {},
   "source": [
    "Проведем анализ автокорреляции, который позволит определить оптимальное количество лагов и размер окна"
   ]
  },
  {
   "cell_type": "code",
   "execution_count": 15,
   "metadata": {},
   "outputs": [
    {
     "data": {
      "image/png": "[encoded data removed]",
      "text/plain": [
       "<Figure size 640x480 with 1 Axes>"
      ]
     },
     "metadata": {},
     "output_type": "display_data"
    },
    {
     "data": {
      "image/png": "[encoded data removed]",
      "text/plain": [
       "<Figure size 640x480 with 1 Axes>"
      ]
     },
     "metadata": {},
     "output_type": "display_data"
    }
   ],
   "source": [
    "plot_acf(taxi['num_orders'], lags=50)\n",
    "plot_pacf(taxi['num_orders'], lags=50)\n",
    "plt.show()"
   ]
  },
  {
   "cell_type": "markdown",
   "metadata": {},
   "source": [
    "Добавим в таблицу признаки: день недели, отстающие значения (до 24) и скользящее среднее (размер окна 1)."
   ]
  },
  {
   "cell_type": "code",
   "execution_count": 16,
   "metadata": {},
   "outputs": [],
   "source": [
    "taxi['dayofweek'] = taxi.index.dayofweek\n",
    "taxi['hour'] = taxi.index.hour\n",
    "for lag in range(1, 25):\n",
    "    taxi['lag_{}'.format(lag)] = taxi['num_orders'].shift(lag)\n",
    "\n",
    "taxi['rolling_mean'] = taxi['num_orders'].shift().rolling(1).mean()"
   ]
  },
  {
   "cell_type": "code",
   "execution_count": 17,
   "metadata": {},
   "outputs": [
    {
     "data": {
      "text/html": [
       "<div>\n",
       "<style scoped>\n",
       "    .dataframe tbody tr th:only-of-type {\n",
       "        vertical-align: middle;\n",
       "    }\n",
       "\n",
       "    .dataframe tbody tr th {\n",
       "        vertical-align: top;\n",
       "    }\n",
       "\n",
       "    .dataframe thead th {\n",
       "        text-align: right;\n",
       "    }\n",
       "</style>\n",
       "<table border=\"1\" class=\"dataframe\">\n",
       "  <thead>\n",
       "    <tr style=\"text-align: right;\">\n",
       "      <th></th>\n",
       "      <th>num_orders</th>\n",
       "      <th>dayofweek</th>\n",
       "      <th>hour</th>\n",
       "      <th>lag_1</th>\n",
       "      <th>lag_2</th>\n",
       "      <th>lag_3</th>\n",
       "      <th>lag_4</th>\n",
       "      <th>lag_5</th>\n",
       "      <th>lag_6</th>\n",
       "      <th>lag_7</th>\n",
       "      <th>...</th>\n",
       "      <th>lag_16</th>\n",
       "      <th>lag_17</th>\n",
       "      <th>lag_18</th>\n",
       "      <th>lag_19</th>\n",
       "      <th>lag_20</th>\n",
       "      <th>lag_21</th>\n",
       "      <th>lag_22</th>\n",
       "      <th>lag_23</th>\n",
       "      <th>lag_24</th>\n",
       "      <th>rolling_mean</th>\n",
       "    </tr>\n",
       "    <tr>\n",
       "      <th>datetime</th>\n",
       "      <th></th>\n",
       "      <th></th>\n",
       "      <th></th>\n",
       "      <th></th>\n",
       "      <th></th>\n",
       "      <th></th>\n",
       "      <th></th>\n",
       "      <th></th>\n",
       "      <th></th>\n",
       "      <th></th>\n",
       "      <th></th>\n",
       "      <th></th>\n",
       "      <th></th>\n",
       "      <th></th>\n",
       "      <th></th>\n",
       "      <th></th>\n",
       "      <th></th>\n",
       "      <th></th>\n",
       "      <th></th>\n",
       "      <th></th>\n",
       "      <th></th>\n",
       "    </tr>\n",
       "  </thead>\n",
       "  <tbody>\n",
       "    <tr>\n",
       "      <th>2018-03-02 00:00:00</th>\n",
       "      <td>90</td>\n",
       "      <td>4</td>\n",
       "      <td>0</td>\n",
       "      <td>58.0</td>\n",
       "      <td>113.0</td>\n",
       "      <td>66.0</td>\n",
       "      <td>61.0</td>\n",
       "      <td>45.0</td>\n",
       "      <td>73.0</td>\n",
       "      <td>44.0</td>\n",
       "      <td>...</td>\n",
       "      <td>34.0</td>\n",
       "      <td>15.0</td>\n",
       "      <td>12.0</td>\n",
       "      <td>6.0</td>\n",
       "      <td>43.0</td>\n",
       "      <td>66.0</td>\n",
       "      <td>71.0</td>\n",
       "      <td>85.0</td>\n",
       "      <td>124.0</td>\n",
       "      <td>58.0</td>\n",
       "    </tr>\n",
       "    <tr>\n",
       "      <th>2018-03-02 01:00:00</th>\n",
       "      <td>120</td>\n",
       "      <td>4</td>\n",
       "      <td>1</td>\n",
       "      <td>90.0</td>\n",
       "      <td>58.0</td>\n",
       "      <td>113.0</td>\n",
       "      <td>66.0</td>\n",
       "      <td>61.0</td>\n",
       "      <td>45.0</td>\n",
       "      <td>73.0</td>\n",
       "      <td>...</td>\n",
       "      <td>69.0</td>\n",
       "      <td>34.0</td>\n",
       "      <td>15.0</td>\n",
       "      <td>12.0</td>\n",
       "      <td>6.0</td>\n",
       "      <td>43.0</td>\n",
       "      <td>66.0</td>\n",
       "      <td>71.0</td>\n",
       "      <td>85.0</td>\n",
       "      <td>90.0</td>\n",
       "    </tr>\n",
       "    <tr>\n",
       "      <th>2018-03-02 02:00:00</th>\n",
       "      <td>75</td>\n",
       "      <td>4</td>\n",
       "      <td>2</td>\n",
       "      <td>120.0</td>\n",
       "      <td>90.0</td>\n",
       "      <td>58.0</td>\n",
       "      <td>113.0</td>\n",
       "      <td>66.0</td>\n",
       "      <td>61.0</td>\n",
       "      <td>45.0</td>\n",
       "      <td>...</td>\n",
       "      <td>64.0</td>\n",
       "      <td>69.0</td>\n",
       "      <td>34.0</td>\n",
       "      <td>15.0</td>\n",
       "      <td>12.0</td>\n",
       "      <td>6.0</td>\n",
       "      <td>43.0</td>\n",
       "      <td>66.0</td>\n",
       "      <td>71.0</td>\n",
       "      <td>120.0</td>\n",
       "    </tr>\n",
       "    <tr>\n",
       "      <th>2018-03-02 03:00:00</th>\n",
       "      <td>64</td>\n",
       "      <td>4</td>\n",
       "      <td>3</td>\n",
       "      <td>75.0</td>\n",
       "      <td>120.0</td>\n",
       "      <td>90.0</td>\n",
       "      <td>58.0</td>\n",
       "      <td>113.0</td>\n",
       "      <td>66.0</td>\n",
       "      <td>61.0</td>\n",
       "      <td>...</td>\n",
       "      <td>96.0</td>\n",
       "      <td>64.0</td>\n",
       "      <td>69.0</td>\n",
       "      <td>34.0</td>\n",
       "      <td>15.0</td>\n",
       "      <td>12.0</td>\n",
       "      <td>6.0</td>\n",
       "      <td>43.0</td>\n",
       "      <td>66.0</td>\n",
       "      <td>75.0</td>\n",
       "    </tr>\n",
       "    <tr>\n",
       "      <th>2018-03-02 04:00:00</th>\n",
       "      <td>20</td>\n",
       "      <td>4</td>\n",
       "      <td>4</td>\n",
       "      <td>64.0</td>\n",
       "      <td>75.0</td>\n",
       "      <td>120.0</td>\n",
       "      <td>90.0</td>\n",
       "      <td>58.0</td>\n",
       "      <td>113.0</td>\n",
       "      <td>66.0</td>\n",
       "      <td>...</td>\n",
       "      <td>30.0</td>\n",
       "      <td>96.0</td>\n",
       "      <td>64.0</td>\n",
       "      <td>69.0</td>\n",
       "      <td>34.0</td>\n",
       "      <td>15.0</td>\n",
       "      <td>12.0</td>\n",
       "      <td>6.0</td>\n",
       "      <td>43.0</td>\n",
       "      <td>64.0</td>\n",
       "    </tr>\n",
       "    <tr>\n",
       "      <th>...</th>\n",
       "      <td>...</td>\n",
       "      <td>...</td>\n",
       "      <td>...</td>\n",
       "      <td>...</td>\n",
       "      <td>...</td>\n",
       "      <td>...</td>\n",
       "      <td>...</td>\n",
       "      <td>...</td>\n",
       "      <td>...</td>\n",
       "      <td>...</td>\n",
       "      <td>...</td>\n",
       "      <td>...</td>\n",
       "      <td>...</td>\n",
       "      <td>...</td>\n",
       "      <td>...</td>\n",
       "      <td>...</td>\n",
       "      <td>...</td>\n",
       "      <td>...</td>\n",
       "      <td>...</td>\n",
       "      <td>...</td>\n",
       "      <td>...</td>\n",
       "    </tr>\n",
       "    <tr>\n",
       "      <th>2018-08-31 19:00:00</th>\n",
       "      <td>136</td>\n",
       "      <td>4</td>\n",
       "      <td>19</td>\n",
       "      <td>207.0</td>\n",
       "      <td>217.0</td>\n",
       "      <td>197.0</td>\n",
       "      <td>116.0</td>\n",
       "      <td>133.0</td>\n",
       "      <td>166.0</td>\n",
       "      <td>136.0</td>\n",
       "      <td>...</td>\n",
       "      <td>99.0</td>\n",
       "      <td>230.0</td>\n",
       "      <td>194.0</td>\n",
       "      <td>276.0</td>\n",
       "      <td>246.0</td>\n",
       "      <td>158.0</td>\n",
       "      <td>198.0</td>\n",
       "      <td>142.0</td>\n",
       "      <td>72.0</td>\n",
       "      <td>207.0</td>\n",
       "    </tr>\n",
       "    <tr>\n",
       "      <th>2018-08-31 20:00:00</th>\n",
       "      <td>154</td>\n",
       "      <td>4</td>\n",
       "      <td>20</td>\n",
       "      <td>136.0</td>\n",
       "      <td>207.0</td>\n",
       "      <td>217.0</td>\n",
       "      <td>197.0</td>\n",
       "      <td>116.0</td>\n",
       "      <td>133.0</td>\n",
       "      <td>166.0</td>\n",
       "      <td>...</td>\n",
       "      <td>268.0</td>\n",
       "      <td>99.0</td>\n",
       "      <td>230.0</td>\n",
       "      <td>194.0</td>\n",
       "      <td>276.0</td>\n",
       "      <td>246.0</td>\n",
       "      <td>158.0</td>\n",
       "      <td>198.0</td>\n",
       "      <td>142.0</td>\n",
       "      <td>136.0</td>\n",
       "    </tr>\n",
       "    <tr>\n",
       "      <th>2018-08-31 21:00:00</th>\n",
       "      <td>159</td>\n",
       "      <td>4</td>\n",
       "      <td>21</td>\n",
       "      <td>154.0</td>\n",
       "      <td>136.0</td>\n",
       "      <td>207.0</td>\n",
       "      <td>217.0</td>\n",
       "      <td>197.0</td>\n",
       "      <td>116.0</td>\n",
       "      <td>133.0</td>\n",
       "      <td>...</td>\n",
       "      <td>78.0</td>\n",
       "      <td>268.0</td>\n",
       "      <td>99.0</td>\n",
       "      <td>230.0</td>\n",
       "      <td>194.0</td>\n",
       "      <td>276.0</td>\n",
       "      <td>246.0</td>\n",
       "      <td>158.0</td>\n",
       "      <td>198.0</td>\n",
       "      <td>154.0</td>\n",
       "    </tr>\n",
       "    <tr>\n",
       "      <th>2018-08-31 22:00:00</th>\n",
       "      <td>223</td>\n",
       "      <td>4</td>\n",
       "      <td>22</td>\n",
       "      <td>159.0</td>\n",
       "      <td>154.0</td>\n",
       "      <td>136.0</td>\n",
       "      <td>207.0</td>\n",
       "      <td>217.0</td>\n",
       "      <td>197.0</td>\n",
       "      <td>116.0</td>\n",
       "      <td>...</td>\n",
       "      <td>35.0</td>\n",
       "      <td>78.0</td>\n",
       "      <td>268.0</td>\n",
       "      <td>99.0</td>\n",
       "      <td>230.0</td>\n",
       "      <td>194.0</td>\n",
       "      <td>276.0</td>\n",
       "      <td>246.0</td>\n",
       "      <td>158.0</td>\n",
       "      <td>159.0</td>\n",
       "    </tr>\n",
       "    <tr>\n",
       "      <th>2018-08-31 23:00:00</th>\n",
       "      <td>205</td>\n",
       "      <td>4</td>\n",
       "      <td>23</td>\n",
       "      <td>223.0</td>\n",
       "      <td>159.0</td>\n",
       "      <td>154.0</td>\n",
       "      <td>136.0</td>\n",
       "      <td>207.0</td>\n",
       "      <td>217.0</td>\n",
       "      <td>197.0</td>\n",
       "      <td>...</td>\n",
       "      <td>46.0</td>\n",
       "      <td>35.0</td>\n",
       "      <td>78.0</td>\n",
       "      <td>268.0</td>\n",
       "      <td>99.0</td>\n",
       "      <td>230.0</td>\n",
       "      <td>194.0</td>\n",
       "      <td>276.0</td>\n",
       "      <td>246.0</td>\n",
       "      <td>223.0</td>\n",
       "    </tr>\n",
       "  </tbody>\n",
       "</table>\n",
       "<p>4392 rows × 28 columns</p>\n",
       "</div>"
      ],
      "text/plain": [
       "                     num_orders  dayofweek  hour  lag_1  lag_2  lag_3  lag_4  \\\n",
       "datetime                                                                       \n",
       "2018-03-02 00:00:00          90          4     0   58.0  113.0   66.0   61.0   \n",
       "2018-03-02 01:00:00         120          4     1   90.0   58.0  113.0   66.0   \n",
       "2018-03-02 02:00:00          75          4     2  120.0   90.0   58.0  113.0   \n",
       "2018-03-02 03:00:00          64          4     3   75.0  120.0   90.0   58.0   \n",
       "2018-03-02 04:00:00          20          4     4   64.0   75.0  120.0   90.0   \n",
       "...                         ...        ...   ...    ...    ...    ...    ...   \n",
       "2018-08-31 19:00:00         136          4    19  207.0  217.0  197.0  116.0   \n",
       "2018-08-31 20:00:00         154          4    20  136.0  207.0  217.0  197.0   \n",
       "2018-08-31 21:00:00         159          4    21  154.0  136.0  207.0  217.0   \n",
       "2018-08-31 22:00:00         223          4    22  159.0  154.0  136.0  207.0   \n",
       "2018-08-31 23:00:00         205          4    23  223.0  159.0  154.0  136.0   \n",
       "\n",
       "                     lag_5  lag_6  lag_7  ...  lag_16  lag_17  lag_18  lag_19  \\\n",
       "datetime                                  ...                                   \n",
       "2018-03-02 00:00:00   45.0   73.0   44.0  ...    34.0    15.0    12.0     6.0   \n",
       "2018-03-02 01:00:00   61.0   45.0   73.0  ...    69.0    34.0    15.0    12.0   \n",
       "2018-03-02 02:00:00   66.0   61.0   45.0  ...    64.0    69.0    34.0    15.0   \n",
       "2018-03-02 03:00:00  113.0   66.0   61.0  ...    96.0    64.0    69.0    34.0   \n",
       "2018-03-02 04:00:00   58.0  113.0   66.0  ...    30.0    96.0    64.0    69.0   \n",
       "...                    ...    ...    ...  ...     ...     ...     ...     ...   \n",
       "2018-08-31 19:00:00  133.0  166.0  136.0  ...    99.0   230.0   194.0   276.0   \n",
       "2018-08-31 20:00:00  116.0  133.0  166.0  ...   268.0    99.0   230.0   194.0   \n",
       "2018-08-31 21:00:00  197.0  116.0  133.0  ...    78.0   268.0    99.0   230.0   \n",
       "2018-08-31 22:00:00  217.0  197.0  116.0  ...    35.0    78.0   268.0    99.0   \n",
       "2018-08-31 23:00:00  207.0  217.0  197.0  ...    46.0    35.0    78.0   268.0   \n",
       "\n",
       "                     lag_20  lag_21  lag_22  lag_23  lag_24  rolling_mean  \n",
       "datetime                                                                   \n",
       "2018-03-02 00:00:00    43.0    66.0    71.0    85.0   124.0          58.0  \n",
       "2018-03-02 01:00:00     6.0    43.0    66.0    71.0    85.0          90.0  \n",
       "2018-03-02 02:00:00    12.0     6.0    43.0    66.0    71.0         120.0  \n",
       "2018-03-02 03:00:00    15.0    12.0     6.0    43.0    66.0          75.0  \n",
       "2018-03-02 04:00:00    34.0    15.0    12.0     6.0    43.0          64.0  \n",
       "...                     ...     ...     ...     ...     ...           ...  \n",
       "2018-08-31 19:00:00   246.0   158.0   198.0   142.0    72.0         207.0  \n",
       "2018-08-31 20:00:00   276.0   246.0   158.0   198.0   142.0         136.0  \n",
       "2018-08-31 21:00:00   194.0   276.0   246.0   158.0   198.0         154.0  \n",
       "2018-08-31 22:00:00   230.0   194.0   276.0   246.0   158.0         159.0  \n",
       "2018-08-31 23:00:00    99.0   230.0   194.0   276.0   246.0         223.0  \n",
       "\n",
       "[4392 rows x 28 columns]"
      ]
     },
     "execution_count": 17,
     "metadata": {},
     "output_type": "execute_result"
    }
   ],
   "source": [
    "taxi = taxi.dropna()\n",
    "taxi"
   ]
  },
  {
   "cell_type": "markdown",
   "metadata": {},
   "source": [
    "Разделим данные на обучающую и тестовую выборки."
   ]
  },
  {
   "cell_type": "code",
   "execution_count": 18,
   "metadata": {},
   "outputs": [],
   "source": [
    "train, test = train_test_split(\n",
    "    taxi,\n",
    "    shuffle=False,\n",
    "    test_size=0.1\n",
    ")\n",
    "X_train, y_train = train.drop('num_orders', axis=1), train['num_orders']\n",
    "X_test, y_test = test.drop('num_orders', axis=1), test['num_orders']\n"
   ]
  },
  {
   "cell_type": "code",
   "execution_count": 19,
   "metadata": {},
   "outputs": [],
   "source": [
    "pipe_final = Pipeline([\n",
    "    ('model', LinearRegression())\n",
    "])"
   ]
  },
  {
   "cell_type": "code",
   "execution_count": 20,
   "metadata": {},
   "outputs": [],
   "source": [
    "param_grid = [\n",
    "    {\n",
    "        'model': [DecisionTreeRegressor(random_state=12345)],\n",
    "        'model__max_depth': range(3, 7),\n",
    "        'model__max_features': range(5, 9),\n",
    "        'model__min_samples_split': range(2, 7),\n",
    "        'model__min_samples_leaf': range(1, 7),\n",
    "    },\n",
    "    {\n",
    "        'model': [LinearRegression()],\n",
    "    }\n",
    "]"
   ]
  },
  {
   "cell_type": "code",
   "execution_count": 21,
   "metadata": {},
   "outputs": [],
   "source": [
    "rmse_scorer = make_scorer(root_mean_squared_error, greater_is_better=False)"
   ]
  },
  {
   "cell_type": "code",
   "execution_count": 22,
   "metadata": {
    "scrolled": true
   },
   "outputs": [
    {
     "data": {
      "text/html": [
       "<style>#sk-container-id-1 {\n",
       "  /* Definition of color scheme common for light and dark mode */\n",
       "  --sklearn-color-text: black;\n",
       "  --sklearn-color-line: gray;\n",
       "  /* Definition of color scheme for unfitted estimators */\n",
       "  --sklearn-color-unfitted-level-0: #fff5e6;\n",
       "  --sklearn-color-unfitted-level-1: #f6e4d2;\n",
       "  --sklearn-color-unfitted-level-2: #ffe0b3;\n",
       "  --sklearn-color-unfitted-level-3: chocolate;\n",
       "  /* Definition of color scheme for fitted estimators */\n",
       "  --sklearn-color-fitted-level-0: #f0f8ff;\n",
       "  --sklearn-color-fitted-level-1: #d4ebff;\n",
       "  --sklearn-color-fitted-level-2: #b3dbfd;\n",
       "  --sklearn-color-fitted-level-3: cornflowerblue;\n",
       "\n",
       "  /* Specific color for light theme */\n",
       "  --sklearn-color-text-on-default-background: var(--sg-text-color, var(--theme-code-foreground, var(--jp-content-font-color1, black)));\n",
       "  --sklearn-color-background: var(--sg-background-color, var(--theme-background, var(--jp-layout-color0, white)));\n",
       "  --sklearn-color-border-box: var(--sg-text-color, var(--theme-code-foreground, var(--jp-content-font-color1, black)));\n",
       "  --sklearn-color-icon: #696969;\n",
       "\n",
       "  @media (prefers-color-scheme: dark) {\n",
       "    /* Redefinition of color scheme for dark theme */\n",
       "    --sklearn-color-text-on-default-background: var(--sg-text-color, var(--theme-code-foreground, var(--jp-content-font-color1, white)));\n",
       "    --sklearn-color-background: var(--sg-background-color, var(--theme-background, var(--jp-layout-color0, #111)));\n",
       "    --sklearn-color-border-box: var(--sg-text-color, var(--theme-code-foreground, var(--jp-content-font-color1, white)));\n",
       "    --sklearn-color-icon: #878787;\n",
       "  }\n",
       "}\n",
       "\n",
       "#sk-container-id-1 {\n",
       "  color: var(--sklearn-color-text);\n",
       "}\n",
       "\n",
       "#sk-container-id-1 pre {\n",
       "  padding: 0;\n",
       "}\n",
       "\n",
       "#sk-container-id-1 input.sk-hidden--visually {\n",
       "  border: 0;\n",
       "  clip: rect(1px 1px 1px 1px);\n",
       "  clip: rect(1px, 1px, 1px, 1px);\n",
       "  height: 1px;\n",
       "  margin: -1px;\n",
       "  overflow: hidden;\n",
       "  padding: 0;\n",
       "  position: absolute;\n",
       "  width: 1px;\n",
       "}\n",
       "\n",
       "#sk-container-id-1 div.sk-dashed-wrapped {\n",
       "  border: 1px dashed var(--sklearn-color-line);\n",
       "  margin: 0 0.4em 0.5em 0.4em;\n",
       "  box-sizing: border-box;\n",
       "  padding-bottom: 0.4em;\n",
       "  background-color: var(--sklearn-color-background);\n",
       "}\n",
       "\n",
       "#sk-container-id-1 div.sk-container {\n",
       "  /* jupyter's `normalize.less` sets `[hidden] { display: none; }`\n",
       "     but bootstrap.min.css set `[hidden] { display: none !important; }`\n",
       "     so we also need the `!important` here to be able to override the\n",
       "     default hidden behavior on the sphinx rendered scikit-learn.org.\n",
       "     See: https://github.com/scikit-learn/scikit-learn/issues/21755 */\n",
       "  display: inline-block !important;\n",
       "  position: relative;\n",
       "}\n",
       "\n",
       "#sk-container-id-1 div.sk-text-repr-fallback {\n",
       "  display: none;\n",
       "}\n",
       "\n",
       "div.sk-parallel-item,\n",
       "div.sk-serial,\n",
       "div.sk-item {\n",
       "  /* draw centered vertical line to link estimators */\n",
       "  background-image: linear-gradient(var(--sklearn-color-text-on-default-background), var(--sklearn-color-text-on-default-background));\n",
       "  background-size: 2px 100%;\n",
       "  background-repeat: no-repeat;\n",
       "  background-position: center center;\n",
       "}\n",
       "\n",
       "/* Parallel-specific style estimator block */\n",
       "\n",
       "#sk-container-id-1 div.sk-parallel-item::after {\n",
       "  content: \"\";\n",
       "  width: 100%;\n",
       "  border-bottom: 2px solid var(--sklearn-color-text-on-default-background);\n",
       "  flex-grow: 1;\n",
       "}\n",
       "\n",
       "#sk-container-id-1 div.sk-parallel {\n",
       "  display: flex;\n",
       "  align-items: stretch;\n",
       "  justify-content: center;\n",
       "  background-color: var(--sklearn-color-background);\n",
       "  position: relative;\n",
       "}\n",
       "\n",
       "#sk-container-id-1 div.sk-parallel-item {\n",
       "  display: flex;\n",
       "  flex-direction: column;\n",
       "}\n",
       "\n",
       "#sk-container-id-1 div.sk-parallel-item:first-child::after {\n",
       "  align-self: flex-end;\n",
       "  width: 50%;\n",
       "}\n",
       "\n",
       "#sk-container-id-1 div.sk-parallel-item:last-child::after {\n",
       "  align-self: flex-start;\n",
       "  width: 50%;\n",
       "}\n",
       "\n",
       "#sk-container-id-1 div.sk-parallel-item:only-child::after {\n",
       "  width: 0;\n",
       "}\n",
       "\n",
       "/* Serial-specific style estimator block */\n",
       "\n",
       "#sk-container-id-1 div.sk-serial {\n",
       "  display: flex;\n",
       "  flex-direction: column;\n",
       "  align-items: center;\n",
       "  background-color: var(--sklearn-color-background);\n",
       "  padding-right: 1em;\n",
       "  padding-left: 1em;\n",
       "}\n",
       "\n",
       "\n",
       "/* Toggleable style: style used for estimator/Pipeline/ColumnTransformer box that is\n",
       "clickable and can be expanded/collapsed.\n",
       "- Pipeline and ColumnTransformer use this feature and define the default style\n",
       "- Estimators will overwrite some part of the style using the `sk-estimator` class\n",
       "*/\n",
       "\n",
       "/* Pipeline and ColumnTransformer style (default) */\n",
       "\n",
       "#sk-container-id-1 div.sk-toggleable {\n",
       "  /* Default theme specific background. It is overwritten whether we have a\n",
       "  specific estimator or a Pipeline/ColumnTransformer */\n",
       "  background-color: var(--sklearn-color-background);\n",
       "}\n",
       "\n",
       "/* Toggleable label */\n",
       "#sk-container-id-1 label.sk-toggleable__label {\n",
       "  cursor: pointer;\n",
       "  display: block;\n",
       "  width: 100%;\n",
       "  margin-bottom: 0;\n",
       "  padding: 0.5em;\n",
       "  box-sizing: border-box;\n",
       "  text-align: center;\n",
       "}\n",
       "\n",
       "#sk-container-id-1 label.sk-toggleable__label-arrow:before {\n",
       "  /* Arrow on the left of the label */\n",
       "  content: \"▸\";\n",
       "  float: left;\n",
       "  margin-right: 0.25em;\n",
       "  color: var(--sklearn-color-icon);\n",
       "}\n",
       "\n",
       "#sk-container-id-1 label.sk-toggleable__label-arrow:hover:before {\n",
       "  color: var(--sklearn-color-text);\n",
       "}\n",
       "\n",
       "/* Toggleable content - dropdown */\n",
       "\n",
       "#sk-container-id-1 div.sk-toggleable__content {\n",
       "  max-height: 0;\n",
       "  max-width: 0;\n",
       "  overflow: hidden;\n",
       "  text-align: left;\n",
       "  /* unfitted */\n",
       "  background-color: var(--sklearn-color-unfitted-level-0);\n",
       "}\n",
       "\n",
       "#sk-container-id-1 div.sk-toggleable__content.fitted {\n",
       "  /* fitted */\n",
       "  background-color: var(--sklearn-color-fitted-level-0);\n",
       "}\n",
       "\n",
       "#sk-container-id-1 div.sk-toggleable__content pre {\n",
       "  margin: 0.2em;\n",
       "  border-radius: 0.25em;\n",
       "  color: var(--sklearn-color-text);\n",
       "  /* unfitted */\n",
       "  background-color: var(--sklearn-color-unfitted-level-0);\n",
       "}\n",
       "\n",
       "#sk-container-id-1 div.sk-toggleable__content.fitted pre {\n",
       "  /* unfitted */\n",
       "  background-color: var(--sklearn-color-fitted-level-0);\n",
       "}\n",
       "\n",
       "#sk-container-id-1 input.sk-toggleable__control:checked~div.sk-toggleable__content {\n",
       "  /* Expand drop-down */\n",
       "  max-height: 200px;\n",
       "  max-width: 100%;\n",
       "  overflow: auto;\n",
       "}\n",
       "\n",
       "#sk-container-id-1 input.sk-toggleable__control:checked~label.sk-toggleable__label-arrow:before {\n",
       "  content: \"▾\";\n",
       "}\n",
       "\n",
       "/* Pipeline/ColumnTransformer-specific style */\n",
       "\n",
       "#sk-container-id-1 div.sk-label input.sk-toggleable__control:checked~label.sk-toggleable__label {\n",
       "  color: var(--sklearn-color-text);\n",
       "  background-color: var(--sklearn-color-unfitted-level-2);\n",
       "}\n",
       "\n",
       "#sk-container-id-1 div.sk-label.fitted input.sk-toggleable__control:checked~label.sk-toggleable__label {\n",
       "  background-color: var(--sklearn-color-fitted-level-2);\n",
       "}\n",
       "\n",
       "/* Estimator-specific style */\n",
       "\n",
       "/* Colorize estimator box */\n",
       "#sk-container-id-1 div.sk-estimator input.sk-toggleable__control:checked~label.sk-toggleable__label {\n",
       "  /* unfitted */\n",
       "  background-color: var(--sklearn-color-unfitted-level-2);\n",
       "}\n",
       "\n",
       "#sk-container-id-1 div.sk-estimator.fitted input.sk-toggleable__control:checked~label.sk-toggleable__label {\n",
       "  /* fitted */\n",
       "  background-color: var(--sklearn-color-fitted-level-2);\n",
       "}\n",
       "\n",
       "#sk-container-id-1 div.sk-label label.sk-toggleable__label,\n",
       "#sk-container-id-1 div.sk-label label {\n",
       "  /* The background is the default theme color */\n",
       "  color: var(--sklearn-color-text-on-default-background);\n",
       "}\n",
       "\n",
       "/* On hover, darken the color of the background */\n",
       "#sk-container-id-1 div.sk-label:hover label.sk-toggleable__label {\n",
       "  color: var(--sklearn-color-text);\n",
       "  background-color: var(--sklearn-color-unfitted-level-2);\n",
       "}\n",
       "\n",
       "/* Label box, darken color on hover, fitted */\n",
       "#sk-container-id-1 div.sk-label.fitted:hover label.sk-toggleable__label.fitted {\n",
       "  color: var(--sklearn-color-text);\n",
       "  background-color: var(--sklearn-color-fitted-level-2);\n",
       "}\n",
       "\n",
       "/* Estimator label */\n",
       "\n",
       "#sk-container-id-1 div.sk-label label {\n",
       "  font-family: monospace;\n",
       "  font-weight: bold;\n",
       "  display: inline-block;\n",
       "  line-height: 1.2em;\n",
       "}\n",
       "\n",
       "#sk-container-id-1 div.sk-label-container {\n",
       "  text-align: center;\n",
       "}\n",
       "\n",
       "/* Estimator-specific */\n",
       "#sk-container-id-1 div.sk-estimator {\n",
       "  font-family: monospace;\n",
       "  border: 1px dotted var(--sklearn-color-border-box);\n",
       "  border-radius: 0.25em;\n",
       "  box-sizing: border-box;\n",
       "  margin-bottom: 0.5em;\n",
       "  /* unfitted */\n",
       "  background-color: var(--sklearn-color-unfitted-level-0);\n",
       "}\n",
       "\n",
       "#sk-container-id-1 div.sk-estimator.fitted {\n",
       "  /* fitted */\n",
       "  background-color: var(--sklearn-color-fitted-level-0);\n",
       "}\n",
       "\n",
       "/* on hover */\n",
       "#sk-container-id-1 div.sk-estimator:hover {\n",
       "  /* unfitted */\n",
       "  background-color: var(--sklearn-color-unfitted-level-2);\n",
       "}\n",
       "\n",
       "#sk-container-id-1 div.sk-estimator.fitted:hover {\n",
       "  /* fitted */\n",
       "  background-color: var(--sklearn-color-fitted-level-2);\n",
       "}\n",
       "\n",
       "/* Specification for estimator info (e.g. \"i\" and \"?\") */\n",
       "\n",
       "/* Common style for \"i\" and \"?\" */\n",
       "\n",
       ".sk-estimator-doc-link,\n",
       "a:link.sk-estimator-doc-link,\n",
       "a:visited.sk-estimator-doc-link {\n",
       "  float: right;\n",
       "  font-size: smaller;\n",
       "  line-height: 1em;\n",
       "  font-family: monospace;\n",
       "  background-color: var(--sklearn-color-background);\n",
       "  border-radius: 1em;\n",
       "  height: 1em;\n",
       "  width: 1em;\n",
       "  text-decoration: none !important;\n",
       "  margin-left: 1ex;\n",
       "  /* unfitted */\n",
       "  border: var(--sklearn-color-unfitted-level-1) 1pt solid;\n",
       "  color: var(--sklearn-color-unfitted-level-1);\n",
       "}\n",
       "\n",
       ".sk-estimator-doc-link.fitted,\n",
       "a:link.sk-estimator-doc-link.fitted,\n",
       "a:visited.sk-estimator-doc-link.fitted {\n",
       "  /* fitted */\n",
       "  border: var(--sklearn-color-fitted-level-1) 1pt solid;\n",
       "  color: var(--sklearn-color-fitted-level-1);\n",
       "}\n",
       "\n",
       "/* On hover */\n",
       "div.sk-estimator:hover .sk-estimator-doc-link:hover,\n",
       ".sk-estimator-doc-link:hover,\n",
       "div.sk-label-container:hover .sk-estimator-doc-link:hover,\n",
       ".sk-estimator-doc-link:hover {\n",
       "  /* unfitted */\n",
       "  background-color: var(--sklearn-color-unfitted-level-3);\n",
       "  color: var(--sklearn-color-background);\n",
       "  text-decoration: none;\n",
       "}\n",
       "\n",
       "div.sk-estimator.fitted:hover .sk-estimator-doc-link.fitted:hover,\n",
       ".sk-estimator-doc-link.fitted:hover,\n",
       "div.sk-label-container:hover .sk-estimator-doc-link.fitted:hover,\n",
       ".sk-estimator-doc-link.fitted:hover {\n",
       "  /* fitted */\n",
       "  background-color: var(--sklearn-color-fitted-level-3);\n",
       "  color: var(--sklearn-color-background);\n",
       "  text-decoration: none;\n",
       "}\n",
       "\n",
       "/* Span, style for the box shown on hovering the info icon */\n",
       ".sk-estimator-doc-link span {\n",
       "  display: none;\n",
       "  z-index: 9999;\n",
       "  position: relative;\n",
       "  font-weight: normal;\n",
       "  right: .2ex;\n",
       "  padding: .5ex;\n",
       "  margin: .5ex;\n",
       "  width: min-content;\n",
       "  min-width: 20ex;\n",
       "  max-width: 50ex;\n",
       "  color: var(--sklearn-color-text);\n",
       "  box-shadow: 2pt 2pt 4pt #999;\n",
       "  /* unfitted */\n",
       "  background: var(--sklearn-color-unfitted-level-0);\n",
       "  border: .5pt solid var(--sklearn-color-unfitted-level-3);\n",
       "}\n",
       "\n",
       ".sk-estimator-doc-link.fitted span {\n",
       "  /* fitted */\n",
       "  background: var(--sklearn-color-fitted-level-0);\n",
       "  border: var(--sklearn-color-fitted-level-3);\n",
       "}\n",
       "\n",
       ".sk-estimator-doc-link:hover span {\n",
       "  display: block;\n",
       "}\n",
       "\n",
       "/* \"?\"-specific style due to the `<a>` HTML tag */\n",
       "\n",
       "#sk-container-id-1 a.estimator_doc_link {\n",
       "  float: right;\n",
       "  font-size: 1rem;\n",
       "  line-height: 1em;\n",
       "  font-family: monospace;\n",
       "  background-color: var(--sklearn-color-background);\n",
       "  border-radius: 1rem;\n",
       "  height: 1rem;\n",
       "  width: 1rem;\n",
       "  text-decoration: none;\n",
       "  /* unfitted */\n",
       "  color: var(--sklearn-color-unfitted-level-1);\n",
       "  border: var(--sklearn-color-unfitted-level-1) 1pt solid;\n",
       "}\n",
       "\n",
       "#sk-container-id-1 a.estimator_doc_link.fitted {\n",
       "  /* fitted */\n",
       "  border: var(--sklearn-color-fitted-level-1) 1pt solid;\n",
       "  color: var(--sklearn-color-fitted-level-1);\n",
       "}\n",
       "\n",
       "/* On hover */\n",
       "#sk-container-id-1 a.estimator_doc_link:hover {\n",
       "  /* unfitted */\n",
       "  background-color: var(--sklearn-color-unfitted-level-3);\n",
       "  color: var(--sklearn-color-background);\n",
       "  text-decoration: none;\n",
       "}\n",
       "\n",
       "#sk-container-id-1 a.estimator_doc_link.fitted:hover {\n",
       "  /* fitted */\n",
       "  background-color: var(--sklearn-color-fitted-level-3);\n",
       "}\n",
       "</style><div id=\"sk-container-id-1\" class=\"sk-top-container\"><div class=\"sk-text-repr-fallback\"><pre>GridSearchCV(cv=5, estimator=Pipeline(steps=[(&#x27;model&#x27;, LinearRegression())]),\n",
       "             n_jobs=-1,\n",
       "             param_grid=[{&#x27;model&#x27;: [DecisionTreeRegressor(random_state=12345)],\n",
       "                          &#x27;model__max_depth&#x27;: range(3, 7),\n",
       "                          &#x27;model__max_features&#x27;: range(5, 9),\n",
       "                          &#x27;model__min_samples_leaf&#x27;: range(1, 7),\n",
       "                          &#x27;model__min_samples_split&#x27;: range(2, 7)},\n",
       "                         {&#x27;model&#x27;: [LinearRegression()]}],\n",
       "             scoring=make_scorer(root_mean_squared_error, greater_is_better=False, response_method=&#x27;predict&#x27;))</pre><b>In a Jupyter environment, please rerun this cell to show the HTML representation or trust the notebook. <br />On GitHub, the HTML representation is unable to render, please try loading this page with nbviewer.org.</b></div><div class=\"sk-container\" hidden><div class=\"sk-item sk-dashed-wrapped\"><div class=\"sk-label-container\"><div class=\"sk-label fitted sk-toggleable\"><input class=\"sk-toggleable__control sk-hidden--visually\" id=\"sk-estimator-id-1\" type=\"checkbox\" ><label for=\"sk-estimator-id-1\" class=\"sk-toggleable__label fitted sk-toggleable__label-arrow fitted\">&nbsp;&nbsp;GridSearchCV<a class=\"sk-estimator-doc-link fitted\" rel=\"noreferrer\" target=\"_blank\" href=\"https://scikit-learn.org/1.5/modules/generated/sklearn.model_selection.GridSearchCV.html\">?<span>Documentation for GridSearchCV</span></a><span class=\"sk-estimator-doc-link fitted\">i<span>Fitted</span></span></label><div class=\"sk-toggleable__content fitted\"><pre>GridSearchCV(cv=5, estimator=Pipeline(steps=[(&#x27;model&#x27;, LinearRegression())]),\n",
       "             n_jobs=-1,\n",
       "             param_grid=[{&#x27;model&#x27;: [DecisionTreeRegressor(random_state=12345)],\n",
       "                          &#x27;model__max_depth&#x27;: range(3, 7),\n",
       "                          &#x27;model__max_features&#x27;: range(5, 9),\n",
       "                          &#x27;model__min_samples_leaf&#x27;: range(1, 7),\n",
       "                          &#x27;model__min_samples_split&#x27;: range(2, 7)},\n",
       "                         {&#x27;model&#x27;: [LinearRegression()]}],\n",
       "             scoring=make_scorer(root_mean_squared_error, greater_is_better=False, response_method=&#x27;predict&#x27;))</pre></div> </div></div><div class=\"sk-parallel\"><div class=\"sk-parallel-item\"><div class=\"sk-item\"><div class=\"sk-label-container\"><div class=\"sk-label fitted sk-toggleable\"><input class=\"sk-toggleable__control sk-hidden--visually\" id=\"sk-estimator-id-2\" type=\"checkbox\" ><label for=\"sk-estimator-id-2\" class=\"sk-toggleable__label fitted sk-toggleable__label-arrow fitted\">best_estimator_: Pipeline</label><div class=\"sk-toggleable__content fitted\"><pre>Pipeline(steps=[(&#x27;model&#x27;, LinearRegression())])</pre></div> </div></div><div class=\"sk-serial\"><div class=\"sk-item\"><div class=\"sk-serial\"><div class=\"sk-item\"><div class=\"sk-estimator fitted sk-toggleable\"><input class=\"sk-toggleable__control sk-hidden--visually\" id=\"sk-estimator-id-3\" type=\"checkbox\" ><label for=\"sk-estimator-id-3\" class=\"sk-toggleable__label fitted sk-toggleable__label-arrow fitted\">&nbsp;LinearRegression<a class=\"sk-estimator-doc-link fitted\" rel=\"noreferrer\" target=\"_blank\" href=\"https://scikit-learn.org/1.5/modules/generated/sklearn.linear_model.LinearRegression.html\">?<span>Documentation for LinearRegression</span></a></label><div class=\"sk-toggleable__content fitted\"><pre>LinearRegression()</pre></div> </div></div></div></div></div></div></div></div></div></div></div>"
      ],
      "text/plain": [
       "GridSearchCV(cv=5, estimator=Pipeline(steps=[('model', LinearRegression())]),\n",
       "             n_jobs=-1,\n",
       "             param_grid=[{'model': [DecisionTreeRegressor(random_state=12345)],\n",
       "                          'model__max_depth': range(3, 7),\n",
       "                          'model__max_features': range(5, 9),\n",
       "                          'model__min_samples_leaf': range(1, 7),\n",
       "                          'model__min_samples_split': range(2, 7)},\n",
       "                         {'model': [LinearRegression()]}],\n",
       "             scoring=make_scorer(root_mean_squared_error, greater_is_better=False, response_method='predict'))"
      ]
     },
     "execution_count": 22,
     "metadata": {},
     "output_type": "execute_result"
    }
   ],
   "source": [
    "grid_search = GridSearchCV(\n",
    "    pipe_final,\n",
    "    param_grid,\n",
    "    cv=5,\n",
    "    scoring=rmse_scorer,\n",
    "    n_jobs=-1,\n",
    "    verbose=0\n",
    ")\n",
    "grid_search.fit(X_train, y_train)\n"
   ]
  },
  {
   "cell_type": "code",
   "execution_count": 23,
   "metadata": {},
   "outputs": [
    {
     "name": "stdout",
     "output_type": "stream",
     "text": [
      "     mean_test_score  std_test_score  mean_fit_time\n",
      "0         -35.703192        5.319875       0.008028\n",
      "1         -35.703192        5.319875       0.006627\n",
      "2         -35.703192        5.319875       0.008944\n",
      "3         -35.703192        5.319875       0.009819\n",
      "4         -35.703192        5.319875       0.005875\n",
      "..               ...             ...            ...\n",
      "476       -28.799520        5.963610       0.008953\n",
      "477       -28.799520        5.963610       0.008462\n",
      "478       -28.799520        5.963610       0.008570\n",
      "479       -28.799520        5.963610       0.008422\n",
      "480       -25.884308        3.952629       0.003486\n",
      "\n",
      "[481 rows x 3 columns]\n",
      "Лучшая модель: {'model': LinearRegression()}\n",
      "Лучший результат (RMSE): -25.88430789384571\n"
     ]
    }
   ],
   "source": [
    "cv_results = grid_search.cv_results_\n",
    "cv_results = pd.DataFrame(cv_results)\n",
    "best_model = grid_search.best_estimator_\n",
    "print(cv_results[['mean_test_score', 'std_test_score', 'mean_fit_time']])\n",
    "\n",
    "print(f'Лучшая модель: {grid_search.best_params_}')\n",
    "print(f'Лучший результат (RMSE): {grid_search.best_score_}')"
   ]
  },
  {
   "cell_type": "markdown",
   "metadata": {},
   "source": [
    "Были обучены модели LinearRegression и DecisionTreeRegressor с различными гиперпараметрами. Модель LinearRegression стала лучшей."
   ]
  },
  {
   "cell_type": "markdown",
   "metadata": {},
   "source": [
    "## Тестирование"
   ]
  },
  {
   "cell_type": "markdown",
   "metadata": {},
   "source": [
    "Проверим качество модели LinearRegression на тестовой выборке"
   ]
  },
  {
   "cell_type": "code",
   "execution_count": 24,
   "metadata": {},
   "outputs": [],
   "source": [
    "y_pred = best_model.predict(X_test)"
   ]
  },
  {
   "cell_type": "code",
   "execution_count": 25,
   "metadata": {},
   "outputs": [
    {
     "name": "stdout",
     "output_type": "stream",
     "text": [
      "Лучший RMSE: 45.2241\n"
     ]
    }
   ],
   "source": [
    "rmse = root_mean_squared_error(y_test, y_pred)\n",
    "print(f\"Лучший RMSE: {rmse:.4f}\")"
   ]
  },
  {
   "cell_type": "markdown",
   "metadata": {},
   "source": [
    "**Вывод:** Условие выполняется, RMSE < 48. Данный результат был достигнут благодаря увеличению отстающих значений (lag feauters) до 24."
   ]
  },
  {
   "cell_type": "markdown",
   "metadata": {},
   "source": [
    "## Выводы"
   ]
  },
  {
   "cell_type": "markdown",
   "metadata": {},
   "source": [
    "Результаты:\n",
    "- Данные загружены, проверены на пропуски и дубликаты, столбец `datetime` получил тип данных datetime и стал индексом таблицы. Проведено ресемплирование по одному часу.\n",
    "- Анализ показал: пик заказов такси в аэропортах бывает примерно в 12 часов вечера. Самое небольшое количество - в 6 утра.\n",
    "- Были обучены модели LinearRegression и DecisionTreeRegressor с различными гиперпараметрами. Модель LinearRegression стала лучшей.\n",
    "- Тестирование показало, что условие выполняется, RMSE < 48. Данный результат был достигнут благодаря увеличению отстающих значений (lag feauters) до 24.\n",
    "\n",
    "Обученная модель линейное регрессии позволит бизнесу точно понимать спрос на такси в аэропортах в определенные часы, что в дальнейшем приведет к повышению прибыли, если грамотно распределить количество таксистов в определенное время."
   ]
  }
 ],
 "metadata": {
  "ExecuteTimeLog": [
   {
    "duration": 417,
    "start_time": "2025-03-18T12:19:06.366Z"
   },
   {
    "duration": 44,
    "start_time": "2025-03-18T12:19:33.219Z"
   },
   {
    "duration": 15,
    "start_time": "2025-03-18T12:19:45.229Z"
   },
   {
    "duration": 43,
    "start_time": "2025-03-18T12:21:04.596Z"
   },
   {
    "duration": 6,
    "start_time": "2025-03-18T12:21:06.655Z"
   },
   {
    "duration": 8,
    "start_time": "2025-03-18T12:22:16.605Z"
   },
   {
    "duration": 7,
    "start_time": "2025-03-18T12:22:26.656Z"
   },
   {
    "duration": 8,
    "start_time": "2025-03-18T12:22:44.871Z"
   },
   {
    "duration": 15,
    "start_time": "2025-03-18T12:23:31.571Z"
   },
   {
    "duration": 13,
    "start_time": "2025-03-18T12:23:35.838Z"
   },
   {
    "duration": 12,
    "start_time": "2025-03-18T12:23:54.138Z"
   },
   {
    "duration": 9,
    "start_time": "2025-03-18T12:27:42.920Z"
   },
   {
    "duration": 9,
    "start_time": "2025-03-18T12:27:55.690Z"
   },
   {
    "duration": 69,
    "start_time": "2025-03-18T12:29:27.387Z"
   },
   {
    "duration": 11,
    "start_time": "2025-03-18T12:29:44.056Z"
   },
   {
    "duration": 7,
    "start_time": "2025-03-18T12:30:50.916Z"
   },
   {
    "duration": 13,
    "start_time": "2025-03-18T12:30:52.141Z"
   },
   {
    "duration": 7,
    "start_time": "2025-03-18T12:31:01.940Z"
   },
   {
    "duration": 1993,
    "start_time": "2025-03-18T12:32:22.108Z"
   },
   {
    "duration": 390,
    "start_time": "2025-03-18T12:32:34.599Z"
   },
   {
    "duration": 34,
    "start_time": "2025-03-18T12:32:34.991Z"
   },
   {
    "duration": 14,
    "start_time": "2025-03-18T12:32:35.027Z"
   },
   {
    "duration": 19,
    "start_time": "2025-03-18T12:32:35.043Z"
   },
   {
    "duration": 7,
    "start_time": "2025-03-18T12:32:35.064Z"
   },
   {
    "duration": 15,
    "start_time": "2025-03-18T12:32:35.073Z"
   },
   {
    "duration": 29,
    "start_time": "2025-03-18T12:32:35.089Z"
   },
   {
    "duration": 39,
    "start_time": "2025-03-18T12:32:35.120Z"
   },
   {
    "duration": 7,
    "start_time": "2025-03-18T12:32:44.659Z"
   },
   {
    "duration": 7,
    "start_time": "2025-03-18T12:32:50.919Z"
   },
   {
    "duration": 32,
    "start_time": "2025-03-18T12:32:57.389Z"
   },
   {
    "duration": 7,
    "start_time": "2025-03-18T12:32:58.005Z"
   },
   {
    "duration": 6,
    "start_time": "2025-03-18T12:33:02.300Z"
   },
   {
    "duration": 466,
    "start_time": "2025-03-18T12:33:27.137Z"
   },
   {
    "duration": 34,
    "start_time": "2025-03-18T12:33:27.605Z"
   },
   {
    "duration": 24,
    "start_time": "2025-03-18T12:33:27.641Z"
   },
   {
    "duration": 12,
    "start_time": "2025-03-18T12:33:27.667Z"
   },
   {
    "duration": 6,
    "start_time": "2025-03-18T12:33:27.681Z"
   },
   {
    "duration": 18,
    "start_time": "2025-03-18T12:33:27.688Z"
   },
   {
    "duration": 17,
    "start_time": "2025-03-18T12:33:27.708Z"
   },
   {
    "duration": 9,
    "start_time": "2025-03-18T12:33:27.727Z"
   },
   {
    "duration": 8,
    "start_time": "2025-03-18T12:33:43.792Z"
   },
   {
    "duration": 447,
    "start_time": "2025-03-18T12:37:04.733Z"
   },
   {
    "duration": 170,
    "start_time": "2025-03-18T12:37:35.918Z"
   },
   {
    "duration": 141,
    "start_time": "2025-03-18T12:38:04.192Z"
   },
   {
    "duration": 106,
    "start_time": "2025-03-18T12:38:09.177Z"
   },
   {
    "duration": 324,
    "start_time": "2025-03-18T12:38:12.126Z"
   },
   {
    "duration": 272,
    "start_time": "2025-03-18T12:42:18.952Z"
   },
   {
    "duration": 166,
    "start_time": "2025-03-18T12:42:21.978Z"
   },
   {
    "duration": 205,
    "start_time": "2025-03-18T12:42:28.959Z"
   },
   {
    "duration": 181,
    "start_time": "2025-03-18T12:44:56.351Z"
   },
   {
    "duration": 10,
    "start_time": "2025-03-18T12:45:33.846Z"
   },
   {
    "duration": 2036,
    "start_time": "2025-03-18T12:59:28.979Z"
   },
   {
    "duration": 636,
    "start_time": "2025-03-18T12:59:35.321Z"
   },
   {
    "duration": 34,
    "start_time": "2025-03-18T12:59:35.960Z"
   },
   {
    "duration": 33,
    "start_time": "2025-03-18T12:59:35.996Z"
   },
   {
    "duration": 41,
    "start_time": "2025-03-18T12:59:36.031Z"
   },
   {
    "duration": 49,
    "start_time": "2025-03-18T12:59:36.074Z"
   },
   {
    "duration": 63,
    "start_time": "2025-03-18T12:59:36.125Z"
   },
   {
    "duration": 89,
    "start_time": "2025-03-18T12:59:36.190Z"
   },
   {
    "duration": 0,
    "start_time": "2025-03-18T12:59:36.281Z"
   },
   {
    "duration": 0,
    "start_time": "2025-03-18T12:59:36.282Z"
   },
   {
    "duration": 0,
    "start_time": "2025-03-18T12:59:36.284Z"
   },
   {
    "duration": 655,
    "start_time": "2025-03-18T12:59:43.504Z"
   },
   {
    "duration": 33,
    "start_time": "2025-03-18T12:59:44.161Z"
   },
   {
    "duration": 13,
    "start_time": "2025-03-18T12:59:44.196Z"
   },
   {
    "duration": 38,
    "start_time": "2025-03-18T12:59:44.210Z"
   },
   {
    "duration": 21,
    "start_time": "2025-03-18T12:59:44.251Z"
   },
   {
    "duration": 16,
    "start_time": "2025-03-18T12:59:44.274Z"
   },
   {
    "duration": 13,
    "start_time": "2025-03-18T12:59:44.292Z"
   },
   {
    "duration": 47,
    "start_time": "2025-03-18T12:59:44.307Z"
   },
   {
    "duration": 12,
    "start_time": "2025-03-18T12:59:44.356Z"
   },
   {
    "duration": 275,
    "start_time": "2025-03-18T12:59:44.370Z"
   },
   {
    "duration": 243,
    "start_time": "2025-03-18T13:01:44.260Z"
   },
   {
    "duration": 286,
    "start_time": "2025-03-18T13:01:58.306Z"
   },
   {
    "duration": 237,
    "start_time": "2025-03-18T13:02:02.070Z"
   },
   {
    "duration": 661,
    "start_time": "2025-03-18T13:02:43.268Z"
   },
   {
    "duration": 34,
    "start_time": "2025-03-18T13:02:43.931Z"
   },
   {
    "duration": 52,
    "start_time": "2025-03-18T13:02:43.966Z"
   },
   {
    "duration": 44,
    "start_time": "2025-03-18T13:02:44.019Z"
   },
   {
    "duration": 6,
    "start_time": "2025-03-18T13:02:44.065Z"
   },
   {
    "duration": 13,
    "start_time": "2025-03-18T13:02:44.073Z"
   },
   {
    "duration": 10,
    "start_time": "2025-03-18T13:02:44.087Z"
   },
   {
    "duration": 9,
    "start_time": "2025-03-18T13:02:44.098Z"
   },
   {
    "duration": 6,
    "start_time": "2025-03-18T13:02:44.108Z"
   },
   {
    "duration": 275,
    "start_time": "2025-03-18T13:02:44.115Z"
   },
   {
    "duration": 275,
    "start_time": "2025-03-18T13:02:55.661Z"
   },
   {
    "duration": 287,
    "start_time": "2025-03-18T13:02:59.604Z"
   },
   {
    "duration": 295,
    "start_time": "2025-03-18T13:03:27.024Z"
   },
   {
    "duration": 75,
    "start_time": "2025-03-18T13:29:00.013Z"
   },
   {
    "duration": 442,
    "start_time": "2025-03-18T13:29:16.071Z"
   },
   {
    "duration": 41,
    "start_time": "2025-03-18T13:29:20.689Z"
   },
   {
    "duration": 6,
    "start_time": "2025-03-18T13:31:36.845Z"
   },
   {
    "duration": 24,
    "start_time": "2025-03-18T13:31:38.398Z"
   },
   {
    "duration": 1165,
    "start_time": "2025-03-18T13:32:54.289Z"
   },
   {
    "duration": 38,
    "start_time": "2025-03-18T13:32:55.455Z"
   },
   {
    "duration": 11,
    "start_time": "2025-03-18T13:32:55.495Z"
   },
   {
    "duration": 13,
    "start_time": "2025-03-18T13:32:55.507Z"
   },
   {
    "duration": 6,
    "start_time": "2025-03-18T13:32:55.522Z"
   },
   {
    "duration": 14,
    "start_time": "2025-03-18T13:32:55.530Z"
   },
   {
    "duration": 25,
    "start_time": "2025-03-18T13:32:55.545Z"
   },
   {
    "duration": 50,
    "start_time": "2025-03-18T13:32:55.572Z"
   },
   {
    "duration": 42,
    "start_time": "2025-03-18T13:32:55.623Z"
   },
   {
    "duration": 404,
    "start_time": "2025-03-18T13:32:55.666Z"
   },
   {
    "duration": 5,
    "start_time": "2025-03-18T13:32:56.072Z"
   },
   {
    "duration": 857,
    "start_time": "2025-03-18T13:32:56.078Z"
   },
   {
    "duration": 101,
    "start_time": "2025-03-18T13:32:56.936Z"
   },
   {
    "duration": 853,
    "start_time": "2025-03-18T13:33:05.626Z"
   },
   {
    "duration": 118,
    "start_time": "2025-03-18T13:34:21.229Z"
   },
   {
    "duration": 170,
    "start_time": "2025-03-18T13:34:34.591Z"
   },
   {
    "duration": 171,
    "start_time": "2025-03-18T13:34:39.705Z"
   },
   {
    "duration": 219,
    "start_time": "2025-03-18T13:34:47.980Z"
   },
   {
    "duration": 230,
    "start_time": "2025-03-18T13:34:55.671Z"
   },
   {
    "duration": 303,
    "start_time": "2025-03-18T15:22:28.744Z"
   },
   {
    "duration": 7,
    "start_time": "2025-03-18T15:22:35.767Z"
   },
   {
    "duration": 5,
    "start_time": "2025-03-18T15:22:52.544Z"
   },
   {
    "duration": 6,
    "start_time": "2025-03-18T15:22:59.217Z"
   },
   {
    "duration": 5,
    "start_time": "2025-03-18T15:23:04.899Z"
   },
   {
    "duration": 6,
    "start_time": "2025-03-18T15:23:11.380Z"
   },
   {
    "duration": 174,
    "start_time": "2025-03-18T15:23:37.479Z"
   },
   {
    "duration": 711,
    "start_time": "2025-03-18T15:25:08.902Z"
   },
   {
    "duration": 802,
    "start_time": "2025-03-18T15:25:35.800Z"
   },
   {
    "duration": 127,
    "start_time": "2025-03-18T15:30:12.752Z"
   },
   {
    "duration": 144,
    "start_time": "2025-03-18T15:30:23.747Z"
   },
   {
    "duration": 132,
    "start_time": "2025-03-18T15:31:55.180Z"
   },
   {
    "duration": 162,
    "start_time": "2025-03-18T15:32:01.791Z"
   },
   {
    "duration": 110,
    "start_time": "2025-03-18T15:32:13.841Z"
   },
   {
    "duration": 2386,
    "start_time": "2025-03-18T15:32:29.991Z"
   },
   {
    "duration": 229,
    "start_time": "2025-03-18T15:32:40.716Z"
   },
   {
    "duration": 19,
    "start_time": "2025-03-18T15:32:44.449Z"
   },
   {
    "duration": 1152,
    "start_time": "2025-03-18T18:01:06.967Z"
   },
   {
    "duration": 45,
    "start_time": "2025-03-18T18:01:08.121Z"
   },
   {
    "duration": 12,
    "start_time": "2025-03-18T18:01:08.167Z"
   },
   {
    "duration": 30,
    "start_time": "2025-03-18T18:01:08.180Z"
   },
   {
    "duration": 29,
    "start_time": "2025-03-18T18:01:08.213Z"
   },
   {
    "duration": 45,
    "start_time": "2025-03-18T18:01:08.244Z"
   },
   {
    "duration": 26,
    "start_time": "2025-03-18T18:01:08.291Z"
   },
   {
    "duration": 33,
    "start_time": "2025-03-18T18:01:08.318Z"
   },
   {
    "duration": 77,
    "start_time": "2025-03-18T18:01:08.353Z"
   },
   {
    "duration": 278,
    "start_time": "2025-03-18T18:01:08.431Z"
   },
   {
    "duration": 5,
    "start_time": "2025-03-18T18:01:08.711Z"
   },
   {
    "duration": 742,
    "start_time": "2025-03-18T18:01:08.717Z"
   },
   {
    "duration": 173,
    "start_time": "2025-03-18T18:01:09.460Z"
   },
   {
    "duration": 157,
    "start_time": "2025-03-18T18:02:59.408Z"
   },
   {
    "duration": 163,
    "start_time": "2025-03-18T18:03:09.406Z"
   },
   {
    "duration": 230,
    "start_time": "2025-03-18T18:03:21.506Z"
   },
   {
    "duration": 164,
    "start_time": "2025-03-18T18:03:25.324Z"
   },
   {
    "duration": 453,
    "start_time": "2025-03-18T18:09:13.854Z"
   },
   {
    "duration": 108,
    "start_time": "2025-03-18T18:09:23.557Z"
   },
   {
    "duration": 10,
    "start_time": "2025-03-18T18:09:44.565Z"
   },
   {
    "duration": 238,
    "start_time": "2025-03-18T18:09:55.038Z"
   },
   {
    "duration": 237,
    "start_time": "2025-03-18T18:09:59.836Z"
   },
   {
    "duration": 276,
    "start_time": "2025-03-18T18:10:13.432Z"
   },
   {
    "duration": 196,
    "start_time": "2025-03-18T18:10:14.148Z"
   },
   {
    "duration": 405,
    "start_time": "2025-03-18T18:10:33.774Z"
   },
   {
    "duration": 497,
    "start_time": "2025-03-18T18:10:52.908Z"
   },
   {
    "duration": 242,
    "start_time": "2025-03-18T18:11:09.450Z"
   },
   {
    "duration": 739,
    "start_time": "2025-03-18T18:11:21.223Z"
   },
   {
    "duration": 1168,
    "start_time": "2025-03-18T18:11:35.257Z"
   },
   {
    "duration": 34,
    "start_time": "2025-03-18T18:11:36.427Z"
   },
   {
    "duration": 59,
    "start_time": "2025-03-18T18:11:36.463Z"
   },
   {
    "duration": 158,
    "start_time": "2025-03-18T18:11:36.524Z"
   },
   {
    "duration": 28,
    "start_time": "2025-03-18T18:11:36.684Z"
   },
   {
    "duration": 31,
    "start_time": "2025-03-18T18:11:36.713Z"
   },
   {
    "duration": 44,
    "start_time": "2025-03-18T18:11:36.745Z"
   },
   {
    "duration": 20,
    "start_time": "2025-03-18T18:11:36.791Z"
   },
   {
    "duration": 18,
    "start_time": "2025-03-18T18:11:36.812Z"
   },
   {
    "duration": 281,
    "start_time": "2025-03-18T18:11:36.831Z"
   },
   {
    "duration": 6,
    "start_time": "2025-03-18T18:11:37.113Z"
   },
   {
    "duration": 763,
    "start_time": "2025-03-18T18:11:37.120Z"
   },
   {
    "duration": 208,
    "start_time": "2025-03-18T18:11:37.884Z"
   },
   {
    "duration": 292,
    "start_time": "2025-03-18T18:11:38.095Z"
   },
   {
    "duration": 175,
    "start_time": "2025-03-18T18:11:38.389Z"
   },
   {
    "duration": 667,
    "start_time": "2025-03-18T18:12:31.310Z"
   },
   {
    "duration": 535,
    "start_time": "2025-03-18T18:12:40.917Z"
   },
   {
    "duration": 766,
    "start_time": "2025-03-18T18:12:48.732Z"
   },
   {
    "duration": 303,
    "start_time": "2025-03-18T18:26:45.602Z"
   },
   {
    "duration": 21,
    "start_time": "2025-03-18T18:31:08.419Z"
   },
   {
    "duration": 21,
    "start_time": "2025-03-18T18:32:09.649Z"
   },
   {
    "duration": 3,
    "start_time": "2025-03-18T18:35:11.750Z"
   },
   {
    "duration": 110,
    "start_time": "2025-03-18T18:37:30.305Z"
   },
   {
    "duration": 10,
    "start_time": "2025-03-18T18:38:08.474Z"
   },
   {
    "duration": 3,
    "start_time": "2025-03-18T18:38:11.831Z"
   },
   {
    "duration": 10,
    "start_time": "2025-03-18T18:40:17.697Z"
   },
   {
    "duration": 4,
    "start_time": "2025-03-18T18:40:31.358Z"
   },
   {
    "duration": 2,
    "start_time": "2025-03-18T18:40:35.389Z"
   },
   {
    "duration": 6,
    "start_time": "2025-03-18T18:41:20.839Z"
   },
   {
    "duration": 9,
    "start_time": "2025-03-18T18:41:21.852Z"
   },
   {
    "duration": 4,
    "start_time": "2025-03-18T18:42:01.532Z"
   },
   {
    "duration": 4,
    "start_time": "2025-03-18T18:42:06.981Z"
   },
   {
    "duration": 11,
    "start_time": "2025-03-18T18:42:07.967Z"
   },
   {
    "duration": 4,
    "start_time": "2025-03-18T18:42:14.658Z"
   },
   {
    "duration": 3,
    "start_time": "2025-03-18T18:42:15.559Z"
   },
   {
    "duration": 15238,
    "start_time": "2025-03-18T18:42:16.432Z"
   },
   {
    "duration": 11,
    "start_time": "2025-03-18T18:43:16.732Z"
   },
   {
    "duration": 4,
    "start_time": "2025-03-18T18:43:22.782Z"
   },
   {
    "duration": 4,
    "start_time": "2025-03-18T18:43:33.664Z"
   },
   {
    "duration": 5,
    "start_time": "2025-03-18T18:43:36.896Z"
   },
   {
    "duration": 4,
    "start_time": "2025-03-18T18:44:17.389Z"
   },
   {
    "duration": 6,
    "start_time": "2025-03-18T18:44:18.984Z"
   },
   {
    "duration": 3,
    "start_time": "2025-03-18T18:44:19.463Z"
   },
   {
    "duration": 4,
    "start_time": "2025-03-18T18:44:19.641Z"
   },
   {
    "duration": 3,
    "start_time": "2025-03-18T18:44:19.939Z"
   },
   {
    "duration": 20718,
    "start_time": "2025-03-18T18:44:20.546Z"
   },
   {
    "duration": 4,
    "start_time": "2025-03-18T18:47:52.423Z"
   },
   {
    "duration": 2,
    "start_time": "2025-03-18T18:47:56.469Z"
   },
   {
    "duration": 4,
    "start_time": "2025-03-18T18:48:00.439Z"
   },
   {
    "duration": 5,
    "start_time": "2025-03-18T18:49:15.299Z"
   },
   {
    "duration": 6,
    "start_time": "2025-03-18T18:49:15.991Z"
   },
   {
    "duration": 1429,
    "start_time": "2025-03-18T18:50:28.808Z"
   },
   {
    "duration": 34,
    "start_time": "2025-03-18T18:50:30.238Z"
   },
   {
    "duration": 78,
    "start_time": "2025-03-18T18:50:30.273Z"
   },
   {
    "duration": 84,
    "start_time": "2025-03-18T18:50:30.352Z"
   },
   {
    "duration": 43,
    "start_time": "2025-03-18T18:50:30.439Z"
   },
   {
    "duration": 106,
    "start_time": "2025-03-18T18:50:30.483Z"
   },
   {
    "duration": 34,
    "start_time": "2025-03-18T18:50:30.591Z"
   },
   {
    "duration": 27,
    "start_time": "2025-03-18T18:50:30.626Z"
   },
   {
    "duration": 55,
    "start_time": "2025-03-18T18:50:30.655Z"
   },
   {
    "duration": 327,
    "start_time": "2025-03-18T18:50:30.711Z"
   },
   {
    "duration": 6,
    "start_time": "2025-03-18T18:50:31.040Z"
   },
   {
    "duration": 852,
    "start_time": "2025-03-18T18:50:31.047Z"
   },
   {
    "duration": 171,
    "start_time": "2025-03-18T18:50:31.901Z"
   },
   {
    "duration": 10,
    "start_time": "2025-03-18T18:50:32.075Z"
   },
   {
    "duration": 33,
    "start_time": "2025-03-18T18:50:32.087Z"
   },
   {
    "duration": 28,
    "start_time": "2025-03-18T18:50:32.122Z"
   },
   {
    "duration": 55,
    "start_time": "2025-03-18T18:50:32.152Z"
   },
   {
    "duration": 39,
    "start_time": "2025-03-18T18:50:32.208Z"
   },
   {
    "duration": 33097,
    "start_time": "2025-03-18T18:50:32.249Z"
   },
   {
    "duration": 0,
    "start_time": "2025-03-18T18:51:05.347Z"
   },
   {
    "duration": 0,
    "start_time": "2025-03-18T18:51:05.348Z"
   },
   {
    "duration": 0,
    "start_time": "2025-03-18T18:51:05.362Z"
   },
   {
    "duration": 6,
    "start_time": "2025-03-18T18:51:24.368Z"
   },
   {
    "duration": 14,
    "start_time": "2025-03-18T18:51:26.283Z"
   },
   {
    "duration": 5,
    "start_time": "2025-03-18T18:52:55.077Z"
   },
   {
    "duration": 13,
    "start_time": "2025-03-18T18:52:56.752Z"
   },
   {
    "duration": 19,
    "start_time": "2025-03-18T18:53:07.232Z"
   },
   {
    "duration": 7,
    "start_time": "2025-03-18T18:56:11.051Z"
   },
   {
    "duration": 7,
    "start_time": "2025-03-18T18:56:13.952Z"
   },
   {
    "duration": 3,
    "start_time": "2025-03-18T18:56:14.566Z"
   },
   {
    "duration": 10,
    "start_time": "2025-03-18T18:56:15.517Z"
   },
   {
    "duration": 6,
    "start_time": "2025-03-18T18:57:23.080Z"
   },
   {
    "duration": 12,
    "start_time": "2025-03-18T18:57:28.934Z"
   },
   {
    "duration": 4,
    "start_time": "2025-03-18T18:57:56.817Z"
   },
   {
    "duration": 10,
    "start_time": "2025-03-18T18:58:11.002Z"
   },
   {
    "duration": 6,
    "start_time": "2025-03-18T18:58:26.050Z"
   },
   {
    "duration": 3,
    "start_time": "2025-03-18T18:58:31.550Z"
   },
   {
    "duration": 3,
    "start_time": "2025-03-18T18:58:32.458Z"
   },
   {
    "duration": 3,
    "start_time": "2025-03-18T18:58:33.352Z"
   },
   {
    "duration": 2,
    "start_time": "2025-03-18T18:58:34.293Z"
   },
   {
    "duration": 43793,
    "start_time": "2025-03-18T18:58:35.441Z"
   },
   {
    "duration": 10,
    "start_time": "2025-03-18T18:59:24.833Z"
   },
   {
    "duration": 7,
    "start_time": "2025-03-18T19:02:19.749Z"
   },
   {
    "duration": 6,
    "start_time": "2025-03-18T19:02:20.471Z"
   },
   {
    "duration": 3,
    "start_time": "2025-03-18T19:02:20.664Z"
   },
   {
    "duration": 4,
    "start_time": "2025-03-18T19:02:20.920Z"
   },
   {
    "duration": 4,
    "start_time": "2025-03-18T19:02:21.431Z"
   },
   {
    "duration": 3,
    "start_time": "2025-03-18T19:02:21.667Z"
   },
   {
    "duration": 3,
    "start_time": "2025-03-18T19:02:21.919Z"
   },
   {
    "duration": 3,
    "start_time": "2025-03-18T19:02:22.137Z"
   },
   {
    "duration": 45134,
    "start_time": "2025-03-18T19:02:22.933Z"
   },
   {
    "duration": 9,
    "start_time": "2025-03-18T19:03:19.751Z"
   },
   {
    "duration": 7,
    "start_time": "2025-03-18T19:03:43.077Z"
   },
   {
    "duration": 6,
    "start_time": "2025-03-18T19:03:44.600Z"
   },
   {
    "duration": 3,
    "start_time": "2025-03-18T19:03:49.601Z"
   },
   {
    "duration": 4,
    "start_time": "2025-03-18T19:03:50.623Z"
   },
   {
    "duration": 3,
    "start_time": "2025-03-18T19:03:51.222Z"
   },
   {
    "duration": 33505,
    "start_time": "2025-03-18T19:03:52.004Z"
   },
   {
    "duration": 5,
    "start_time": "2025-03-18T19:05:21.277Z"
   },
   {
    "duration": 12,
    "start_time": "2025-03-18T19:05:23.603Z"
   },
   {
    "duration": 9,
    "start_time": "2025-03-18T19:05:30.268Z"
   },
   {
    "duration": 7,
    "start_time": "2025-03-18T19:07:43.477Z"
   },
   {
    "duration": 7,
    "start_time": "2025-03-18T19:07:44.490Z"
   },
   {
    "duration": 3,
    "start_time": "2025-03-18T19:07:44.939Z"
   },
   {
    "duration": 3,
    "start_time": "2025-03-18T19:07:45.134Z"
   },
   {
    "duration": 3,
    "start_time": "2025-03-18T19:07:45.590Z"
   },
   {
    "duration": 3,
    "start_time": "2025-03-18T19:07:45.814Z"
   },
   {
    "duration": 3,
    "start_time": "2025-03-18T19:07:46.048Z"
   },
   {
    "duration": 2,
    "start_time": "2025-03-18T19:07:46.281Z"
   },
   {
    "duration": 32933,
    "start_time": "2025-03-18T19:07:46.656Z"
   },
   {
    "duration": 5,
    "start_time": "2025-03-18T19:08:23.463Z"
   },
   {
    "duration": 17,
    "start_time": "2025-03-18T19:08:25.724Z"
   },
   {
    "duration": 9,
    "start_time": "2025-03-18T19:08:31.609Z"
   },
   {
    "duration": 10,
    "start_time": "2025-03-18T19:09:25.767Z"
   },
   {
    "duration": 8,
    "start_time": "2025-03-18T19:09:26.145Z"
   },
   {
    "duration": 3,
    "start_time": "2025-03-18T19:09:26.349Z"
   },
   {
    "duration": 3,
    "start_time": "2025-03-18T19:09:26.587Z"
   },
   {
    "duration": 3,
    "start_time": "2025-03-18T19:09:26.964Z"
   },
   {
    "duration": 3,
    "start_time": "2025-03-18T19:09:27.180Z"
   },
   {
    "duration": 5,
    "start_time": "2025-03-18T19:09:27.424Z"
   },
   {
    "duration": 3,
    "start_time": "2025-03-18T19:09:27.642Z"
   },
   {
    "duration": 33070,
    "start_time": "2025-03-18T19:09:27.939Z"
   },
   {
    "duration": 5,
    "start_time": "2025-03-18T19:10:04.982Z"
   },
   {
    "duration": 13,
    "start_time": "2025-03-18T19:10:07.040Z"
   },
   {
    "duration": 19,
    "start_time": "2025-03-18T19:11:10.791Z"
   },
   {
    "duration": 7,
    "start_time": "2025-03-18T19:11:20.467Z"
   },
   {
    "duration": 6,
    "start_time": "2025-03-18T19:11:20.797Z"
   },
   {
    "duration": 6,
    "start_time": "2025-03-18T19:11:22.867Z"
   },
   {
    "duration": 3,
    "start_time": "2025-03-18T19:11:23.768Z"
   },
   {
    "duration": 3,
    "start_time": "2025-03-18T19:11:24.252Z"
   },
   {
    "duration": 3,
    "start_time": "2025-03-18T19:11:24.909Z"
   },
   {
    "duration": 72534,
    "start_time": "2025-03-18T19:11:25.583Z"
   },
   {
    "duration": 4,
    "start_time": "2025-03-18T19:12:38.119Z"
   },
   {
    "duration": 5,
    "start_time": "2025-03-18T19:12:46.835Z"
   },
   {
    "duration": 4,
    "start_time": "2025-03-18T19:12:48.921Z"
   },
   {
    "duration": 9,
    "start_time": "2025-03-18T19:13:16.524Z"
   },
   {
    "duration": 4,
    "start_time": "2025-03-18T19:13:23.951Z"
   },
   {
    "duration": 12,
    "start_time": "2025-03-18T19:13:24.582Z"
   },
   {
    "duration": 7,
    "start_time": "2025-03-18T19:13:36.733Z"
   },
   {
    "duration": 4,
    "start_time": "2025-03-18T19:13:36.947Z"
   },
   {
    "duration": 5,
    "start_time": "2025-03-18T19:13:37.916Z"
   },
   {
    "duration": 19,
    "start_time": "2025-03-18T19:15:34.927Z"
   },
   {
    "duration": 7,
    "start_time": "2025-03-18T19:16:04.202Z"
   },
   {
    "duration": 20,
    "start_time": "2025-03-18T19:16:04.591Z"
   },
   {
    "duration": 7,
    "start_time": "2025-03-18T19:16:05.211Z"
   },
   {
    "duration": 3,
    "start_time": "2025-03-18T19:16:06.065Z"
   },
   {
    "duration": 4,
    "start_time": "2025-03-18T19:16:06.598Z"
   },
   {
    "duration": 3,
    "start_time": "2025-03-18T19:16:07.214Z"
   },
   {
    "duration": 10,
    "start_time": "2025-03-18T19:16:07.909Z"
   },
   {
    "duration": 68514,
    "start_time": "2025-03-18T19:16:13.784Z"
   },
   {
    "duration": 4,
    "start_time": "2025-03-18T19:17:31.508Z"
   },
   {
    "duration": 5,
    "start_time": "2025-03-18T19:17:34.085Z"
   },
   {
    "duration": 4,
    "start_time": "2025-03-18T19:17:35.103Z"
   },
   {
    "duration": 7,
    "start_time": "2025-03-18T19:18:19.333Z"
   },
   {
    "duration": 3,
    "start_time": "2025-03-18T19:18:20.549Z"
   },
   {
    "duration": 4,
    "start_time": "2025-03-18T19:18:20.949Z"
   },
   {
    "duration": 3,
    "start_time": "2025-03-18T19:18:21.415Z"
   },
   {
    "duration": 220078,
    "start_time": "2025-03-18T19:18:22.066Z"
   },
   {
    "duration": 917,
    "start_time": "2025-03-18T19:22:05.293Z"
   },
   {
    "duration": 6,
    "start_time": "2025-03-18T19:22:10.736Z"
   },
   {
    "duration": 5,
    "start_time": "2025-03-18T19:22:13.368Z"
   },
   {
    "duration": 4,
    "start_time": "2025-03-18T19:22:13.903Z"
   },
   {
    "duration": 758,
    "start_time": "2025-03-18T19:22:19.752Z"
   },
   {
    "duration": 6,
    "start_time": "2025-03-18T19:22:21.094Z"
   },
   {
    "duration": 5,
    "start_time": "2025-03-18T19:22:21.627Z"
   },
   {
    "duration": 5,
    "start_time": "2025-03-18T19:22:22.319Z"
   },
   {
    "duration": 1480,
    "start_time": "2025-03-18T19:22:26.644Z"
   },
   {
    "duration": 8,
    "start_time": "2025-03-18T19:22:28.127Z"
   },
   {
    "duration": 4,
    "start_time": "2025-03-18T19:22:28.386Z"
   },
   {
    "duration": 5,
    "start_time": "2025-03-18T19:22:29.352Z"
   },
   {
    "duration": 668,
    "start_time": "2025-03-18T19:22:33.460Z"
   },
   {
    "duration": 6,
    "start_time": "2025-03-18T19:22:34.129Z"
   },
   {
    "duration": 4,
    "start_time": "2025-03-18T19:22:34.225Z"
   },
   {
    "duration": 4,
    "start_time": "2025-03-18T19:22:34.659Z"
   },
   {
    "duration": 8,
    "start_time": "2025-03-18T19:22:53.085Z"
   },
   {
    "duration": 4,
    "start_time": "2025-03-18T19:22:53.452Z"
   },
   {
    "duration": 5,
    "start_time": "2025-03-18T19:22:53.652Z"
   },
   {
    "duration": 4,
    "start_time": "2025-03-18T19:22:54.050Z"
   },
   {
    "duration": 468,
    "start_time": "2025-03-18T19:22:54.607Z"
   },
   {
    "duration": 5,
    "start_time": "2025-03-18T19:22:55.084Z"
   },
   {
    "duration": 5,
    "start_time": "2025-03-18T19:22:55.594Z"
   },
   {
    "duration": 5,
    "start_time": "2025-03-18T19:22:56.276Z"
   },
   {
    "duration": 7,
    "start_time": "2025-03-18T19:23:03.975Z"
   },
   {
    "duration": 3,
    "start_time": "2025-03-18T19:23:04.275Z"
   },
   {
    "duration": 5,
    "start_time": "2025-03-18T19:23:04.433Z"
   },
   {
    "duration": 4,
    "start_time": "2025-03-18T19:23:04.565Z"
   },
   {
    "duration": 549,
    "start_time": "2025-03-18T19:23:04.749Z"
   },
   {
    "duration": 6,
    "start_time": "2025-03-18T19:23:05.449Z"
   },
   {
    "duration": 5,
    "start_time": "2025-03-18T19:23:06.293Z"
   },
   {
    "duration": 5,
    "start_time": "2025-03-18T19:23:06.568Z"
   },
   {
    "duration": 6,
    "start_time": "2025-03-18T19:26:06.593Z"
   },
   {
    "duration": 2,
    "start_time": "2025-03-18T19:26:11.226Z"
   },
   {
    "duration": 3,
    "start_time": "2025-03-18T19:26:11.705Z"
   },
   {
    "duration": 3,
    "start_time": "2025-03-18T19:26:12.262Z"
   },
   {
    "duration": 11,
    "start_time": "2025-03-18T19:26:13.186Z"
   },
   {
    "duration": 12,
    "start_time": "2025-03-18T19:26:30.175Z"
   },
   {
    "duration": 4,
    "start_time": "2025-03-18T19:26:37.677Z"
   },
   {
    "duration": 7,
    "start_time": "2025-03-18T19:26:55.202Z"
   },
   {
    "duration": 3,
    "start_time": "2025-03-18T19:26:55.575Z"
   },
   {
    "duration": 4,
    "start_time": "2025-03-18T19:26:55.750Z"
   },
   {
    "duration": 3,
    "start_time": "2025-03-18T19:26:56.052Z"
   },
   {
    "duration": 109374,
    "start_time": "2025-03-18T19:26:57.403Z"
   },
   {
    "duration": 4,
    "start_time": "2025-03-18T19:28:53.209Z"
   },
   {
    "duration": 5,
    "start_time": "2025-03-18T19:28:53.820Z"
   },
   {
    "duration": 4,
    "start_time": "2025-03-18T19:28:54.342Z"
   },
   {
    "duration": 8,
    "start_time": "2025-03-18T19:29:29.702Z"
   },
   {
    "duration": 20,
    "start_time": "2025-03-18T19:29:29.904Z"
   },
   {
    "duration": 7,
    "start_time": "2025-03-18T19:29:30.321Z"
   },
   {
    "duration": 7,
    "start_time": "2025-03-18T19:29:54.868Z"
   },
   {
    "duration": 20,
    "start_time": "2025-03-18T19:29:55.311Z"
   },
   {
    "duration": 32,
    "start_time": "2025-03-18T19:30:23.185Z"
   },
   {
    "duration": 10,
    "start_time": "2025-03-18T19:30:23.889Z"
   },
   {
    "duration": 42,
    "start_time": "2025-03-18T19:30:49.773Z"
   },
   {
    "duration": 8,
    "start_time": "2025-03-18T19:30:50.737Z"
   },
   {
    "duration": 16,
    "start_time": "2025-03-18T19:30:51.630Z"
   },
   {
    "duration": 6,
    "start_time": "2025-03-18T19:30:54.887Z"
   },
   {
    "duration": 3,
    "start_time": "2025-03-18T19:30:55.621Z"
   },
   {
    "duration": 3,
    "start_time": "2025-03-18T19:30:55.978Z"
   },
   {
    "duration": 3,
    "start_time": "2025-03-18T19:30:56.646Z"
   },
   {
    "duration": 33,
    "start_time": "2025-03-18T19:30:56.963Z"
   },
   {
    "duration": 4,
    "start_time": "2025-03-18T19:30:57.842Z"
   },
   {
    "duration": 5,
    "start_time": "2025-03-18T19:30:58.403Z"
   },
   {
    "duration": 5,
    "start_time": "2025-03-18T19:30:58.858Z"
   },
   {
    "duration": 41,
    "start_time": "2025-03-18T19:31:06.743Z"
   },
   {
    "duration": 6,
    "start_time": "2025-03-18T19:31:06.910Z"
   },
   {
    "duration": 15,
    "start_time": "2025-03-18T19:31:07.068Z"
   },
   {
    "duration": 6,
    "start_time": "2025-03-18T19:31:07.383Z"
   },
   {
    "duration": 3,
    "start_time": "2025-03-18T19:31:07.684Z"
   },
   {
    "duration": 3,
    "start_time": "2025-03-18T19:31:07.858Z"
   },
   {
    "duration": 2,
    "start_time": "2025-03-18T19:31:08.036Z"
   },
   {
    "duration": 36,
    "start_time": "2025-03-18T19:31:08.218Z"
   },
   {
    "duration": 3,
    "start_time": "2025-03-18T19:31:08.498Z"
   },
   {
    "duration": 4,
    "start_time": "2025-03-18T19:31:08.734Z"
   },
   {
    "duration": 4,
    "start_time": "2025-03-18T19:31:09.294Z"
   },
   {
    "duration": 8,
    "start_time": "2025-03-18T19:31:13.406Z"
   },
   {
    "duration": 16,
    "start_time": "2025-03-18T19:31:13.568Z"
   },
   {
    "duration": 6,
    "start_time": "2025-03-18T19:31:13.908Z"
   },
   {
    "duration": 3,
    "start_time": "2025-03-18T19:31:14.251Z"
   },
   {
    "duration": 3,
    "start_time": "2025-03-18T19:31:14.418Z"
   },
   {
    "duration": 2,
    "start_time": "2025-03-18T19:31:14.568Z"
   },
   {
    "duration": 35,
    "start_time": "2025-03-18T19:31:14.740Z"
   },
   {
    "duration": 4,
    "start_time": "2025-03-18T19:31:14.902Z"
   },
   {
    "duration": 5,
    "start_time": "2025-03-18T19:31:15.086Z"
   },
   {
    "duration": 4,
    "start_time": "2025-03-18T19:31:15.485Z"
   },
   {
    "duration": 46,
    "start_time": "2025-03-18T19:31:20.590Z"
   },
   {
    "duration": 11,
    "start_time": "2025-03-18T19:31:20.752Z"
   },
   {
    "duration": 23,
    "start_time": "2025-03-18T19:31:20.902Z"
   },
   {
    "duration": 7,
    "start_time": "2025-03-18T19:31:21.234Z"
   },
   {
    "duration": 3,
    "start_time": "2025-03-18T19:31:21.559Z"
   },
   {
    "duration": 3,
    "start_time": "2025-03-18T19:31:21.718Z"
   },
   {
    "duration": 3,
    "start_time": "2025-03-18T19:31:21.850Z"
   },
   {
    "duration": 47,
    "start_time": "2025-03-18T19:31:22.022Z"
   },
   {
    "duration": 24,
    "start_time": "2025-03-18T19:31:22.189Z"
   },
   {
    "duration": 5,
    "start_time": "2025-03-18T19:31:22.385Z"
   },
   {
    "duration": 4,
    "start_time": "2025-03-18T19:31:22.601Z"
   },
   {
    "duration": 42,
    "start_time": "2025-03-18T19:31:27.741Z"
   },
   {
    "duration": 11,
    "start_time": "2025-03-18T19:31:27.903Z"
   },
   {
    "duration": 25,
    "start_time": "2025-03-18T19:31:28.054Z"
   },
   {
    "duration": 7,
    "start_time": "2025-03-18T19:31:28.369Z"
   },
   {
    "duration": 3,
    "start_time": "2025-03-18T19:31:28.668Z"
   },
   {
    "duration": 3,
    "start_time": "2025-03-18T19:31:28.824Z"
   },
   {
    "duration": 2,
    "start_time": "2025-03-18T19:31:28.991Z"
   },
   {
    "duration": 95,
    "start_time": "2025-03-18T19:31:29.168Z"
   },
   {
    "duration": 4,
    "start_time": "2025-03-18T19:31:29.677Z"
   },
   {
    "duration": 5,
    "start_time": "2025-03-18T19:31:30.396Z"
   },
   {
    "duration": 4,
    "start_time": "2025-03-18T19:31:30.810Z"
   },
   {
    "duration": 40,
    "start_time": "2025-03-18T19:31:36.646Z"
   },
   {
    "duration": 8,
    "start_time": "2025-03-18T19:31:36.791Z"
   },
   {
    "duration": 26,
    "start_time": "2025-03-18T19:31:36.951Z"
   },
   {
    "duration": 6,
    "start_time": "2025-03-18T19:31:37.266Z"
   },
   {
    "duration": 2,
    "start_time": "2025-03-18T19:31:37.568Z"
   },
   {
    "duration": 3,
    "start_time": "2025-03-18T19:31:37.723Z"
   },
   {
    "duration": 3,
    "start_time": "2025-03-18T19:31:37.890Z"
   },
   {
    "duration": 36,
    "start_time": "2025-03-18T19:31:38.068Z"
   },
   {
    "duration": 4,
    "start_time": "2025-03-18T19:31:38.257Z"
   },
   {
    "duration": 5,
    "start_time": "2025-03-18T19:31:38.486Z"
   },
   {
    "duration": 4,
    "start_time": "2025-03-18T19:31:38.974Z"
   },
   {
    "duration": 42,
    "start_time": "2025-03-18T19:31:45.569Z"
   },
   {
    "duration": 12,
    "start_time": "2025-03-18T19:31:45.724Z"
   },
   {
    "duration": 20,
    "start_time": "2025-03-18T19:31:45.886Z"
   },
   {
    "duration": 7,
    "start_time": "2025-03-18T19:31:46.186Z"
   },
   {
    "duration": 3,
    "start_time": "2025-03-18T19:31:46.542Z"
   },
   {
    "duration": 3,
    "start_time": "2025-03-18T19:31:46.695Z"
   },
   {
    "duration": 2,
    "start_time": "2025-03-18T19:31:46.851Z"
   },
   {
    "duration": 36,
    "start_time": "2025-03-18T19:31:47.001Z"
   },
   {
    "duration": 4,
    "start_time": "2025-03-18T19:31:47.167Z"
   },
   {
    "duration": 5,
    "start_time": "2025-03-18T19:31:47.320Z"
   },
   {
    "duration": 6,
    "start_time": "2025-03-18T19:31:47.469Z"
   },
   {
    "duration": 42,
    "start_time": "2025-03-18T19:31:53.201Z"
   },
   {
    "duration": 10,
    "start_time": "2025-03-18T19:31:53.418Z"
   },
   {
    "duration": 19,
    "start_time": "2025-03-18T19:31:54.051Z"
   },
   {
    "duration": 7,
    "start_time": "2025-03-18T19:31:54.467Z"
   },
   {
    "duration": 3,
    "start_time": "2025-03-18T19:31:55.034Z"
   },
   {
    "duration": 3,
    "start_time": "2025-03-18T19:31:55.227Z"
   },
   {
    "duration": 4,
    "start_time": "2025-03-18T19:31:55.419Z"
   },
   {
    "duration": 82,
    "start_time": "2025-03-18T19:31:55.688Z"
   },
   {
    "duration": 4,
    "start_time": "2025-03-18T19:31:55.951Z"
   },
   {
    "duration": 5,
    "start_time": "2025-03-18T19:31:56.268Z"
   },
   {
    "duration": 4,
    "start_time": "2025-03-18T19:31:56.703Z"
   },
   {
    "duration": 43,
    "start_time": "2025-03-18T19:32:02.867Z"
   },
   {
    "duration": 10,
    "start_time": "2025-03-18T19:32:03.035Z"
   },
   {
    "duration": 20,
    "start_time": "2025-03-18T19:32:03.263Z"
   },
   {
    "duration": 6,
    "start_time": "2025-03-18T19:32:03.723Z"
   },
   {
    "duration": 3,
    "start_time": "2025-03-18T19:32:04.072Z"
   },
   {
    "duration": 9,
    "start_time": "2025-03-18T19:32:04.223Z"
   },
   {
    "duration": 4,
    "start_time": "2025-03-18T19:32:04.390Z"
   },
   {
    "duration": 38,
    "start_time": "2025-03-18T19:32:04.569Z"
   },
   {
    "duration": 4,
    "start_time": "2025-03-18T19:32:04.792Z"
   },
   {
    "duration": 5,
    "start_time": "2025-03-18T19:32:05.305Z"
   },
   {
    "duration": 5,
    "start_time": "2025-03-18T19:32:05.559Z"
   },
   {
    "duration": 43,
    "start_time": "2025-03-18T19:32:11.119Z"
   },
   {
    "duration": 12,
    "start_time": "2025-03-18T19:32:11.274Z"
   },
   {
    "duration": 20,
    "start_time": "2025-03-18T19:32:11.453Z"
   },
   {
    "duration": 7,
    "start_time": "2025-03-18T19:32:11.826Z"
   },
   {
    "duration": 3,
    "start_time": "2025-03-18T19:32:12.160Z"
   },
   {
    "duration": 3,
    "start_time": "2025-03-18T19:32:12.323Z"
   },
   {
    "duration": 3,
    "start_time": "2025-03-18T19:32:12.484Z"
   },
   {
    "duration": 38,
    "start_time": "2025-03-18T19:32:12.651Z"
   },
   {
    "duration": 4,
    "start_time": "2025-03-18T19:32:12.822Z"
   },
   {
    "duration": 5,
    "start_time": "2025-03-18T19:32:13.018Z"
   },
   {
    "duration": 4,
    "start_time": "2025-03-18T19:32:13.368Z"
   },
   {
    "duration": 41,
    "start_time": "2025-03-18T19:32:28.072Z"
   },
   {
    "duration": 11,
    "start_time": "2025-03-18T19:32:28.418Z"
   },
   {
    "duration": 22,
    "start_time": "2025-03-18T19:32:28.630Z"
   },
   {
    "duration": 6,
    "start_time": "2025-03-18T19:32:29.009Z"
   },
   {
    "duration": 2,
    "start_time": "2025-03-18T19:32:29.344Z"
   },
   {
    "duration": 2,
    "start_time": "2025-03-18T19:32:29.502Z"
   },
   {
    "duration": 3,
    "start_time": "2025-03-18T19:32:29.674Z"
   },
   {
    "duration": 36,
    "start_time": "2025-03-18T19:32:29.852Z"
   },
   {
    "duration": 4,
    "start_time": "2025-03-18T19:32:30.006Z"
   },
   {
    "duration": 5,
    "start_time": "2025-03-18T19:32:30.188Z"
   },
   {
    "duration": 5,
    "start_time": "2025-03-18T19:32:30.434Z"
   },
   {
    "duration": 41,
    "start_time": "2025-03-18T19:32:54.136Z"
   },
   {
    "duration": 10,
    "start_time": "2025-03-18T19:32:54.303Z"
   },
   {
    "duration": 22,
    "start_time": "2025-03-18T19:32:54.476Z"
   },
   {
    "duration": 6,
    "start_time": "2025-03-18T19:32:54.808Z"
   },
   {
    "duration": 3,
    "start_time": "2025-03-18T19:32:55.117Z"
   },
   {
    "duration": 3,
    "start_time": "2025-03-18T19:32:55.271Z"
   },
   {
    "duration": 2,
    "start_time": "2025-03-18T19:32:55.423Z"
   },
   {
    "duration": 37,
    "start_time": "2025-03-18T19:32:55.587Z"
   },
   {
    "duration": 5,
    "start_time": "2025-03-18T19:32:55.737Z"
   },
   {
    "duration": 5,
    "start_time": "2025-03-18T19:32:55.900Z"
   },
   {
    "duration": 4,
    "start_time": "2025-03-18T19:32:56.344Z"
   },
   {
    "duration": 43,
    "start_time": "2025-03-18T19:33:10.334Z"
   },
   {
    "duration": 11,
    "start_time": "2025-03-18T19:33:10.474Z"
   },
   {
    "duration": 21,
    "start_time": "2025-03-18T19:33:10.623Z"
   },
   {
    "duration": 6,
    "start_time": "2025-03-18T19:33:10.927Z"
   },
   {
    "duration": 3,
    "start_time": "2025-03-18T19:33:11.267Z"
   },
   {
    "duration": 3,
    "start_time": "2025-03-18T19:33:11.575Z"
   },
   {
    "duration": 2,
    "start_time": "2025-03-18T19:33:12.001Z"
   },
   {
    "duration": 88,
    "start_time": "2025-03-18T19:33:12.285Z"
   },
   {
    "duration": 4,
    "start_time": "2025-03-18T19:33:12.585Z"
   },
   {
    "duration": 5,
    "start_time": "2025-03-18T19:33:13.001Z"
   },
   {
    "duration": 5,
    "start_time": "2025-03-18T19:33:13.267Z"
   },
   {
    "duration": 42,
    "start_time": "2025-03-18T19:33:29.985Z"
   },
   {
    "duration": 14,
    "start_time": "2025-03-18T19:33:30.153Z"
   },
   {
    "duration": 30,
    "start_time": "2025-03-18T19:33:30.325Z"
   },
   {
    "duration": 7,
    "start_time": "2025-03-18T19:33:30.786Z"
   },
   {
    "duration": 3,
    "start_time": "2025-03-18T19:33:31.134Z"
   },
   {
    "duration": 3,
    "start_time": "2025-03-18T19:33:31.318Z"
   },
   {
    "duration": 3,
    "start_time": "2025-03-18T19:33:31.501Z"
   },
   {
    "duration": 384,
    "start_time": "2025-03-18T19:33:31.685Z"
   },
   {
    "duration": 93,
    "start_time": "2025-03-18T19:33:32.071Z"
   },
   {
    "duration": 97,
    "start_time": "2025-03-18T19:33:32.166Z"
   },
   {
    "duration": 23,
    "start_time": "2025-03-18T19:33:32.302Z"
   },
   {
    "duration": 44,
    "start_time": "2025-03-18T19:33:39.019Z"
   },
   {
    "duration": 24,
    "start_time": "2025-03-18T19:33:39.168Z"
   },
   {
    "duration": 40,
    "start_time": "2025-03-18T19:33:39.325Z"
   },
   {
    "duration": 7,
    "start_time": "2025-03-18T19:33:39.633Z"
   },
   {
    "duration": 3,
    "start_time": "2025-03-18T19:33:39.992Z"
   },
   {
    "duration": 45,
    "start_time": "2025-03-18T19:33:40.168Z"
   },
   {
    "duration": 3,
    "start_time": "2025-03-18T19:33:40.340Z"
   },
   {
    "duration": 568,
    "start_time": "2025-03-18T19:33:40.501Z"
   },
   {
    "duration": 95,
    "start_time": "2025-03-18T19:33:41.072Z"
   },
   {
    "duration": 157,
    "start_time": "2025-03-18T19:33:41.169Z"
   },
   {
    "duration": 144,
    "start_time": "2025-03-18T19:33:41.336Z"
   },
   {
    "duration": 42,
    "start_time": "2025-03-18T19:33:47.644Z"
   },
   {
    "duration": 25,
    "start_time": "2025-03-18T19:33:47.810Z"
   },
   {
    "duration": 38,
    "start_time": "2025-03-18T19:33:47.988Z"
   },
   {
    "duration": 8,
    "start_time": "2025-03-18T19:33:48.605Z"
   },
   {
    "duration": 4,
    "start_time": "2025-03-18T19:33:48.918Z"
   },
   {
    "duration": 3,
    "start_time": "2025-03-18T19:33:49.087Z"
   },
   {
    "duration": 3,
    "start_time": "2025-03-18T19:33:49.252Z"
   },
   {
    "duration": 541,
    "start_time": "2025-03-18T19:33:49.423Z"
   },
   {
    "duration": 95,
    "start_time": "2025-03-18T19:33:49.966Z"
   },
   {
    "duration": 151,
    "start_time": "2025-03-18T19:33:50.063Z"
   },
   {
    "duration": 41,
    "start_time": "2025-03-18T19:34:11.611Z"
   },
   {
    "duration": 17,
    "start_time": "2025-03-18T19:34:11.754Z"
   },
   {
    "duration": 35,
    "start_time": "2025-03-18T19:34:11.902Z"
   },
   {
    "duration": 7,
    "start_time": "2025-03-18T19:34:12.206Z"
   },
   {
    "duration": 3,
    "start_time": "2025-03-18T19:34:12.519Z"
   },
   {
    "duration": 3,
    "start_time": "2025-03-18T19:34:12.685Z"
   },
   {
    "duration": 3,
    "start_time": "2025-03-18T19:34:12.821Z"
   },
   {
    "duration": 583,
    "start_time": "2025-03-18T19:34:12.985Z"
   },
   {
    "duration": 94,
    "start_time": "2025-03-18T19:34:13.571Z"
   },
   {
    "duration": 99,
    "start_time": "2025-03-18T19:34:13.667Z"
   },
   {
    "duration": 4,
    "start_time": "2025-03-18T19:34:14.588Z"
   },
   {
    "duration": 41,
    "start_time": "2025-03-18T19:34:18.851Z"
   },
   {
    "duration": 19,
    "start_time": "2025-03-18T19:34:18.991Z"
   },
   {
    "duration": 35,
    "start_time": "2025-03-18T19:34:19.123Z"
   },
   {
    "duration": 7,
    "start_time": "2025-03-18T19:34:19.419Z"
   },
   {
    "duration": 2,
    "start_time": "2025-03-18T19:34:19.692Z"
   },
   {
    "duration": 3,
    "start_time": "2025-03-18T19:34:19.852Z"
   },
   {
    "duration": 3,
    "start_time": "2025-03-18T19:34:20.564Z"
   },
   {
    "duration": 1098,
    "start_time": "2025-03-18T19:34:20.570Z"
   },
   {
    "duration": 95,
    "start_time": "2025-03-18T19:34:21.670Z"
   },
   {
    "duration": 101,
    "start_time": "2025-03-18T19:34:21.767Z"
   },
   {
    "duration": 87,
    "start_time": "2025-03-18T19:34:21.877Z"
   },
   {
    "duration": 1333,
    "start_time": "2025-03-18T19:35:00.893Z"
   },
   {
    "duration": 34,
    "start_time": "2025-03-18T19:35:02.228Z"
   },
   {
    "duration": 40,
    "start_time": "2025-03-18T19:35:02.263Z"
   },
   {
    "duration": 35,
    "start_time": "2025-03-18T19:35:02.304Z"
   },
   {
    "duration": 9,
    "start_time": "2025-03-18T19:35:02.341Z"
   },
   {
    "duration": 87,
    "start_time": "2025-03-18T19:35:02.351Z"
   },
   {
    "duration": 14,
    "start_time": "2025-03-18T19:35:02.440Z"
   },
   {
    "duration": 71,
    "start_time": "2025-03-18T19:35:02.456Z"
   },
   {
    "duration": 73,
    "start_time": "2025-03-18T19:35:02.529Z"
   },
   {
    "duration": 371,
    "start_time": "2025-03-18T19:35:02.603Z"
   },
   {
    "duration": 5,
    "start_time": "2025-03-18T19:35:02.976Z"
   },
   {
    "duration": 824,
    "start_time": "2025-03-18T19:35:02.983Z"
   },
   {
    "duration": 167,
    "start_time": "2025-03-18T19:35:03.809Z"
   },
   {
    "duration": 20,
    "start_time": "2025-03-18T19:35:03.980Z"
   },
   {
    "duration": 67,
    "start_time": "2025-03-18T19:35:04.002Z"
   },
   {
    "duration": 17,
    "start_time": "2025-03-18T19:35:04.070Z"
   },
   {
    "duration": 14,
    "start_time": "2025-03-18T19:35:04.088Z"
   },
   {
    "duration": 105,
    "start_time": "2025-03-18T19:35:04.104Z"
   },
   {
    "duration": 0,
    "start_time": "2025-03-18T19:35:04.211Z"
   },
   {
    "duration": 0,
    "start_time": "2025-03-18T19:35:04.212Z"
   },
   {
    "duration": 0,
    "start_time": "2025-03-18T19:35:04.213Z"
   },
   {
    "duration": 0,
    "start_time": "2025-03-18T19:35:04.214Z"
   },
   {
    "duration": 0,
    "start_time": "2025-03-18T19:35:04.215Z"
   },
   {
    "duration": 3,
    "start_time": "2025-03-18T19:35:20.578Z"
   },
   {
    "duration": 3,
    "start_time": "2025-03-18T19:35:22.302Z"
   },
   {
    "duration": 25609,
    "start_time": "2025-03-18T19:35:22.855Z"
   },
   {
    "duration": 3,
    "start_time": "2025-03-18T19:35:53.081Z"
   },
   {
    "duration": 12,
    "start_time": "2025-03-18T19:35:53.901Z"
   },
   {
    "duration": 3,
    "start_time": "2025-03-18T19:35:54.473Z"
   },
   {
    "duration": 1392,
    "start_time": "2025-03-18T19:42:22.419Z"
   },
   {
    "duration": 34,
    "start_time": "2025-03-18T19:42:23.813Z"
   },
   {
    "duration": 25,
    "start_time": "2025-03-18T19:42:23.848Z"
   },
   {
    "duration": 56,
    "start_time": "2025-03-18T19:42:23.875Z"
   },
   {
    "duration": 9,
    "start_time": "2025-03-18T19:42:23.934Z"
   },
   {
    "duration": 36,
    "start_time": "2025-03-18T19:42:23.945Z"
   },
   {
    "duration": 29,
    "start_time": "2025-03-18T19:42:23.982Z"
   },
   {
    "duration": 18,
    "start_time": "2025-03-18T19:42:24.013Z"
   },
   {
    "duration": 6,
    "start_time": "2025-03-18T19:42:24.032Z"
   },
   {
    "duration": 250,
    "start_time": "2025-03-18T19:42:24.039Z"
   },
   {
    "duration": 5,
    "start_time": "2025-03-18T19:42:24.291Z"
   },
   {
    "duration": 833,
    "start_time": "2025-03-18T19:42:24.298Z"
   },
   {
    "duration": 160,
    "start_time": "2025-03-18T19:42:25.133Z"
   },
   {
    "duration": 23,
    "start_time": "2025-03-18T19:42:25.296Z"
   },
   {
    "duration": 119,
    "start_time": "2025-03-18T19:42:25.321Z"
   },
   {
    "duration": 7,
    "start_time": "2025-03-18T19:42:25.442Z"
   },
   {
    "duration": 32,
    "start_time": "2025-03-18T19:42:25.451Z"
   },
   {
    "duration": 4,
    "start_time": "2025-03-18T19:42:25.485Z"
   },
   {
    "duration": 9,
    "start_time": "2025-03-18T19:42:25.491Z"
   },
   {
    "duration": 26063,
    "start_time": "2025-03-18T19:42:25.501Z"
   },
   {
    "duration": 5,
    "start_time": "2025-03-18T19:42:51.567Z"
   },
   {
    "duration": 96,
    "start_time": "2025-03-18T19:42:51.573Z"
   },
   {
    "duration": 98,
    "start_time": "2025-03-18T19:42:51.671Z"
   },
   {
    "duration": 49,
    "start_time": "2025-03-18T21:03:28.742Z"
   },
   {
    "duration": 1596,
    "start_time": "2025-03-18T21:03:33.840Z"
   },
   {
    "duration": 112,
    "start_time": "2025-03-18T21:03:38.037Z"
   },
   {
    "duration": 12,
    "start_time": "2025-03-18T21:03:38.430Z"
   },
   {
    "duration": 13,
    "start_time": "2025-03-18T21:03:38.601Z"
   },
   {
    "duration": 8,
    "start_time": "2025-03-18T21:03:38.973Z"
   },
   {
    "duration": 13,
    "start_time": "2025-03-18T21:03:39.286Z"
   },
   {
    "duration": 10,
    "start_time": "2025-03-18T21:03:39.602Z"
   },
   {
    "duration": 9,
    "start_time": "2025-03-18T21:03:39.943Z"
   },
   {
    "duration": 7,
    "start_time": "2025-03-18T21:03:40.102Z"
   },
   {
    "duration": 280,
    "start_time": "2025-03-18T21:03:41.638Z"
   },
   {
    "duration": 5,
    "start_time": "2025-03-18T21:04:07.888Z"
   },
   {
    "duration": 884,
    "start_time": "2025-03-18T21:04:08.406Z"
   },
   {
    "duration": 174,
    "start_time": "2025-03-18T21:04:10.658Z"
   },
   {
    "duration": 167,
    "start_time": "2025-03-18T21:04:23.562Z"
   },
   {
    "duration": 174,
    "start_time": "2025-03-18T21:04:33.306Z"
   },
   {
    "duration": 179,
    "start_time": "2025-03-18T21:04:35.572Z"
   },
   {
    "duration": 26,
    "start_time": "2025-03-18T21:12:43.514Z"
   },
   {
    "duration": 226,
    "start_time": "2025-03-18T21:13:00.494Z"
   },
   {
    "duration": 5,
    "start_time": "2025-03-18T21:16:28.375Z"
   },
   {
    "duration": 838,
    "start_time": "2025-03-18T21:16:40.805Z"
   },
   {
    "duration": 1360,
    "start_time": "2025-03-18T21:17:14.563Z"
   },
   {
    "duration": 898,
    "start_time": "2025-03-18T21:17:20.367Z"
   },
   {
    "duration": 1491,
    "start_time": "2025-03-18T21:18:20.462Z"
   },
   {
    "duration": 34,
    "start_time": "2025-03-18T21:18:21.955Z"
   },
   {
    "duration": 12,
    "start_time": "2025-03-18T21:18:21.990Z"
   },
   {
    "duration": 13,
    "start_time": "2025-03-18T21:18:22.003Z"
   },
   {
    "duration": 8,
    "start_time": "2025-03-18T21:18:22.018Z"
   },
   {
    "duration": 20,
    "start_time": "2025-03-18T21:18:22.027Z"
   },
   {
    "duration": 30,
    "start_time": "2025-03-18T21:18:22.049Z"
   },
   {
    "duration": 10,
    "start_time": "2025-03-18T21:18:22.081Z"
   },
   {
    "duration": 6,
    "start_time": "2025-03-18T21:18:22.092Z"
   },
   {
    "duration": 281,
    "start_time": "2025-03-18T21:18:22.100Z"
   },
   {
    "duration": 4,
    "start_time": "2025-03-18T21:18:22.383Z"
   },
   {
    "duration": 841,
    "start_time": "2025-03-18T21:18:22.389Z"
   },
   {
    "duration": 184,
    "start_time": "2025-03-18T21:18:23.231Z"
   },
   {
    "duration": 185,
    "start_time": "2025-03-18T21:18:23.418Z"
   },
   {
    "duration": 846,
    "start_time": "2025-03-18T21:18:23.604Z"
   },
   {
    "duration": 26,
    "start_time": "2025-03-18T21:18:24.452Z"
   },
   {
    "duration": 38,
    "start_time": "2025-03-18T21:18:24.479Z"
   },
   {
    "duration": 7,
    "start_time": "2025-03-18T21:18:24.518Z"
   },
   {
    "duration": 4,
    "start_time": "2025-03-18T21:18:24.527Z"
   },
   {
    "duration": 11,
    "start_time": "2025-03-18T21:18:24.532Z"
   },
   {
    "duration": 4,
    "start_time": "2025-03-18T21:18:24.544Z"
   },
   {
    "duration": 25845,
    "start_time": "2025-03-18T21:18:24.549Z"
   },
   {
    "duration": 3,
    "start_time": "2025-03-18T21:18:50.396Z"
   },
   {
    "duration": 6,
    "start_time": "2025-03-18T21:18:50.401Z"
   },
   {
    "duration": 70,
    "start_time": "2025-03-18T21:18:50.409Z"
   },
   {
    "duration": 140,
    "start_time": "2025-03-18T21:24:32.785Z"
   },
   {
    "duration": 10,
    "start_time": "2025-03-18T21:24:39.234Z"
   },
   {
    "duration": 5,
    "start_time": "2025-03-18T21:27:42.229Z"
   },
   {
    "duration": 5,
    "start_time": "2025-03-18T21:27:42.700Z"
   }
  ],
  "kernelspec": {
   "display_name": "Python 3 (ipykernel)",
   "language": "python",
   "name": "python3"
  },
  "language_info": {
   "codemirror_mode": {
    "name": "ipython",
    "version": 3
   },
   "file_extension": ".py",
   "mimetype": "text/x-python",
   "name": "python",
   "nbconvert_exporter": "python",
   "pygments_lexer": "ipython3",
   "version": "3.11.10"
  },
  "toc": {
   "base_numbering": 1,
   "nav_menu": {},
   "number_sections": true,
   "sideBar": true,
   "skip_h1_title": true,
   "title_cell": "Содержание",
   "title_sidebar": "Содержание",
   "toc_cell": true,
   "toc_position": {
    "height": "calc(100% - 180px)",
    "left": "10px",
    "top": "150px",
    "width": "165px"
   },
   "toc_section_display": true,
   "toc_window_display": true
  }
 },
 "nbformat": 4,
 "nbformat_minor": 2
}
